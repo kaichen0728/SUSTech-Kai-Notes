{
 "cells": [
  {
   "cell_type": "markdown",
   "metadata": {},
   "source": [
    "# Lecture 3 Pandas"
   ]
  },
  {
   "cell_type": "code",
   "execution_count": 7,
   "metadata": {},
   "outputs": [],
   "source": [
    "import numpy as np\n",
    "\n",
    "import pandas as pd"
   ]
  },
  {
   "cell_type": "markdown",
   "metadata": {},
   "source": [
    "Pandas 主要有两种数据类型：Series 和 DataFrame。\n",
    "\n",
    "1. Series:\n",
    "\n",
    "* 一维带标签数组: Series 可以理解为一个带标签的一维数组，可以存储各种数据类型（整数、浮点数、字符串、布尔值等）。标签是索引，可以是数字、字符串或日期时间等。\n",
    "* 类似于字典: Series 可以类似于字典一样通过标签（键）访问数据（值）。\n",
    "* 创建 Series: 可以通过多种方式创建 Series，例如从列表、NumPy 数组、字典等。"
   ]
  },
  {
   "cell_type": "code",
   "execution_count": 8,
   "metadata": {},
   "outputs": [
    {
     "name": "stdout",
     "output_type": "stream",
     "text": [
      "0    1.0\n",
      "1    3.0\n",
      "2    5.0\n",
      "3    NaN\n",
      "4    6.0\n",
      "5    8.0\n",
      "dtype: float64\n",
      "a    0.0\n",
      "b    1.0\n",
      "c    2.0\n",
      "dtype: float64\n",
      "a    1.0\n",
      "b    3.0\n",
      "c    5.0\n",
      "d    NaN\n",
      "e    6.0\n",
      "f    8.0\n",
      "dtype: float64\n"
     ]
    }
   ],
   "source": [
    "import pandas as pd\n",
    "import numpy as np\n",
    "\n",
    "# 从列表创建 Series\n",
    "s = pd.Series([1, 3, 5, np.nan, 6, 8])\n",
    "print(s)\n",
    "\n",
    "# 从字典创建 Series\n",
    "data = {'a': 0., 'b': 1., 'c': 2.}\n",
    "s = pd.Series(data)\n",
    "print(s)\n",
    "\n",
    "# 指定索引\n",
    "s = pd.Series([1, 3, 5, np.nan, 6, 8], index=['a', 'b', 'c', 'd', 'e', 'f'])\n",
    "print(s)\n"
   ]
  },
  {
   "cell_type": "markdown",
   "metadata": {},
   "source": [
    "2. DataFrame:\n",
    "\n",
    "* 二维带标签表格数据: DataFrame 是一个二维的带标签数据结构，类似于关系型数据库中的表格或电子表格。它由多个 Series 组成，共享相同的索引。\n",
    "* 每列可以是不同的数据类型: DataFrame 的每一列可以存储不同类型的数据，例如一列存储字符串，另一列存储数字。\n",
    "* 创建 DataFrame: 可以通过多种方式创建 DataFrame，例如从字典、列表、NumPy 数组、Series 或其他 DataFrame。"
   ]
  },
  {
   "cell_type": "code",
   "execution_count": 9,
   "metadata": {},
   "outputs": [
    {
     "name": "stdout",
     "output_type": "stream",
     "text": [
      "      Name  Age      City\n",
      "0    Alice   25  New York\n",
      "1      Bob   30    London\n",
      "2  Charlie   28     Paris\n",
      "      Name  Age      City\n",
      "0    Alice   25  New York\n",
      "1      Bob   30    London\n",
      "2  Charlie   28     Paris\n"
     ]
    }
   ],
   "source": [
    "import pandas as pd\n",
    "\n",
    "# 从字典创建 DataFrame\n",
    "data = {'Name': ['Alice', 'Bob', 'Charlie'],\n",
    "        'Age': [25, 30, 28],\n",
    "        'City': ['New York', 'London', 'Paris']}\n",
    "df = pd.DataFrame(data)\n",
    "print(df)\n",
    "\n",
    "# 从列表创建 DataFrame\n",
    "data = [['Alice', 25, 'New York'],\n",
    "        ['Bob', 30, 'London'],\n",
    "        ['Charlie', 28, 'Paris']]\n",
    "df = pd.DataFrame(data, columns=['Name', 'Age', 'City'])\n",
    "print(df)\n"
   ]
  },
  {
   "cell_type": "markdown",
   "metadata": {},
   "source": [
    "这两个数据结构是 Pandas 的核心，提供了丰富的数据操作和分析功能，例如数据清洗、转换、聚合、统计分析等等。  理解 Series 和 DataFrame 是学习和使用 Pandas 的基础."
   ]
  },
  {
   "cell_type": "markdown",
   "metadata": {},
   "source": [
    "## Object creation\n",
    "\n",
    "Creating a Series by passing a list of values, letting pandas create a default RangeIndex."
   ]
  },
  {
   "cell_type": "code",
   "execution_count": 10,
   "metadata": {},
   "outputs": [],
   "source": [
    "s = pd.Series([1, 3, 5, np.nan, 6, 8])"
   ]
  },
  {
   "cell_type": "code",
   "execution_count": 11,
   "metadata": {},
   "outputs": [
    {
     "data": {
      "text/plain": [
       "0    1.0\n",
       "1    3.0\n",
       "2    5.0\n",
       "3    NaN\n",
       "4    6.0\n",
       "5    8.0\n",
       "dtype: float64"
      ]
     },
     "execution_count": 11,
     "metadata": {},
     "output_type": "execute_result"
    }
   ],
   "source": [
    "s"
   ]
  },
  {
   "cell_type": "code",
   "execution_count": 12,
   "metadata": {},
   "outputs": [
    {
     "name": "stdout",
     "output_type": "stream",
     "text": [
      "     Name  Age       City\n",
      "0     Amy   25    Beijing\n",
      "1  Daming   30   Shanghai\n",
      "2     Bob   35  Guangzhou\n"
     ]
    }
   ],
   "source": [
    "data = {\n",
    "    'Name': ['Amy', 'Daming', 'Bob'],\n",
    "    'Age': [25, 30, 35],\n",
    "    'City': ['Beijing', 'Shanghai', 'Guangzhou']\n",
    "} # 字典\n",
    "df = pd.DataFrame(data)\n",
    "print(df)"
   ]
  },
  {
   "cell_type": "code",
   "execution_count": 13,
   "metadata": {},
   "outputs": [
    {
     "name": "stdout",
     "output_type": "stream",
     "text": [
      "DatetimeIndex(['2025-03-04', '2025-03-05', '2025-03-06', '2025-03-07',\n",
      "               '2025-03-08', '2025-03-09'],\n",
      "              dtype='datetime64[ns]', freq='D')\n"
     ]
    }
   ],
   "source": [
    "dates = pd.date_range('20250304', periods=6)\n",
    "print(dates)"
   ]
  },
  {
   "cell_type": "code",
   "execution_count": 41,
   "metadata": {},
   "outputs": [
    {
     "name": "stdout",
     "output_type": "stream",
     "text": [
      "                   A         B         C         D\n",
      "2025-03-04 -0.957528 -1.369764  0.140636  0.448950\n",
      "2025-03-05  0.738540  0.264259 -1.165556 -0.466378\n",
      "2025-03-06 -1.093770  1.721826 -0.709783  1.112491\n",
      "2025-03-07 -0.781910  0.812508 -0.247565 -1.000344\n",
      "2025-03-08 -0.379704 -1.742474 -1.236912 -0.655909\n",
      "2025-03-09 -1.734585 -0.206990  0.801452 -0.671617\n"
     ]
    }
   ],
   "source": [
    "df = pd.DataFrame(np.random.randn(6, 4), index=dates, columns=list('ABCD'))\n",
    "print(df)"
   ]
  },
  {
   "cell_type": "code",
   "execution_count": 15,
   "metadata": {},
   "outputs": [
    {
     "name": "stdout",
     "output_type": "stream",
     "text": [
      "DatetimeIndex(['2025-03-04', '2025-03-05', '2025-03-06', '2025-03-07',\n",
      "               '2025-03-08', '2025-03-09'],\n",
      "              dtype='datetime64[ns]', freq='D')\n",
      "Index(['A', 'B', 'C', 'D'], dtype='object')\n",
      "<bound method DataFrame.to_numpy of                    A         B         C         D\n",
      "2025-03-04 -0.240391 -0.954881 -0.528938 -0.859948\n",
      "2025-03-05 -1.011833 -0.521639  0.280667 -2.634893\n",
      "2025-03-06  0.614858  1.527944  0.621165 -0.953350\n",
      "2025-03-07 -0.684380 -1.635435  0.564540  0.711832\n",
      "2025-03-08  0.737706 -1.268801  1.879534 -0.164479\n",
      "2025-03-09 -0.100336  0.325176 -0.027000 -0.762963>\n"
     ]
    }
   ],
   "source": [
    "print(df.index)\n",
    "print(df.columns)\n",
    "print(df.to_numpy)"
   ]
  },
  {
   "cell_type": "code",
   "execution_count": 16,
   "metadata": {},
   "outputs": [
    {
     "data": {
      "text/html": [
       "<div>\n",
       "<style scoped>\n",
       "    .dataframe tbody tr th:only-of-type {\n",
       "        vertical-align: middle;\n",
       "    }\n",
       "\n",
       "    .dataframe tbody tr th {\n",
       "        vertical-align: top;\n",
       "    }\n",
       "\n",
       "    .dataframe thead th {\n",
       "        text-align: right;\n",
       "    }\n",
       "</style>\n",
       "<table border=\"1\" class=\"dataframe\">\n",
       "  <thead>\n",
       "    <tr style=\"text-align: right;\">\n",
       "      <th></th>\n",
       "      <th>A</th>\n",
       "      <th>B</th>\n",
       "      <th>C</th>\n",
       "      <th>D</th>\n",
       "    </tr>\n",
       "  </thead>\n",
       "  <tbody>\n",
       "    <tr>\n",
       "      <th>2025-03-04</th>\n",
       "      <td>-0.240391</td>\n",
       "      <td>-0.954881</td>\n",
       "      <td>-0.528938</td>\n",
       "      <td>-0.859948</td>\n",
       "    </tr>\n",
       "    <tr>\n",
       "      <th>2025-03-05</th>\n",
       "      <td>-1.011833</td>\n",
       "      <td>-0.521639</td>\n",
       "      <td>0.280667</td>\n",
       "      <td>-2.634893</td>\n",
       "    </tr>\n",
       "  </tbody>\n",
       "</table>\n",
       "</div>"
      ],
      "text/plain": [
       "                   A         B         C         D\n",
       "2025-03-04 -0.240391 -0.954881 -0.528938 -0.859948\n",
       "2025-03-05 -1.011833 -0.521639  0.280667 -2.634893"
      ]
     },
     "execution_count": 16,
     "metadata": {},
     "output_type": "execute_result"
    }
   ],
   "source": [
    "df.head(2)"
   ]
  },
  {
   "cell_type": "code",
   "execution_count": 17,
   "metadata": {},
   "outputs": [
    {
     "data": {
      "text/html": [
       "<div>\n",
       "<style scoped>\n",
       "    .dataframe tbody tr th:only-of-type {\n",
       "        vertical-align: middle;\n",
       "    }\n",
       "\n",
       "    .dataframe tbody tr th {\n",
       "        vertical-align: top;\n",
       "    }\n",
       "\n",
       "    .dataframe thead th {\n",
       "        text-align: right;\n",
       "    }\n",
       "</style>\n",
       "<table border=\"1\" class=\"dataframe\">\n",
       "  <thead>\n",
       "    <tr style=\"text-align: right;\">\n",
       "      <th></th>\n",
       "      <th>A</th>\n",
       "      <th>B</th>\n",
       "      <th>C</th>\n",
       "      <th>D</th>\n",
       "    </tr>\n",
       "  </thead>\n",
       "  <tbody>\n",
       "    <tr>\n",
       "      <th>2025-03-04</th>\n",
       "      <td>-0.240391</td>\n",
       "      <td>-0.954881</td>\n",
       "      <td>-0.528938</td>\n",
       "      <td>-0.859948</td>\n",
       "    </tr>\n",
       "    <tr>\n",
       "      <th>2025-03-05</th>\n",
       "      <td>-1.011833</td>\n",
       "      <td>-0.521639</td>\n",
       "      <td>0.280667</td>\n",
       "      <td>-2.634893</td>\n",
       "    </tr>\n",
       "    <tr>\n",
       "      <th>2025-03-06</th>\n",
       "      <td>0.614858</td>\n",
       "      <td>1.527944</td>\n",
       "      <td>0.621165</td>\n",
       "      <td>-0.953350</td>\n",
       "    </tr>\n",
       "    <tr>\n",
       "      <th>2025-03-07</th>\n",
       "      <td>-0.684380</td>\n",
       "      <td>-1.635435</td>\n",
       "      <td>0.564540</td>\n",
       "      <td>0.711832</td>\n",
       "    </tr>\n",
       "    <tr>\n",
       "      <th>2025-03-08</th>\n",
       "      <td>0.737706</td>\n",
       "      <td>-1.268801</td>\n",
       "      <td>1.879534</td>\n",
       "      <td>-0.164479</td>\n",
       "    </tr>\n",
       "  </tbody>\n",
       "</table>\n",
       "</div>"
      ],
      "text/plain": [
       "                   A         B         C         D\n",
       "2025-03-04 -0.240391 -0.954881 -0.528938 -0.859948\n",
       "2025-03-05 -1.011833 -0.521639  0.280667 -2.634893\n",
       "2025-03-06  0.614858  1.527944  0.621165 -0.953350\n",
       "2025-03-07 -0.684380 -1.635435  0.564540  0.711832\n",
       "2025-03-08  0.737706 -1.268801  1.879534 -0.164479"
      ]
     },
     "execution_count": 17,
     "metadata": {},
     "output_type": "execute_result"
    }
   ],
   "source": [
    "df.head() # 默认前5行 "
   ]
  },
  {
   "cell_type": "code",
   "execution_count": 18,
   "metadata": {},
   "outputs": [
    {
     "data": {
      "text/html": [
       "<div>\n",
       "<style scoped>\n",
       "    .dataframe tbody tr th:only-of-type {\n",
       "        vertical-align: middle;\n",
       "    }\n",
       "\n",
       "    .dataframe tbody tr th {\n",
       "        vertical-align: top;\n",
       "    }\n",
       "\n",
       "    .dataframe thead th {\n",
       "        text-align: right;\n",
       "    }\n",
       "</style>\n",
       "<table border=\"1\" class=\"dataframe\">\n",
       "  <thead>\n",
       "    <tr style=\"text-align: right;\">\n",
       "      <th></th>\n",
       "      <th>A</th>\n",
       "      <th>B</th>\n",
       "      <th>C</th>\n",
       "      <th>D</th>\n",
       "    </tr>\n",
       "  </thead>\n",
       "  <tbody>\n",
       "    <tr>\n",
       "      <th>2025-03-07</th>\n",
       "      <td>-0.684380</td>\n",
       "      <td>-1.635435</td>\n",
       "      <td>0.564540</td>\n",
       "      <td>0.711832</td>\n",
       "    </tr>\n",
       "    <tr>\n",
       "      <th>2025-03-08</th>\n",
       "      <td>0.737706</td>\n",
       "      <td>-1.268801</td>\n",
       "      <td>1.879534</td>\n",
       "      <td>-0.164479</td>\n",
       "    </tr>\n",
       "    <tr>\n",
       "      <th>2025-03-09</th>\n",
       "      <td>-0.100336</td>\n",
       "      <td>0.325176</td>\n",
       "      <td>-0.027000</td>\n",
       "      <td>-0.762963</td>\n",
       "    </tr>\n",
       "  </tbody>\n",
       "</table>\n",
       "</div>"
      ],
      "text/plain": [
       "                   A         B         C         D\n",
       "2025-03-07 -0.684380 -1.635435  0.564540  0.711832\n",
       "2025-03-08  0.737706 -1.268801  1.879534 -0.164479\n",
       "2025-03-09 -0.100336  0.325176 -0.027000 -0.762963"
      ]
     },
     "execution_count": 18,
     "metadata": {},
     "output_type": "execute_result"
    }
   ],
   "source": [
    "df.tail(3)"
   ]
  },
  {
   "cell_type": "code",
   "execution_count": 19,
   "metadata": {},
   "outputs": [
    {
     "data": {
      "text/plain": [
       "array([[-0.24039083, -0.95488116, -0.52893765, -0.85994784],\n",
       "       [-1.01183278, -0.52163862,  0.28066653, -2.6348925 ],\n",
       "       [ 0.61485834,  1.52794396,  0.62116534, -0.95334997],\n",
       "       [-0.68437969, -1.63543491,  0.56453972,  0.7118325 ],\n",
       "       [ 0.73770644, -1.26880078,  1.87953438, -0.16447856],\n",
       "       [-0.10033584,  0.32517572, -0.0270003 , -0.76296284]])"
      ]
     },
     "execution_count": 19,
     "metadata": {},
     "output_type": "execute_result"
    }
   ],
   "source": [
    "df.to_numpy()"
   ]
  },
  {
   "cell_type": "code",
   "execution_count": 20,
   "metadata": {},
   "outputs": [
    {
     "data": {
      "text/html": [
       "<div>\n",
       "<style scoped>\n",
       "    .dataframe tbody tr th:only-of-type {\n",
       "        vertical-align: middle;\n",
       "    }\n",
       "\n",
       "    .dataframe tbody tr th {\n",
       "        vertical-align: top;\n",
       "    }\n",
       "\n",
       "    .dataframe thead th {\n",
       "        text-align: right;\n",
       "    }\n",
       "</style>\n",
       "<table border=\"1\" class=\"dataframe\">\n",
       "  <thead>\n",
       "    <tr style=\"text-align: right;\">\n",
       "      <th></th>\n",
       "      <th>A</th>\n",
       "      <th>B</th>\n",
       "      <th>C</th>\n",
       "      <th>D</th>\n",
       "    </tr>\n",
       "  </thead>\n",
       "  <tbody>\n",
       "    <tr>\n",
       "      <th>count</th>\n",
       "      <td>6.000000</td>\n",
       "      <td>6.000000</td>\n",
       "      <td>6.000000</td>\n",
       "      <td>6.000000</td>\n",
       "    </tr>\n",
       "    <tr>\n",
       "      <th>mean</th>\n",
       "      <td>-0.114062</td>\n",
       "      <td>-0.421273</td>\n",
       "      <td>0.464995</td>\n",
       "      <td>-0.777300</td>\n",
       "    </tr>\n",
       "    <tr>\n",
       "      <th>std</th>\n",
       "      <td>0.693432</td>\n",
       "      <td>1.169952</td>\n",
       "      <td>0.812300</td>\n",
       "      <td>1.102882</td>\n",
       "    </tr>\n",
       "    <tr>\n",
       "      <th>min</th>\n",
       "      <td>-1.011833</td>\n",
       "      <td>-1.635435</td>\n",
       "      <td>-0.528938</td>\n",
       "      <td>-2.634893</td>\n",
       "    </tr>\n",
       "    <tr>\n",
       "      <th>25%</th>\n",
       "      <td>-0.573382</td>\n",
       "      <td>-1.190321</td>\n",
       "      <td>0.049916</td>\n",
       "      <td>-0.929999</td>\n",
       "    </tr>\n",
       "    <tr>\n",
       "      <th>50%</th>\n",
       "      <td>-0.170363</td>\n",
       "      <td>-0.738260</td>\n",
       "      <td>0.422603</td>\n",
       "      <td>-0.811455</td>\n",
       "    </tr>\n",
       "    <tr>\n",
       "      <th>75%</th>\n",
       "      <td>0.436060</td>\n",
       "      <td>0.113472</td>\n",
       "      <td>0.607009</td>\n",
       "      <td>-0.314100</td>\n",
       "    </tr>\n",
       "    <tr>\n",
       "      <th>max</th>\n",
       "      <td>0.737706</td>\n",
       "      <td>1.527944</td>\n",
       "      <td>1.879534</td>\n",
       "      <td>0.711832</td>\n",
       "    </tr>\n",
       "  </tbody>\n",
       "</table>\n",
       "</div>"
      ],
      "text/plain": [
       "              A         B         C         D\n",
       "count  6.000000  6.000000  6.000000  6.000000\n",
       "mean  -0.114062 -0.421273  0.464995 -0.777300\n",
       "std    0.693432  1.169952  0.812300  1.102882\n",
       "min   -1.011833 -1.635435 -0.528938 -2.634893\n",
       "25%   -0.573382 -1.190321  0.049916 -0.929999\n",
       "50%   -0.170363 -0.738260  0.422603 -0.811455\n",
       "75%    0.436060  0.113472  0.607009 -0.314100\n",
       "max    0.737706  1.527944  1.879534  0.711832"
      ]
     },
     "execution_count": 20,
     "metadata": {},
     "output_type": "execute_result"
    }
   ],
   "source": [
    "df.describe()"
   ]
  },
  {
   "cell_type": "code",
   "execution_count": 21,
   "metadata": {},
   "outputs": [
    {
     "data": {
      "text/html": [
       "<div>\n",
       "<style scoped>\n",
       "    .dataframe tbody tr th:only-of-type {\n",
       "        vertical-align: middle;\n",
       "    }\n",
       "\n",
       "    .dataframe tbody tr th {\n",
       "        vertical-align: top;\n",
       "    }\n",
       "\n",
       "    .dataframe thead th {\n",
       "        text-align: right;\n",
       "    }\n",
       "</style>\n",
       "<table border=\"1\" class=\"dataframe\">\n",
       "  <thead>\n",
       "    <tr style=\"text-align: right;\">\n",
       "      <th></th>\n",
       "      <th>2025-03-04</th>\n",
       "      <th>2025-03-05</th>\n",
       "      <th>2025-03-06</th>\n",
       "      <th>2025-03-07</th>\n",
       "      <th>2025-03-08</th>\n",
       "      <th>2025-03-09</th>\n",
       "    </tr>\n",
       "  </thead>\n",
       "  <tbody>\n",
       "    <tr>\n",
       "      <th>A</th>\n",
       "      <td>-0.240391</td>\n",
       "      <td>-1.011833</td>\n",
       "      <td>0.614858</td>\n",
       "      <td>-0.684380</td>\n",
       "      <td>0.737706</td>\n",
       "      <td>-0.100336</td>\n",
       "    </tr>\n",
       "    <tr>\n",
       "      <th>B</th>\n",
       "      <td>-0.954881</td>\n",
       "      <td>-0.521639</td>\n",
       "      <td>1.527944</td>\n",
       "      <td>-1.635435</td>\n",
       "      <td>-1.268801</td>\n",
       "      <td>0.325176</td>\n",
       "    </tr>\n",
       "    <tr>\n",
       "      <th>C</th>\n",
       "      <td>-0.528938</td>\n",
       "      <td>0.280667</td>\n",
       "      <td>0.621165</td>\n",
       "      <td>0.564540</td>\n",
       "      <td>1.879534</td>\n",
       "      <td>-0.027000</td>\n",
       "    </tr>\n",
       "    <tr>\n",
       "      <th>D</th>\n",
       "      <td>-0.859948</td>\n",
       "      <td>-2.634893</td>\n",
       "      <td>-0.953350</td>\n",
       "      <td>0.711832</td>\n",
       "      <td>-0.164479</td>\n",
       "      <td>-0.762963</td>\n",
       "    </tr>\n",
       "  </tbody>\n",
       "</table>\n",
       "</div>"
      ],
      "text/plain": [
       "   2025-03-04  2025-03-05  2025-03-06  2025-03-07  2025-03-08  2025-03-09\n",
       "A   -0.240391   -1.011833    0.614858   -0.684380    0.737706   -0.100336\n",
       "B   -0.954881   -0.521639    1.527944   -1.635435   -1.268801    0.325176\n",
       "C   -0.528938    0.280667    0.621165    0.564540    1.879534   -0.027000\n",
       "D   -0.859948   -2.634893   -0.953350    0.711832   -0.164479   -0.762963"
      ]
     },
     "execution_count": 21,
     "metadata": {},
     "output_type": "execute_result"
    }
   ],
   "source": [
    "df.T"
   ]
  },
  {
   "cell_type": "code",
   "execution_count": 22,
   "metadata": {},
   "outputs": [
    {
     "data": {
      "text/html": [
       "<div>\n",
       "<style scoped>\n",
       "    .dataframe tbody tr th:only-of-type {\n",
       "        vertical-align: middle;\n",
       "    }\n",
       "\n",
       "    .dataframe tbody tr th {\n",
       "        vertical-align: top;\n",
       "    }\n",
       "\n",
       "    .dataframe thead th {\n",
       "        text-align: right;\n",
       "    }\n",
       "</style>\n",
       "<table border=\"1\" class=\"dataframe\">\n",
       "  <thead>\n",
       "    <tr style=\"text-align: right;\">\n",
       "      <th></th>\n",
       "      <th>D</th>\n",
       "      <th>C</th>\n",
       "      <th>B</th>\n",
       "      <th>A</th>\n",
       "    </tr>\n",
       "  </thead>\n",
       "  <tbody>\n",
       "    <tr>\n",
       "      <th>2025-03-04</th>\n",
       "      <td>-0.859948</td>\n",
       "      <td>-0.528938</td>\n",
       "      <td>-0.954881</td>\n",
       "      <td>-0.240391</td>\n",
       "    </tr>\n",
       "    <tr>\n",
       "      <th>2025-03-05</th>\n",
       "      <td>-2.634893</td>\n",
       "      <td>0.280667</td>\n",
       "      <td>-0.521639</td>\n",
       "      <td>-1.011833</td>\n",
       "    </tr>\n",
       "    <tr>\n",
       "      <th>2025-03-06</th>\n",
       "      <td>-0.953350</td>\n",
       "      <td>0.621165</td>\n",
       "      <td>1.527944</td>\n",
       "      <td>0.614858</td>\n",
       "    </tr>\n",
       "    <tr>\n",
       "      <th>2025-03-07</th>\n",
       "      <td>0.711832</td>\n",
       "      <td>0.564540</td>\n",
       "      <td>-1.635435</td>\n",
       "      <td>-0.684380</td>\n",
       "    </tr>\n",
       "    <tr>\n",
       "      <th>2025-03-08</th>\n",
       "      <td>-0.164479</td>\n",
       "      <td>1.879534</td>\n",
       "      <td>-1.268801</td>\n",
       "      <td>0.737706</td>\n",
       "    </tr>\n",
       "    <tr>\n",
       "      <th>2025-03-09</th>\n",
       "      <td>-0.762963</td>\n",
       "      <td>-0.027000</td>\n",
       "      <td>0.325176</td>\n",
       "      <td>-0.100336</td>\n",
       "    </tr>\n",
       "  </tbody>\n",
       "</table>\n",
       "</div>"
      ],
      "text/plain": [
       "                   D         C         B         A\n",
       "2025-03-04 -0.859948 -0.528938 -0.954881 -0.240391\n",
       "2025-03-05 -2.634893  0.280667 -0.521639 -1.011833\n",
       "2025-03-06 -0.953350  0.621165  1.527944  0.614858\n",
       "2025-03-07  0.711832  0.564540 -1.635435 -0.684380\n",
       "2025-03-08 -0.164479  1.879534 -1.268801  0.737706\n",
       "2025-03-09 -0.762963 -0.027000  0.325176 -0.100336"
      ]
     },
     "execution_count": 22,
     "metadata": {},
     "output_type": "execute_result"
    }
   ],
   "source": [
    "df.sort_index(axis=1, ascending=False)"
   ]
  },
  {
   "cell_type": "code",
   "execution_count": 23,
   "metadata": {},
   "outputs": [
    {
     "data": {
      "text/html": [
       "<div>\n",
       "<style scoped>\n",
       "    .dataframe tbody tr th:only-of-type {\n",
       "        vertical-align: middle;\n",
       "    }\n",
       "\n",
       "    .dataframe tbody tr th {\n",
       "        vertical-align: top;\n",
       "    }\n",
       "\n",
       "    .dataframe thead th {\n",
       "        text-align: right;\n",
       "    }\n",
       "</style>\n",
       "<table border=\"1\" class=\"dataframe\">\n",
       "  <thead>\n",
       "    <tr style=\"text-align: right;\">\n",
       "      <th></th>\n",
       "      <th>A</th>\n",
       "      <th>B</th>\n",
       "      <th>C</th>\n",
       "      <th>D</th>\n",
       "    </tr>\n",
       "  </thead>\n",
       "  <tbody>\n",
       "    <tr>\n",
       "      <th>2025-03-04</th>\n",
       "      <td>-0.240391</td>\n",
       "      <td>-0.954881</td>\n",
       "      <td>-0.528938</td>\n",
       "      <td>-0.859948</td>\n",
       "    </tr>\n",
       "    <tr>\n",
       "      <th>2025-03-05</th>\n",
       "      <td>-1.011833</td>\n",
       "      <td>-0.521639</td>\n",
       "      <td>0.280667</td>\n",
       "      <td>-2.634893</td>\n",
       "    </tr>\n",
       "    <tr>\n",
       "      <th>2025-03-06</th>\n",
       "      <td>0.614858</td>\n",
       "      <td>1.527944</td>\n",
       "      <td>0.621165</td>\n",
       "      <td>-0.953350</td>\n",
       "    </tr>\n",
       "    <tr>\n",
       "      <th>2025-03-07</th>\n",
       "      <td>-0.684380</td>\n",
       "      <td>-1.635435</td>\n",
       "      <td>0.564540</td>\n",
       "      <td>0.711832</td>\n",
       "    </tr>\n",
       "    <tr>\n",
       "      <th>2025-03-08</th>\n",
       "      <td>0.737706</td>\n",
       "      <td>-1.268801</td>\n",
       "      <td>1.879534</td>\n",
       "      <td>-0.164479</td>\n",
       "    </tr>\n",
       "    <tr>\n",
       "      <th>2025-03-09</th>\n",
       "      <td>-0.100336</td>\n",
       "      <td>0.325176</td>\n",
       "      <td>-0.027000</td>\n",
       "      <td>-0.762963</td>\n",
       "    </tr>\n",
       "  </tbody>\n",
       "</table>\n",
       "</div>"
      ],
      "text/plain": [
       "                   A         B         C         D\n",
       "2025-03-04 -0.240391 -0.954881 -0.528938 -0.859948\n",
       "2025-03-05 -1.011833 -0.521639  0.280667 -2.634893\n",
       "2025-03-06  0.614858  1.527944  0.621165 -0.953350\n",
       "2025-03-07 -0.684380 -1.635435  0.564540  0.711832\n",
       "2025-03-08  0.737706 -1.268801  1.879534 -0.164479\n",
       "2025-03-09 -0.100336  0.325176 -0.027000 -0.762963"
      ]
     },
     "execution_count": 23,
     "metadata": {},
     "output_type": "execute_result"
    }
   ],
   "source": [
    "df.sort_index(\n",
    "    axis=0, # 0: 行索引，1: 列索引\n",
    "    level=None, # 多重索引的级别\n",
    "    ascending=True, # 是否升序\n",
    "    inplace=False, # 是否修改原数据\n",
    "    kind='quicksort', # 排序算法\n",
    "    na_position='last', # 缺失值位置\n",
    "    sort_remaining=True, # 是否对剩余的索引排序\n",
    "    ignore_index=False, # 是否忽略索引\n",
    "    key=None # 排序关键字\n",
    ")"
   ]
  },
  {
   "cell_type": "code",
   "execution_count": 24,
   "metadata": {},
   "outputs": [
    {
     "data": {
      "text/html": [
       "<div>\n",
       "<style scoped>\n",
       "    .dataframe tbody tr th:only-of-type {\n",
       "        vertical-align: middle;\n",
       "    }\n",
       "\n",
       "    .dataframe tbody tr th {\n",
       "        vertical-align: top;\n",
       "    }\n",
       "\n",
       "    .dataframe thead th {\n",
       "        text-align: right;\n",
       "    }\n",
       "</style>\n",
       "<table border=\"1\" class=\"dataframe\">\n",
       "  <thead>\n",
       "    <tr style=\"text-align: right;\">\n",
       "      <th></th>\n",
       "      <th>A</th>\n",
       "      <th>B</th>\n",
       "      <th>C</th>\n",
       "      <th>D</th>\n",
       "    </tr>\n",
       "  </thead>\n",
       "  <tbody>\n",
       "    <tr>\n",
       "      <th>2025-03-07</th>\n",
       "      <td>-0.684380</td>\n",
       "      <td>-1.635435</td>\n",
       "      <td>0.564540</td>\n",
       "      <td>0.711832</td>\n",
       "    </tr>\n",
       "    <tr>\n",
       "      <th>2025-03-08</th>\n",
       "      <td>0.737706</td>\n",
       "      <td>-1.268801</td>\n",
       "      <td>1.879534</td>\n",
       "      <td>-0.164479</td>\n",
       "    </tr>\n",
       "    <tr>\n",
       "      <th>2025-03-04</th>\n",
       "      <td>-0.240391</td>\n",
       "      <td>-0.954881</td>\n",
       "      <td>-0.528938</td>\n",
       "      <td>-0.859948</td>\n",
       "    </tr>\n",
       "    <tr>\n",
       "      <th>2025-03-05</th>\n",
       "      <td>-1.011833</td>\n",
       "      <td>-0.521639</td>\n",
       "      <td>0.280667</td>\n",
       "      <td>-2.634893</td>\n",
       "    </tr>\n",
       "    <tr>\n",
       "      <th>2025-03-09</th>\n",
       "      <td>-0.100336</td>\n",
       "      <td>0.325176</td>\n",
       "      <td>-0.027000</td>\n",
       "      <td>-0.762963</td>\n",
       "    </tr>\n",
       "    <tr>\n",
       "      <th>2025-03-06</th>\n",
       "      <td>0.614858</td>\n",
       "      <td>1.527944</td>\n",
       "      <td>0.621165</td>\n",
       "      <td>-0.953350</td>\n",
       "    </tr>\n",
       "  </tbody>\n",
       "</table>\n",
       "</div>"
      ],
      "text/plain": [
       "                   A         B         C         D\n",
       "2025-03-07 -0.684380 -1.635435  0.564540  0.711832\n",
       "2025-03-08  0.737706 -1.268801  1.879534 -0.164479\n",
       "2025-03-04 -0.240391 -0.954881 -0.528938 -0.859948\n",
       "2025-03-05 -1.011833 -0.521639  0.280667 -2.634893\n",
       "2025-03-09 -0.100336  0.325176 -0.027000 -0.762963\n",
       "2025-03-06  0.614858  1.527944  0.621165 -0.953350"
      ]
     },
     "execution_count": 24,
     "metadata": {},
     "output_type": "execute_result"
    }
   ],
   "source": [
    "df.sort_values(by='B')"
   ]
  },
  {
   "cell_type": "code",
   "execution_count": 25,
   "metadata": {},
   "outputs": [
    {
     "data": {
      "text/html": [
       "<div>\n",
       "<style scoped>\n",
       "    .dataframe tbody tr th:only-of-type {\n",
       "        vertical-align: middle;\n",
       "    }\n",
       "\n",
       "    .dataframe tbody tr th {\n",
       "        vertical-align: top;\n",
       "    }\n",
       "\n",
       "    .dataframe thead th {\n",
       "        text-align: right;\n",
       "    }\n",
       "</style>\n",
       "<table border=\"1\" class=\"dataframe\">\n",
       "  <thead>\n",
       "    <tr style=\"text-align: right;\">\n",
       "      <th></th>\n",
       "      <th>A</th>\n",
       "      <th>B</th>\n",
       "      <th>C</th>\n",
       "      <th>D</th>\n",
       "    </tr>\n",
       "  </thead>\n",
       "  <tbody>\n",
       "    <tr>\n",
       "      <th>2025-03-07</th>\n",
       "      <td>-0.684380</td>\n",
       "      <td>-1.635435</td>\n",
       "      <td>0.564540</td>\n",
       "      <td>0.711832</td>\n",
       "    </tr>\n",
       "    <tr>\n",
       "      <th>2025-03-08</th>\n",
       "      <td>0.737706</td>\n",
       "      <td>-1.268801</td>\n",
       "      <td>1.879534</td>\n",
       "      <td>-0.164479</td>\n",
       "    </tr>\n",
       "    <tr>\n",
       "      <th>2025-03-04</th>\n",
       "      <td>-0.240391</td>\n",
       "      <td>-0.954881</td>\n",
       "      <td>-0.528938</td>\n",
       "      <td>-0.859948</td>\n",
       "    </tr>\n",
       "    <tr>\n",
       "      <th>2025-03-05</th>\n",
       "      <td>-1.011833</td>\n",
       "      <td>-0.521639</td>\n",
       "      <td>0.280667</td>\n",
       "      <td>-2.634893</td>\n",
       "    </tr>\n",
       "    <tr>\n",
       "      <th>2025-03-09</th>\n",
       "      <td>-0.100336</td>\n",
       "      <td>0.325176</td>\n",
       "      <td>-0.027000</td>\n",
       "      <td>-0.762963</td>\n",
       "    </tr>\n",
       "    <tr>\n",
       "      <th>2025-03-06</th>\n",
       "      <td>0.614858</td>\n",
       "      <td>1.527944</td>\n",
       "      <td>0.621165</td>\n",
       "      <td>-0.953350</td>\n",
       "    </tr>\n",
       "  </tbody>\n",
       "</table>\n",
       "</div>"
      ],
      "text/plain": [
       "                   A         B         C         D\n",
       "2025-03-07 -0.684380 -1.635435  0.564540  0.711832\n",
       "2025-03-08  0.737706 -1.268801  1.879534 -0.164479\n",
       "2025-03-04 -0.240391 -0.954881 -0.528938 -0.859948\n",
       "2025-03-05 -1.011833 -0.521639  0.280667 -2.634893\n",
       "2025-03-09 -0.100336  0.325176 -0.027000 -0.762963\n",
       "2025-03-06  0.614858  1.527944  0.621165 -0.953350"
      ]
     },
     "execution_count": 25,
     "metadata": {},
     "output_type": "execute_result"
    }
   ],
   "source": [
    "df.sort_values(\n",
    "    by=[\"B\",\"A\"],# 先拍B列，再按A列\n",
    "    axis=0, # 0: 行索引，1: 列索引\n",
    "    ascending=True, # 是否升序\n",
    "    inplace=False, # 是否修改原数据\n",
    "    kind='quicksort', # 排序算法\n",
    "    na_position='last', # 缺失值位置\n",
    "    ignore_index=False # 是否忽略索引\n",
    ")"
   ]
  },
  {
   "cell_type": "markdown",
   "metadata": {},
   "source": [
    "## Get item"
   ]
  },
  {
   "cell_type": "code",
   "execution_count": 26,
   "metadata": {},
   "outputs": [
    {
     "data": {
      "text/plain": [
       "2025-03-04   -0.240391\n",
       "2025-03-05   -1.011833\n",
       "2025-03-06    0.614858\n",
       "2025-03-07   -0.684380\n",
       "2025-03-08    0.737706\n",
       "2025-03-09   -0.100336\n",
       "Freq: D, Name: A, dtype: float64"
      ]
     },
     "execution_count": 26,
     "metadata": {},
     "output_type": "execute_result"
    }
   ],
   "source": [
    "df[\"A\"]"
   ]
  },
  {
   "cell_type": "code",
   "execution_count": 27,
   "metadata": {},
   "outputs": [
    {
     "data": {
      "text/html": [
       "<div>\n",
       "<style scoped>\n",
       "    .dataframe tbody tr th:only-of-type {\n",
       "        vertical-align: middle;\n",
       "    }\n",
       "\n",
       "    .dataframe tbody tr th {\n",
       "        vertical-align: top;\n",
       "    }\n",
       "\n",
       "    .dataframe thead th {\n",
       "        text-align: right;\n",
       "    }\n",
       "</style>\n",
       "<table border=\"1\" class=\"dataframe\">\n",
       "  <thead>\n",
       "    <tr style=\"text-align: right;\">\n",
       "      <th></th>\n",
       "      <th>A</th>\n",
       "      <th>B</th>\n",
       "      <th>C</th>\n",
       "      <th>D</th>\n",
       "    </tr>\n",
       "  </thead>\n",
       "  <tbody>\n",
       "    <tr>\n",
       "      <th>2025-03-05</th>\n",
       "      <td>-1.011833</td>\n",
       "      <td>-0.521639</td>\n",
       "      <td>0.280667</td>\n",
       "      <td>-2.634893</td>\n",
       "    </tr>\n",
       "    <tr>\n",
       "      <th>2025-03-06</th>\n",
       "      <td>0.614858</td>\n",
       "      <td>1.527944</td>\n",
       "      <td>0.621165</td>\n",
       "      <td>-0.953350</td>\n",
       "    </tr>\n",
       "  </tbody>\n",
       "</table>\n",
       "</div>"
      ],
      "text/plain": [
       "                   A         B         C         D\n",
       "2025-03-05 -1.011833 -0.521639  0.280667 -2.634893\n",
       "2025-03-06  0.614858  1.527944  0.621165 -0.953350"
      ]
     },
     "execution_count": 27,
     "metadata": {},
     "output_type": "execute_result"
    }
   ],
   "source": [
    "df[1:3]"
   ]
  },
  {
   "cell_type": "code",
   "execution_count": 28,
   "metadata": {},
   "outputs": [
    {
     "data": {
      "text/html": [
       "<div>\n",
       "<style scoped>\n",
       "    .dataframe tbody tr th:only-of-type {\n",
       "        vertical-align: middle;\n",
       "    }\n",
       "\n",
       "    .dataframe tbody tr th {\n",
       "        vertical-align: top;\n",
       "    }\n",
       "\n",
       "    .dataframe thead th {\n",
       "        text-align: right;\n",
       "    }\n",
       "</style>\n",
       "<table border=\"1\" class=\"dataframe\">\n",
       "  <thead>\n",
       "    <tr style=\"text-align: right;\">\n",
       "      <th></th>\n",
       "      <th>A</th>\n",
       "      <th>B</th>\n",
       "      <th>C</th>\n",
       "      <th>D</th>\n",
       "    </tr>\n",
       "  </thead>\n",
       "  <tbody>\n",
       "    <tr>\n",
       "      <th>2025-03-05</th>\n",
       "      <td>-1.011833</td>\n",
       "      <td>-0.521639</td>\n",
       "      <td>0.280667</td>\n",
       "      <td>-2.634893</td>\n",
       "    </tr>\n",
       "    <tr>\n",
       "      <th>2025-03-06</th>\n",
       "      <td>0.614858</td>\n",
       "      <td>1.527944</td>\n",
       "      <td>0.621165</td>\n",
       "      <td>-0.953350</td>\n",
       "    </tr>\n",
       "    <tr>\n",
       "      <th>2025-03-07</th>\n",
       "      <td>-0.684380</td>\n",
       "      <td>-1.635435</td>\n",
       "      <td>0.564540</td>\n",
       "      <td>0.711832</td>\n",
       "    </tr>\n",
       "  </tbody>\n",
       "</table>\n",
       "</div>"
      ],
      "text/plain": [
       "                   A         B         C         D\n",
       "2025-03-05 -1.011833 -0.521639  0.280667 -2.634893\n",
       "2025-03-06  0.614858  1.527944  0.621165 -0.953350\n",
       "2025-03-07 -0.684380 -1.635435  0.564540  0.711832"
      ]
     },
     "execution_count": 28,
     "metadata": {},
     "output_type": "execute_result"
    }
   ],
   "source": [
    "df[\"2025-03-05\":\"2025-03-07\"]"
   ]
  },
  {
   "cell_type": "code",
   "execution_count": 29,
   "metadata": {},
   "outputs": [
    {
     "name": "stdout",
     "output_type": "stream",
     "text": [
      "                   A         B\n",
      "2025-03-04 -0.240391 -0.954881\n",
      "2025-03-05 -1.011833 -0.521639\n",
      "2025-03-06  0.614858  1.527944\n",
      "2025-03-07 -0.684380 -1.635435\n",
      "2025-03-08  0.737706 -1.268801\n",
      "2025-03-09 -0.100336  0.325176\n"
     ]
    }
   ],
   "source": [
    "print(df[[\"A\",\"B\"]])"
   ]
  },
  {
   "cell_type": "code",
   "execution_count": 30,
   "metadata": {},
   "outputs": [
    {
     "name": "stdout",
     "output_type": "stream",
     "text": [
      "2025-03-04   -0.240391\n",
      "2025-03-05   -1.011833\n",
      "2025-03-06    0.614858\n",
      "2025-03-07   -0.684380\n",
      "2025-03-08    0.737706\n",
      "2025-03-09   -0.100336\n",
      "Freq: D, Name: A, dtype: float64\n"
     ]
    }
   ],
   "source": [
    "print(df[\"A\"])"
   ]
  },
  {
   "cell_type": "code",
   "execution_count": 34,
   "metadata": {},
   "outputs": [
    {
     "name": "stdout",
     "output_type": "stream",
     "text": [
      "                   A\n",
      "2025-03-04 -0.240391\n",
      "2025-03-05 -1.011833\n",
      "2025-03-06  0.614858\n",
      "2025-03-07 -0.684380\n",
      "2025-03-08  0.737706\n",
      "2025-03-09 -0.100336\n"
     ]
    }
   ],
   "source": [
    "print(df[[\"A\"]])"
   ]
  },
  {
   "cell_type": "markdown",
   "metadata": {},
   "source": [
    "* df[\"A\"] returns a Pandas Series: This selects a single column, \"A\", from the DataFrame df and returns it as a Pandas Series.  A Series is a one-dimensional labeled array.\n",
    "\n",
    "* df[[\"A\"]] returns a Pandas DataFrame: This selects a single column, \"A\", but returns it as a DataFrame. This DataFrame contains only one column.  A DataFrame is a two-dimensional labeled data structure with rows and columns."
   ]
  },
  {
   "cell_type": "code",
   "execution_count": 43,
   "metadata": {},
   "outputs": [
    {
     "name": "stdout",
     "output_type": "stream",
     "text": [
      "   A  B\n",
      "0  1  4\n",
      "1  2  5\n",
      "2  3  6\n",
      "<class 'pandas.core.series.Series'>\n",
      "0    1\n",
      "1    2\n",
      "2    3\n",
      "Name: A, dtype: int64\n",
      "<class 'pandas.core.frame.DataFrame'>\n",
      "   A\n",
      "0  1\n",
      "1  2\n",
      "2  3\n"
     ]
    }
   ],
   "source": [
    "import pandas as pd\n",
    "\n",
    "data = {'A': [1, 2, 3], 'B': [4, 5, 6]}\n",
    "df1 = pd.DataFrame(data)\n",
    "print(df1)\n",
    "\n",
    "series_a = df1[\"A\"]\n",
    "print(type(series_a))  # Output: <class 'pandas.core.series.Series'>\n",
    "print(series_a)\n",
    "\n",
    "dataframe_a = df1[[\"A\"]]\n",
    "print(type(dataframe_a))  # Output: <class 'pandas.core.frame.DataFrame'>\n",
    "print(dataframe_a)\n"
   ]
  },
  {
   "cell_type": "markdown",
   "metadata": {},
   "source": [
    "In short, using single brackets [] with a single column name selects the column as a Series, while using double brackets [[]] (with a list containing the column name) selects the column as a DataFrame.  \n",
    "\n",
    "Choose the appropriate method based on the desired data structure for subsequent operations."
   ]
  },
  {
   "cell_type": "code",
   "execution_count": 32,
   "metadata": {},
   "outputs": [],
   "source": [
    "# loc: 通过标签索引行数据\n",
    "# iloc: 通过位置获取行数据"
   ]
  },
  {
   "cell_type": "markdown",
   "metadata": {},
   "source": [
    "## Selection by lable"
   ]
  },
  {
   "cell_type": "code",
   "execution_count": 33,
   "metadata": {},
   "outputs": [
    {
     "data": {
      "text/html": [
       "<div>\n",
       "<style scoped>\n",
       "    .dataframe tbody tr th:only-of-type {\n",
       "        vertical-align: middle;\n",
       "    }\n",
       "\n",
       "    .dataframe tbody tr th {\n",
       "        vertical-align: top;\n",
       "    }\n",
       "\n",
       "    .dataframe thead th {\n",
       "        text-align: right;\n",
       "    }\n",
       "</style>\n",
       "<table border=\"1\" class=\"dataframe\">\n",
       "  <thead>\n",
       "    <tr style=\"text-align: right;\">\n",
       "      <th></th>\n",
       "      <th>A</th>\n",
       "      <th>B</th>\n",
       "    </tr>\n",
       "  </thead>\n",
       "  <tbody>\n",
       "    <tr>\n",
       "      <th>2025-03-05</th>\n",
       "      <td>-1.011833</td>\n",
       "      <td>-0.521639</td>\n",
       "    </tr>\n",
       "    <tr>\n",
       "      <th>2025-03-06</th>\n",
       "      <td>0.614858</td>\n",
       "      <td>1.527944</td>\n",
       "    </tr>\n",
       "    <tr>\n",
       "      <th>2025-03-07</th>\n",
       "      <td>-0.684380</td>\n",
       "      <td>-1.635435</td>\n",
       "    </tr>\n",
       "  </tbody>\n",
       "</table>\n",
       "</div>"
      ],
      "text/plain": [
       "                   A         B\n",
       "2025-03-05 -1.011833 -0.521639\n",
       "2025-03-06  0.614858  1.527944\n",
       "2025-03-07 -0.684380 -1.635435"
      ]
     },
     "execution_count": 33,
     "metadata": {},
     "output_type": "execute_result"
    }
   ],
   "source": [
    "df.loc[\"2025-03-05\":\"2025-03-07\", [\"A\", \"B\"]]"
   ]
  },
  {
   "cell_type": "code",
   "execution_count": 35,
   "metadata": {},
   "outputs": [
    {
     "data": {
      "text/plain": [
       "A   -0.684380\n",
       "B   -1.635435\n",
       "C    0.564540\n",
       "D    0.711832\n",
       "Name: 2025-03-07 00:00:00, dtype: float64"
      ]
     },
     "execution_count": 35,
     "metadata": {},
     "output_type": "execute_result"
    }
   ],
   "source": [
    "df.iloc[3]"
   ]
  },
  {
   "cell_type": "code",
   "execution_count": 36,
   "metadata": {},
   "outputs": [
    {
     "data": {
      "text/html": [
       "<div>\n",
       "<style scoped>\n",
       "    .dataframe tbody tr th:only-of-type {\n",
       "        vertical-align: middle;\n",
       "    }\n",
       "\n",
       "    .dataframe tbody tr th {\n",
       "        vertical-align: top;\n",
       "    }\n",
       "\n",
       "    .dataframe thead th {\n",
       "        text-align: right;\n",
       "    }\n",
       "</style>\n",
       "<table border=\"1\" class=\"dataframe\">\n",
       "  <thead>\n",
       "    <tr style=\"text-align: right;\">\n",
       "      <th></th>\n",
       "      <th>A</th>\n",
       "      <th>B</th>\n",
       "    </tr>\n",
       "  </thead>\n",
       "  <tbody>\n",
       "    <tr>\n",
       "      <th>2025-03-07</th>\n",
       "      <td>-0.684380</td>\n",
       "      <td>-1.635435</td>\n",
       "    </tr>\n",
       "    <tr>\n",
       "      <th>2025-03-08</th>\n",
       "      <td>0.737706</td>\n",
       "      <td>-1.268801</td>\n",
       "    </tr>\n",
       "  </tbody>\n",
       "</table>\n",
       "</div>"
      ],
      "text/plain": [
       "                   A         B\n",
       "2025-03-07 -0.684380 -1.635435\n",
       "2025-03-08  0.737706 -1.268801"
      ]
     },
     "execution_count": 36,
     "metadata": {},
     "output_type": "execute_result"
    }
   ],
   "source": [
    "df.iloc[3:5, 0:2]"
   ]
  },
  {
   "cell_type": "code",
   "execution_count": 37,
   "metadata": {},
   "outputs": [
    {
     "data": {
      "text/html": [
       "<div>\n",
       "<style scoped>\n",
       "    .dataframe tbody tr th:only-of-type {\n",
       "        vertical-align: middle;\n",
       "    }\n",
       "\n",
       "    .dataframe tbody tr th {\n",
       "        vertical-align: top;\n",
       "    }\n",
       "\n",
       "    .dataframe thead th {\n",
       "        text-align: right;\n",
       "    }\n",
       "</style>\n",
       "<table border=\"1\" class=\"dataframe\">\n",
       "  <thead>\n",
       "    <tr style=\"text-align: right;\">\n",
       "      <th></th>\n",
       "      <th>B</th>\n",
       "      <th>C</th>\n",
       "    </tr>\n",
       "  </thead>\n",
       "  <tbody>\n",
       "    <tr>\n",
       "      <th>2025-03-04</th>\n",
       "      <td>-0.954881</td>\n",
       "      <td>-0.528938</td>\n",
       "    </tr>\n",
       "    <tr>\n",
       "      <th>2025-03-05</th>\n",
       "      <td>-0.521639</td>\n",
       "      <td>0.280667</td>\n",
       "    </tr>\n",
       "    <tr>\n",
       "      <th>2025-03-06</th>\n",
       "      <td>1.527944</td>\n",
       "      <td>0.621165</td>\n",
       "    </tr>\n",
       "    <tr>\n",
       "      <th>2025-03-07</th>\n",
       "      <td>-1.635435</td>\n",
       "      <td>0.564540</td>\n",
       "    </tr>\n",
       "    <tr>\n",
       "      <th>2025-03-08</th>\n",
       "      <td>-1.268801</td>\n",
       "      <td>1.879534</td>\n",
       "    </tr>\n",
       "    <tr>\n",
       "      <th>2025-03-09</th>\n",
       "      <td>0.325176</td>\n",
       "      <td>-0.027000</td>\n",
       "    </tr>\n",
       "  </tbody>\n",
       "</table>\n",
       "</div>"
      ],
      "text/plain": [
       "                   B         C\n",
       "2025-03-04 -0.954881 -0.528938\n",
       "2025-03-05 -0.521639  0.280667\n",
       "2025-03-06  1.527944  0.621165\n",
       "2025-03-07 -1.635435  0.564540\n",
       "2025-03-08 -1.268801  1.879534\n",
       "2025-03-09  0.325176 -0.027000"
      ]
     },
     "execution_count": 37,
     "metadata": {},
     "output_type": "execute_result"
    }
   ],
   "source": [
    "df.iloc[:,1:3]"
   ]
  },
  {
   "cell_type": "markdown",
   "metadata": {},
   "source": [
    "## Boolean indexing"
   ]
  },
  {
   "cell_type": "code",
   "execution_count": 42,
   "metadata": {},
   "outputs": [
    {
     "data": {
      "text/html": [
       "<div>\n",
       "<style scoped>\n",
       "    .dataframe tbody tr th:only-of-type {\n",
       "        vertical-align: middle;\n",
       "    }\n",
       "\n",
       "    .dataframe tbody tr th {\n",
       "        vertical-align: top;\n",
       "    }\n",
       "\n",
       "    .dataframe thead th {\n",
       "        text-align: right;\n",
       "    }\n",
       "</style>\n",
       "<table border=\"1\" class=\"dataframe\">\n",
       "  <thead>\n",
       "    <tr style=\"text-align: right;\">\n",
       "      <th></th>\n",
       "      <th>A</th>\n",
       "      <th>B</th>\n",
       "      <th>C</th>\n",
       "      <th>D</th>\n",
       "    </tr>\n",
       "  </thead>\n",
       "  <tbody>\n",
       "    <tr>\n",
       "      <th>2025-03-05</th>\n",
       "      <td>0.73854</td>\n",
       "      <td>0.264259</td>\n",
       "      <td>-1.165556</td>\n",
       "      <td>-0.466378</td>\n",
       "    </tr>\n",
       "  </tbody>\n",
       "</table>\n",
       "</div>"
      ],
      "text/plain": [
       "                  A         B         C         D\n",
       "2025-03-05  0.73854  0.264259 -1.165556 -0.466378"
      ]
     },
     "execution_count": 42,
     "metadata": {},
     "output_type": "execute_result"
    }
   ],
   "source": [
    "df[df[\"A\"] > 0]"
   ]
  },
  {
   "cell_type": "code",
   "execution_count": 45,
   "metadata": {},
   "outputs": [
    {
     "data": {
      "text/html": [
       "<div>\n",
       "<style scoped>\n",
       "    .dataframe tbody tr th:only-of-type {\n",
       "        vertical-align: middle;\n",
       "    }\n",
       "\n",
       "    .dataframe tbody tr th {\n",
       "        vertical-align: top;\n",
       "    }\n",
       "\n",
       "    .dataframe thead th {\n",
       "        text-align: right;\n",
       "    }\n",
       "</style>\n",
       "<table border=\"1\" class=\"dataframe\">\n",
       "  <thead>\n",
       "    <tr style=\"text-align: right;\">\n",
       "      <th></th>\n",
       "      <th>A</th>\n",
       "      <th>B</th>\n",
       "      <th>C</th>\n",
       "      <th>D</th>\n",
       "    </tr>\n",
       "  </thead>\n",
       "  <tbody>\n",
       "    <tr>\n",
       "      <th>2025-03-04</th>\n",
       "      <td>-0.957528</td>\n",
       "      <td>-1.369764</td>\n",
       "      <td>0.140636</td>\n",
       "      <td>0.448950</td>\n",
       "    </tr>\n",
       "    <tr>\n",
       "      <th>2025-03-05</th>\n",
       "      <td>0.738540</td>\n",
       "      <td>0.264259</td>\n",
       "      <td>-1.165556</td>\n",
       "      <td>-0.466378</td>\n",
       "    </tr>\n",
       "    <tr>\n",
       "      <th>2025-03-06</th>\n",
       "      <td>-1.093770</td>\n",
       "      <td>1.721826</td>\n",
       "      <td>-0.709783</td>\n",
       "      <td>1.112491</td>\n",
       "    </tr>\n",
       "    <tr>\n",
       "      <th>2025-03-07</th>\n",
       "      <td>-0.781910</td>\n",
       "      <td>0.812508</td>\n",
       "      <td>-0.247565</td>\n",
       "      <td>-1.000344</td>\n",
       "    </tr>\n",
       "    <tr>\n",
       "      <th>2025-03-08</th>\n",
       "      <td>-0.379704</td>\n",
       "      <td>-1.742474</td>\n",
       "      <td>-1.236912</td>\n",
       "      <td>-0.655909</td>\n",
       "    </tr>\n",
       "    <tr>\n",
       "      <th>2025-03-09</th>\n",
       "      <td>-1.734585</td>\n",
       "      <td>-0.206990</td>\n",
       "      <td>0.801452</td>\n",
       "      <td>-0.671617</td>\n",
       "    </tr>\n",
       "  </tbody>\n",
       "</table>\n",
       "</div>"
      ],
      "text/plain": [
       "                   A         B         C         D\n",
       "2025-03-04 -0.957528 -1.369764  0.140636  0.448950\n",
       "2025-03-05  0.738540  0.264259 -1.165556 -0.466378\n",
       "2025-03-06 -1.093770  1.721826 -0.709783  1.112491\n",
       "2025-03-07 -0.781910  0.812508 -0.247565 -1.000344\n",
       "2025-03-08 -0.379704 -1.742474 -1.236912 -0.655909\n",
       "2025-03-09 -1.734585 -0.206990  0.801452 -0.671617"
      ]
     },
     "execution_count": 45,
     "metadata": {},
     "output_type": "execute_result"
    }
   ],
   "source": [
    "df"
   ]
  },
  {
   "cell_type": "code",
   "execution_count": 46,
   "metadata": {},
   "outputs": [
    {
     "data": {
      "text/html": [
       "<div>\n",
       "<style scoped>\n",
       "    .dataframe tbody tr th:only-of-type {\n",
       "        vertical-align: middle;\n",
       "    }\n",
       "\n",
       "    .dataframe tbody tr th {\n",
       "        vertical-align: top;\n",
       "    }\n",
       "\n",
       "    .dataframe thead th {\n",
       "        text-align: right;\n",
       "    }\n",
       "</style>\n",
       "<table border=\"1\" class=\"dataframe\">\n",
       "  <thead>\n",
       "    <tr style=\"text-align: right;\">\n",
       "      <th></th>\n",
       "      <th>A</th>\n",
       "      <th>B</th>\n",
       "      <th>C</th>\n",
       "      <th>D</th>\n",
       "    </tr>\n",
       "  </thead>\n",
       "  <tbody>\n",
       "    <tr>\n",
       "      <th>2025-03-04</th>\n",
       "      <td>False</td>\n",
       "      <td>False</td>\n",
       "      <td>True</td>\n",
       "      <td>True</td>\n",
       "    </tr>\n",
       "    <tr>\n",
       "      <th>2025-03-05</th>\n",
       "      <td>True</td>\n",
       "      <td>True</td>\n",
       "      <td>False</td>\n",
       "      <td>False</td>\n",
       "    </tr>\n",
       "    <tr>\n",
       "      <th>2025-03-06</th>\n",
       "      <td>False</td>\n",
       "      <td>True</td>\n",
       "      <td>False</td>\n",
       "      <td>True</td>\n",
       "    </tr>\n",
       "    <tr>\n",
       "      <th>2025-03-07</th>\n",
       "      <td>False</td>\n",
       "      <td>True</td>\n",
       "      <td>False</td>\n",
       "      <td>False</td>\n",
       "    </tr>\n",
       "    <tr>\n",
       "      <th>2025-03-08</th>\n",
       "      <td>False</td>\n",
       "      <td>False</td>\n",
       "      <td>False</td>\n",
       "      <td>False</td>\n",
       "    </tr>\n",
       "    <tr>\n",
       "      <th>2025-03-09</th>\n",
       "      <td>False</td>\n",
       "      <td>False</td>\n",
       "      <td>True</td>\n",
       "      <td>False</td>\n",
       "    </tr>\n",
       "  </tbody>\n",
       "</table>\n",
       "</div>"
      ],
      "text/plain": [
       "                A      B      C      D\n",
       "2025-03-04  False  False   True   True\n",
       "2025-03-05   True   True  False  False\n",
       "2025-03-06  False   True  False   True\n",
       "2025-03-07  False   True  False  False\n",
       "2025-03-08  False  False  False  False\n",
       "2025-03-09  False  False   True  False"
      ]
     },
     "execution_count": 46,
     "metadata": {},
     "output_type": "execute_result"
    }
   ],
   "source": [
    "df > 0"
   ]
  },
  {
   "cell_type": "markdown",
   "metadata": {},
   "source": [
    "## Add and drop"
   ]
  },
  {
   "cell_type": "code",
   "execution_count": null,
   "metadata": {},
   "outputs": [],
   "source": [
    "df2 = df.copy() # 复制数据，并防止原数据被修改"
   ]
  },
  {
   "cell_type": "code",
   "execution_count": 48,
   "metadata": {},
   "outputs": [
    {
     "data": {
      "text/html": [
       "<div>\n",
       "<style scoped>\n",
       "    .dataframe tbody tr th:only-of-type {\n",
       "        vertical-align: middle;\n",
       "    }\n",
       "\n",
       "    .dataframe tbody tr th {\n",
       "        vertical-align: top;\n",
       "    }\n",
       "\n",
       "    .dataframe thead th {\n",
       "        text-align: right;\n",
       "    }\n",
       "</style>\n",
       "<table border=\"1\" class=\"dataframe\">\n",
       "  <thead>\n",
       "    <tr style=\"text-align: right;\">\n",
       "      <th></th>\n",
       "      <th>A</th>\n",
       "      <th>B</th>\n",
       "      <th>C</th>\n",
       "      <th>D</th>\n",
       "    </tr>\n",
       "  </thead>\n",
       "  <tbody>\n",
       "    <tr>\n",
       "      <th>2025-03-04</th>\n",
       "      <td>-0.957528</td>\n",
       "      <td>-1.369764</td>\n",
       "      <td>0.140636</td>\n",
       "      <td>0.448950</td>\n",
       "    </tr>\n",
       "    <tr>\n",
       "      <th>2025-03-05</th>\n",
       "      <td>0.738540</td>\n",
       "      <td>0.264259</td>\n",
       "      <td>-1.165556</td>\n",
       "      <td>-0.466378</td>\n",
       "    </tr>\n",
       "    <tr>\n",
       "      <th>2025-03-06</th>\n",
       "      <td>-1.093770</td>\n",
       "      <td>1.721826</td>\n",
       "      <td>-0.709783</td>\n",
       "      <td>1.112491</td>\n",
       "    </tr>\n",
       "    <tr>\n",
       "      <th>2025-03-07</th>\n",
       "      <td>-0.781910</td>\n",
       "      <td>0.812508</td>\n",
       "      <td>-0.247565</td>\n",
       "      <td>-1.000344</td>\n",
       "    </tr>\n",
       "    <tr>\n",
       "      <th>2025-03-08</th>\n",
       "      <td>-0.379704</td>\n",
       "      <td>-1.742474</td>\n",
       "      <td>-1.236912</td>\n",
       "      <td>-0.655909</td>\n",
       "    </tr>\n",
       "    <tr>\n",
       "      <th>2025-03-09</th>\n",
       "      <td>-1.734585</td>\n",
       "      <td>-0.206990</td>\n",
       "      <td>0.801452</td>\n",
       "      <td>-0.671617</td>\n",
       "    </tr>\n",
       "  </tbody>\n",
       "</table>\n",
       "</div>"
      ],
      "text/plain": [
       "                   A         B         C         D\n",
       "2025-03-04 -0.957528 -1.369764  0.140636  0.448950\n",
       "2025-03-05  0.738540  0.264259 -1.165556 -0.466378\n",
       "2025-03-06 -1.093770  1.721826 -0.709783  1.112491\n",
       "2025-03-07 -0.781910  0.812508 -0.247565 -1.000344\n",
       "2025-03-08 -0.379704 -1.742474 -1.236912 -0.655909\n",
       "2025-03-09 -1.734585 -0.206990  0.801452 -0.671617"
      ]
     },
     "execution_count": 48,
     "metadata": {},
     "output_type": "execute_result"
    }
   ],
   "source": [
    "df2"
   ]
  },
  {
   "cell_type": "code",
   "execution_count": 51,
   "metadata": {},
   "outputs": [],
   "source": [
    "df2[\"E\"] = [\"one\", \"one\", \"two\", \"three\", \"four\", \"three\"]"
   ]
  },
  {
   "cell_type": "code",
   "execution_count": 52,
   "metadata": {},
   "outputs": [
    {
     "data": {
      "text/html": [
       "<div>\n",
       "<style scoped>\n",
       "    .dataframe tbody tr th:only-of-type {\n",
       "        vertical-align: middle;\n",
       "    }\n",
       "\n",
       "    .dataframe tbody tr th {\n",
       "        vertical-align: top;\n",
       "    }\n",
       "\n",
       "    .dataframe thead th {\n",
       "        text-align: right;\n",
       "    }\n",
       "</style>\n",
       "<table border=\"1\" class=\"dataframe\">\n",
       "  <thead>\n",
       "    <tr style=\"text-align: right;\">\n",
       "      <th></th>\n",
       "      <th>A</th>\n",
       "      <th>B</th>\n",
       "      <th>C</th>\n",
       "      <th>D</th>\n",
       "      <th>E</th>\n",
       "    </tr>\n",
       "  </thead>\n",
       "  <tbody>\n",
       "    <tr>\n",
       "      <th>2025-03-04</th>\n",
       "      <td>-0.957528</td>\n",
       "      <td>-1.369764</td>\n",
       "      <td>0.140636</td>\n",
       "      <td>0.448950</td>\n",
       "      <td>one</td>\n",
       "    </tr>\n",
       "    <tr>\n",
       "      <th>2025-03-05</th>\n",
       "      <td>0.738540</td>\n",
       "      <td>0.264259</td>\n",
       "      <td>-1.165556</td>\n",
       "      <td>-0.466378</td>\n",
       "      <td>one</td>\n",
       "    </tr>\n",
       "    <tr>\n",
       "      <th>2025-03-06</th>\n",
       "      <td>-1.093770</td>\n",
       "      <td>1.721826</td>\n",
       "      <td>-0.709783</td>\n",
       "      <td>1.112491</td>\n",
       "      <td>two</td>\n",
       "    </tr>\n",
       "    <tr>\n",
       "      <th>2025-03-07</th>\n",
       "      <td>-0.781910</td>\n",
       "      <td>0.812508</td>\n",
       "      <td>-0.247565</td>\n",
       "      <td>-1.000344</td>\n",
       "      <td>three</td>\n",
       "    </tr>\n",
       "    <tr>\n",
       "      <th>2025-03-08</th>\n",
       "      <td>-0.379704</td>\n",
       "      <td>-1.742474</td>\n",
       "      <td>-1.236912</td>\n",
       "      <td>-0.655909</td>\n",
       "      <td>four</td>\n",
       "    </tr>\n",
       "    <tr>\n",
       "      <th>2025-03-09</th>\n",
       "      <td>-1.734585</td>\n",
       "      <td>-0.206990</td>\n",
       "      <td>0.801452</td>\n",
       "      <td>-0.671617</td>\n",
       "      <td>three</td>\n",
       "    </tr>\n",
       "  </tbody>\n",
       "</table>\n",
       "</div>"
      ],
      "text/plain": [
       "                   A         B         C         D      E\n",
       "2025-03-04 -0.957528 -1.369764  0.140636  0.448950    one\n",
       "2025-03-05  0.738540  0.264259 -1.165556 -0.466378    one\n",
       "2025-03-06 -1.093770  1.721826 -0.709783  1.112491    two\n",
       "2025-03-07 -0.781910  0.812508 -0.247565 -1.000344  three\n",
       "2025-03-08 -0.379704 -1.742474 -1.236912 -0.655909   four\n",
       "2025-03-09 -1.734585 -0.206990  0.801452 -0.671617  three"
      ]
     },
     "execution_count": 52,
     "metadata": {},
     "output_type": "execute_result"
    }
   ],
   "source": [
    "df2"
   ]
  },
  {
   "cell_type": "code",
   "execution_count": 53,
   "metadata": {},
   "outputs": [],
   "source": [
    "df2 = df2.assign(F=pd.Series([1, 2, 3, 4, 5, 6]).values)"
   ]
  },
  {
   "cell_type": "code",
   "execution_count": 54,
   "metadata": {},
   "outputs": [
    {
     "data": {
      "text/html": [
       "<div>\n",
       "<style scoped>\n",
       "    .dataframe tbody tr th:only-of-type {\n",
       "        vertical-align: middle;\n",
       "    }\n",
       "\n",
       "    .dataframe tbody tr th {\n",
       "        vertical-align: top;\n",
       "    }\n",
       "\n",
       "    .dataframe thead th {\n",
       "        text-align: right;\n",
       "    }\n",
       "</style>\n",
       "<table border=\"1\" class=\"dataframe\">\n",
       "  <thead>\n",
       "    <tr style=\"text-align: right;\">\n",
       "      <th></th>\n",
       "      <th>A</th>\n",
       "      <th>B</th>\n",
       "      <th>C</th>\n",
       "      <th>D</th>\n",
       "      <th>E</th>\n",
       "      <th>F</th>\n",
       "    </tr>\n",
       "  </thead>\n",
       "  <tbody>\n",
       "    <tr>\n",
       "      <th>2025-03-04</th>\n",
       "      <td>-0.957528</td>\n",
       "      <td>-1.369764</td>\n",
       "      <td>0.140636</td>\n",
       "      <td>0.448950</td>\n",
       "      <td>one</td>\n",
       "      <td>1</td>\n",
       "    </tr>\n",
       "    <tr>\n",
       "      <th>2025-03-05</th>\n",
       "      <td>0.738540</td>\n",
       "      <td>0.264259</td>\n",
       "      <td>-1.165556</td>\n",
       "      <td>-0.466378</td>\n",
       "      <td>one</td>\n",
       "      <td>2</td>\n",
       "    </tr>\n",
       "    <tr>\n",
       "      <th>2025-03-06</th>\n",
       "      <td>-1.093770</td>\n",
       "      <td>1.721826</td>\n",
       "      <td>-0.709783</td>\n",
       "      <td>1.112491</td>\n",
       "      <td>two</td>\n",
       "      <td>3</td>\n",
       "    </tr>\n",
       "    <tr>\n",
       "      <th>2025-03-07</th>\n",
       "      <td>-0.781910</td>\n",
       "      <td>0.812508</td>\n",
       "      <td>-0.247565</td>\n",
       "      <td>-1.000344</td>\n",
       "      <td>three</td>\n",
       "      <td>4</td>\n",
       "    </tr>\n",
       "    <tr>\n",
       "      <th>2025-03-08</th>\n",
       "      <td>-0.379704</td>\n",
       "      <td>-1.742474</td>\n",
       "      <td>-1.236912</td>\n",
       "      <td>-0.655909</td>\n",
       "      <td>four</td>\n",
       "      <td>5</td>\n",
       "    </tr>\n",
       "    <tr>\n",
       "      <th>2025-03-09</th>\n",
       "      <td>-1.734585</td>\n",
       "      <td>-0.206990</td>\n",
       "      <td>0.801452</td>\n",
       "      <td>-0.671617</td>\n",
       "      <td>three</td>\n",
       "      <td>6</td>\n",
       "    </tr>\n",
       "  </tbody>\n",
       "</table>\n",
       "</div>"
      ],
      "text/plain": [
       "                   A         B         C         D      E  F\n",
       "2025-03-04 -0.957528 -1.369764  0.140636  0.448950    one  1\n",
       "2025-03-05  0.738540  0.264259 -1.165556 -0.466378    one  2\n",
       "2025-03-06 -1.093770  1.721826 -0.709783  1.112491    two  3\n",
       "2025-03-07 -0.781910  0.812508 -0.247565 -1.000344  three  4\n",
       "2025-03-08 -0.379704 -1.742474 -1.236912 -0.655909   four  5\n",
       "2025-03-09 -1.734585 -0.206990  0.801452 -0.671617  three  6"
      ]
     },
     "execution_count": 54,
     "metadata": {},
     "output_type": "execute_result"
    }
   ],
   "source": [
    "df2"
   ]
  },
  {
   "cell_type": "code",
   "execution_count": 55,
   "metadata": {},
   "outputs": [],
   "source": [
    "df2.insert(1, \"G\", [1, 2, 3, 4, 5, 6])"
   ]
  },
  {
   "cell_type": "code",
   "execution_count": 56,
   "metadata": {},
   "outputs": [
    {
     "data": {
      "text/html": [
       "<div>\n",
       "<style scoped>\n",
       "    .dataframe tbody tr th:only-of-type {\n",
       "        vertical-align: middle;\n",
       "    }\n",
       "\n",
       "    .dataframe tbody tr th {\n",
       "        vertical-align: top;\n",
       "    }\n",
       "\n",
       "    .dataframe thead th {\n",
       "        text-align: right;\n",
       "    }\n",
       "</style>\n",
       "<table border=\"1\" class=\"dataframe\">\n",
       "  <thead>\n",
       "    <tr style=\"text-align: right;\">\n",
       "      <th></th>\n",
       "      <th>A</th>\n",
       "      <th>G</th>\n",
       "      <th>B</th>\n",
       "      <th>C</th>\n",
       "      <th>D</th>\n",
       "      <th>E</th>\n",
       "      <th>F</th>\n",
       "    </tr>\n",
       "  </thead>\n",
       "  <tbody>\n",
       "    <tr>\n",
       "      <th>2025-03-04</th>\n",
       "      <td>-0.957528</td>\n",
       "      <td>1</td>\n",
       "      <td>-1.369764</td>\n",
       "      <td>0.140636</td>\n",
       "      <td>0.448950</td>\n",
       "      <td>one</td>\n",
       "      <td>1</td>\n",
       "    </tr>\n",
       "    <tr>\n",
       "      <th>2025-03-05</th>\n",
       "      <td>0.738540</td>\n",
       "      <td>2</td>\n",
       "      <td>0.264259</td>\n",
       "      <td>-1.165556</td>\n",
       "      <td>-0.466378</td>\n",
       "      <td>one</td>\n",
       "      <td>2</td>\n",
       "    </tr>\n",
       "    <tr>\n",
       "      <th>2025-03-06</th>\n",
       "      <td>-1.093770</td>\n",
       "      <td>3</td>\n",
       "      <td>1.721826</td>\n",
       "      <td>-0.709783</td>\n",
       "      <td>1.112491</td>\n",
       "      <td>two</td>\n",
       "      <td>3</td>\n",
       "    </tr>\n",
       "    <tr>\n",
       "      <th>2025-03-07</th>\n",
       "      <td>-0.781910</td>\n",
       "      <td>4</td>\n",
       "      <td>0.812508</td>\n",
       "      <td>-0.247565</td>\n",
       "      <td>-1.000344</td>\n",
       "      <td>three</td>\n",
       "      <td>4</td>\n",
       "    </tr>\n",
       "    <tr>\n",
       "      <th>2025-03-08</th>\n",
       "      <td>-0.379704</td>\n",
       "      <td>5</td>\n",
       "      <td>-1.742474</td>\n",
       "      <td>-1.236912</td>\n",
       "      <td>-0.655909</td>\n",
       "      <td>four</td>\n",
       "      <td>5</td>\n",
       "    </tr>\n",
       "    <tr>\n",
       "      <th>2025-03-09</th>\n",
       "      <td>-1.734585</td>\n",
       "      <td>6</td>\n",
       "      <td>-0.206990</td>\n",
       "      <td>0.801452</td>\n",
       "      <td>-0.671617</td>\n",
       "      <td>three</td>\n",
       "      <td>6</td>\n",
       "    </tr>\n",
       "  </tbody>\n",
       "</table>\n",
       "</div>"
      ],
      "text/plain": [
       "                   A  G         B         C         D      E  F\n",
       "2025-03-04 -0.957528  1 -1.369764  0.140636  0.448950    one  1\n",
       "2025-03-05  0.738540  2  0.264259 -1.165556 -0.466378    one  2\n",
       "2025-03-06 -1.093770  3  1.721826 -0.709783  1.112491    two  3\n",
       "2025-03-07 -0.781910  4  0.812508 -0.247565 -1.000344  three  4\n",
       "2025-03-08 -0.379704  5 -1.742474 -1.236912 -0.655909   four  5\n",
       "2025-03-09 -1.734585  6 -0.206990  0.801452 -0.671617  three  6"
      ]
     },
     "execution_count": 56,
     "metadata": {},
     "output_type": "execute_result"
    }
   ],
   "source": [
    "df2"
   ]
  },
  {
   "cell_type": "code",
   "execution_count": 61,
   "metadata": {},
   "outputs": [],
   "source": [
    "new_row = pd.DataFrame({\"A\": 1, \"B\": 2, \"C\": 3, \"D\": 4, \"E\": 'one', \"F\": 7}, index=[20250310])\n",
    "df2 = pd.concat([df2, new_row])"
   ]
  },
  {
   "cell_type": "code",
   "execution_count": 62,
   "metadata": {},
   "outputs": [
    {
     "data": {
      "text/html": [
       "<div>\n",
       "<style scoped>\n",
       "    .dataframe tbody tr th:only-of-type {\n",
       "        vertical-align: middle;\n",
       "    }\n",
       "\n",
       "    .dataframe tbody tr th {\n",
       "        vertical-align: top;\n",
       "    }\n",
       "\n",
       "    .dataframe thead th {\n",
       "        text-align: right;\n",
       "    }\n",
       "</style>\n",
       "<table border=\"1\" class=\"dataframe\">\n",
       "  <thead>\n",
       "    <tr style=\"text-align: right;\">\n",
       "      <th></th>\n",
       "      <th>A</th>\n",
       "      <th>G</th>\n",
       "      <th>B</th>\n",
       "      <th>C</th>\n",
       "      <th>D</th>\n",
       "      <th>E</th>\n",
       "      <th>F</th>\n",
       "    </tr>\n",
       "  </thead>\n",
       "  <tbody>\n",
       "    <tr>\n",
       "      <th>2025-03-04 00:00:00</th>\n",
       "      <td>-0.957528</td>\n",
       "      <td>1.0</td>\n",
       "      <td>-1.369764</td>\n",
       "      <td>0.140636</td>\n",
       "      <td>0.448950</td>\n",
       "      <td>one</td>\n",
       "      <td>1</td>\n",
       "    </tr>\n",
       "    <tr>\n",
       "      <th>2025-03-05 00:00:00</th>\n",
       "      <td>0.738540</td>\n",
       "      <td>2.0</td>\n",
       "      <td>0.264259</td>\n",
       "      <td>-1.165556</td>\n",
       "      <td>-0.466378</td>\n",
       "      <td>one</td>\n",
       "      <td>2</td>\n",
       "    </tr>\n",
       "    <tr>\n",
       "      <th>2025-03-06 00:00:00</th>\n",
       "      <td>-1.093770</td>\n",
       "      <td>3.0</td>\n",
       "      <td>1.721826</td>\n",
       "      <td>-0.709783</td>\n",
       "      <td>1.112491</td>\n",
       "      <td>two</td>\n",
       "      <td>3</td>\n",
       "    </tr>\n",
       "    <tr>\n",
       "      <th>2025-03-07 00:00:00</th>\n",
       "      <td>-0.781910</td>\n",
       "      <td>4.0</td>\n",
       "      <td>0.812508</td>\n",
       "      <td>-0.247565</td>\n",
       "      <td>-1.000344</td>\n",
       "      <td>three</td>\n",
       "      <td>4</td>\n",
       "    </tr>\n",
       "    <tr>\n",
       "      <th>2025-03-08 00:00:00</th>\n",
       "      <td>-0.379704</td>\n",
       "      <td>5.0</td>\n",
       "      <td>-1.742474</td>\n",
       "      <td>-1.236912</td>\n",
       "      <td>-0.655909</td>\n",
       "      <td>four</td>\n",
       "      <td>5</td>\n",
       "    </tr>\n",
       "    <tr>\n",
       "      <th>2025-03-09 00:00:00</th>\n",
       "      <td>-1.734585</td>\n",
       "      <td>6.0</td>\n",
       "      <td>-0.206990</td>\n",
       "      <td>0.801452</td>\n",
       "      <td>-0.671617</td>\n",
       "      <td>three</td>\n",
       "      <td>6</td>\n",
       "    </tr>\n",
       "    <tr>\n",
       "      <th>20250310</th>\n",
       "      <td>1.000000</td>\n",
       "      <td>NaN</td>\n",
       "      <td>2.000000</td>\n",
       "      <td>3.000000</td>\n",
       "      <td>4.000000</td>\n",
       "      <td>one</td>\n",
       "      <td>7</td>\n",
       "    </tr>\n",
       "  </tbody>\n",
       "</table>\n",
       "</div>"
      ],
      "text/plain": [
       "                            A    G         B         C         D      E  F\n",
       "2025-03-04 00:00:00 -0.957528  1.0 -1.369764  0.140636  0.448950    one  1\n",
       "2025-03-05 00:00:00  0.738540  2.0  0.264259 -1.165556 -0.466378    one  2\n",
       "2025-03-06 00:00:00 -1.093770  3.0  1.721826 -0.709783  1.112491    two  3\n",
       "2025-03-07 00:00:00 -0.781910  4.0  0.812508 -0.247565 -1.000344  three  4\n",
       "2025-03-08 00:00:00 -0.379704  5.0 -1.742474 -1.236912 -0.655909   four  5\n",
       "2025-03-09 00:00:00 -1.734585  6.0 -0.206990  0.801452 -0.671617  three  6\n",
       "20250310             1.000000  NaN  2.000000  3.000000  4.000000    one  7"
      ]
     },
     "execution_count": 62,
     "metadata": {},
     "output_type": "execute_result"
    }
   ],
   "source": [
    "df2"
   ]
  },
  {
   "cell_type": "code",
   "execution_count": 66,
   "metadata": {},
   "outputs": [],
   "source": [
    "df2 = df2.drop([\"B\",\"D\"], axis=1)"
   ]
  },
  {
   "cell_type": "code",
   "execution_count": 67,
   "metadata": {},
   "outputs": [
    {
     "data": {
      "text/html": [
       "<div>\n",
       "<style scoped>\n",
       "    .dataframe tbody tr th:only-of-type {\n",
       "        vertical-align: middle;\n",
       "    }\n",
       "\n",
       "    .dataframe tbody tr th {\n",
       "        vertical-align: top;\n",
       "    }\n",
       "\n",
       "    .dataframe thead th {\n",
       "        text-align: right;\n",
       "    }\n",
       "</style>\n",
       "<table border=\"1\" class=\"dataframe\">\n",
       "  <thead>\n",
       "    <tr style=\"text-align: right;\">\n",
       "      <th></th>\n",
       "      <th>A</th>\n",
       "      <th>G</th>\n",
       "      <th>C</th>\n",
       "      <th>E</th>\n",
       "      <th>F</th>\n",
       "    </tr>\n",
       "  </thead>\n",
       "  <tbody>\n",
       "    <tr>\n",
       "      <th>2025-03-04 00:00:00</th>\n",
       "      <td>-0.957528</td>\n",
       "      <td>1.0</td>\n",
       "      <td>0.140636</td>\n",
       "      <td>one</td>\n",
       "      <td>1</td>\n",
       "    </tr>\n",
       "    <tr>\n",
       "      <th>2025-03-05 00:00:00</th>\n",
       "      <td>0.738540</td>\n",
       "      <td>2.0</td>\n",
       "      <td>-1.165556</td>\n",
       "      <td>one</td>\n",
       "      <td>2</td>\n",
       "    </tr>\n",
       "    <tr>\n",
       "      <th>2025-03-06 00:00:00</th>\n",
       "      <td>-1.093770</td>\n",
       "      <td>3.0</td>\n",
       "      <td>-0.709783</td>\n",
       "      <td>two</td>\n",
       "      <td>3</td>\n",
       "    </tr>\n",
       "    <tr>\n",
       "      <th>2025-03-07 00:00:00</th>\n",
       "      <td>-0.781910</td>\n",
       "      <td>4.0</td>\n",
       "      <td>-0.247565</td>\n",
       "      <td>three</td>\n",
       "      <td>4</td>\n",
       "    </tr>\n",
       "    <tr>\n",
       "      <th>2025-03-08 00:00:00</th>\n",
       "      <td>-0.379704</td>\n",
       "      <td>5.0</td>\n",
       "      <td>-1.236912</td>\n",
       "      <td>four</td>\n",
       "      <td>5</td>\n",
       "    </tr>\n",
       "    <tr>\n",
       "      <th>2025-03-09 00:00:00</th>\n",
       "      <td>-1.734585</td>\n",
       "      <td>6.0</td>\n",
       "      <td>0.801452</td>\n",
       "      <td>three</td>\n",
       "      <td>6</td>\n",
       "    </tr>\n",
       "    <tr>\n",
       "      <th>20250310</th>\n",
       "      <td>1.000000</td>\n",
       "      <td>NaN</td>\n",
       "      <td>3.000000</td>\n",
       "      <td>one</td>\n",
       "      <td>7</td>\n",
       "    </tr>\n",
       "  </tbody>\n",
       "</table>\n",
       "</div>"
      ],
      "text/plain": [
       "                            A    G         C      E  F\n",
       "2025-03-04 00:00:00 -0.957528  1.0  0.140636    one  1\n",
       "2025-03-05 00:00:00  0.738540  2.0 -1.165556    one  2\n",
       "2025-03-06 00:00:00 -1.093770  3.0 -0.709783    two  3\n",
       "2025-03-07 00:00:00 -0.781910  4.0 -0.247565  three  4\n",
       "2025-03-08 00:00:00 -0.379704  5.0 -1.236912   four  5\n",
       "2025-03-09 00:00:00 -1.734585  6.0  0.801452  three  6\n",
       "20250310             1.000000  NaN  3.000000    one  7"
      ]
     },
     "execution_count": 67,
     "metadata": {},
     "output_type": "execute_result"
    }
   ],
   "source": [
    "df2"
   ]
  },
  {
   "cell_type": "code",
   "execution_count": 69,
   "metadata": {},
   "outputs": [],
   "source": [
    "df2 = df2.drop([20250310], axis=0)"
   ]
  },
  {
   "cell_type": "code",
   "execution_count": 70,
   "metadata": {},
   "outputs": [
    {
     "data": {
      "text/html": [
       "<div>\n",
       "<style scoped>\n",
       "    .dataframe tbody tr th:only-of-type {\n",
       "        vertical-align: middle;\n",
       "    }\n",
       "\n",
       "    .dataframe tbody tr th {\n",
       "        vertical-align: top;\n",
       "    }\n",
       "\n",
       "    .dataframe thead th {\n",
       "        text-align: right;\n",
       "    }\n",
       "</style>\n",
       "<table border=\"1\" class=\"dataframe\">\n",
       "  <thead>\n",
       "    <tr style=\"text-align: right;\">\n",
       "      <th></th>\n",
       "      <th>A</th>\n",
       "      <th>G</th>\n",
       "      <th>C</th>\n",
       "      <th>E</th>\n",
       "      <th>F</th>\n",
       "    </tr>\n",
       "  </thead>\n",
       "  <tbody>\n",
       "    <tr>\n",
       "      <th>2025-03-04 00:00:00</th>\n",
       "      <td>-0.957528</td>\n",
       "      <td>1.0</td>\n",
       "      <td>0.140636</td>\n",
       "      <td>one</td>\n",
       "      <td>1</td>\n",
       "    </tr>\n",
       "    <tr>\n",
       "      <th>2025-03-05 00:00:00</th>\n",
       "      <td>0.738540</td>\n",
       "      <td>2.0</td>\n",
       "      <td>-1.165556</td>\n",
       "      <td>one</td>\n",
       "      <td>2</td>\n",
       "    </tr>\n",
       "    <tr>\n",
       "      <th>2025-03-06 00:00:00</th>\n",
       "      <td>-1.093770</td>\n",
       "      <td>3.0</td>\n",
       "      <td>-0.709783</td>\n",
       "      <td>two</td>\n",
       "      <td>3</td>\n",
       "    </tr>\n",
       "    <tr>\n",
       "      <th>2025-03-07 00:00:00</th>\n",
       "      <td>-0.781910</td>\n",
       "      <td>4.0</td>\n",
       "      <td>-0.247565</td>\n",
       "      <td>three</td>\n",
       "      <td>4</td>\n",
       "    </tr>\n",
       "    <tr>\n",
       "      <th>2025-03-08 00:00:00</th>\n",
       "      <td>-0.379704</td>\n",
       "      <td>5.0</td>\n",
       "      <td>-1.236912</td>\n",
       "      <td>four</td>\n",
       "      <td>5</td>\n",
       "    </tr>\n",
       "    <tr>\n",
       "      <th>2025-03-09 00:00:00</th>\n",
       "      <td>-1.734585</td>\n",
       "      <td>6.0</td>\n",
       "      <td>0.801452</td>\n",
       "      <td>three</td>\n",
       "      <td>6</td>\n",
       "    </tr>\n",
       "  </tbody>\n",
       "</table>\n",
       "</div>"
      ],
      "text/plain": [
       "                            A    G         C      E  F\n",
       "2025-03-04 00:00:00 -0.957528  1.0  0.140636    one  1\n",
       "2025-03-05 00:00:00  0.738540  2.0 -1.165556    one  2\n",
       "2025-03-06 00:00:00 -1.093770  3.0 -0.709783    two  3\n",
       "2025-03-07 00:00:00 -0.781910  4.0 -0.247565  three  4\n",
       "2025-03-08 00:00:00 -0.379704  5.0 -1.236912   four  5\n",
       "2025-03-09 00:00:00 -1.734585  6.0  0.801452  three  6"
      ]
     },
     "execution_count": 70,
     "metadata": {},
     "output_type": "execute_result"
    }
   ],
   "source": [
    "df2"
   ]
  }
 ],
 "metadata": {
  "kernelspec": {
   "display_name": "base",
   "language": "python",
   "name": "python3"
  },
  "language_info": {
   "codemirror_mode": {
    "name": "ipython",
    "version": 3
   },
   "file_extension": ".py",
   "mimetype": "text/x-python",
   "name": "python",
   "nbconvert_exporter": "python",
   "pygments_lexer": "ipython3",
   "version": "3.12.7"
  }
 },
 "nbformat": 4,
 "nbformat_minor": 2
}
