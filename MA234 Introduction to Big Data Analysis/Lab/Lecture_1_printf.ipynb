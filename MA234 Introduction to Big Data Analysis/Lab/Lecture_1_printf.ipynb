{
 "cells": [
  {
   "cell_type": "markdown",
   "metadata": {},
   "source": [
    "# Python中的格式化输出"
   ]
  },
  {
   "cell_type": "markdown",
   "metadata": {},
   "source": [
    "## 1.使用%运算符\n",
    "语法： \n",
    "```python \n",
    "print('字符串' % (变量1, 变量2, ...))\n",
    "```\n",
    "\n",
    "说明：\n",
    "* % 运算符用于连接字符串和变量。\n",
    "* 字符串 中可以使用占位符，如 %s (字符串)、%d (整数)、%f (浮点数) 等，表示要插入的变量类型。\n",
    "* % 后面的括号中按顺序放入要替换占位符的变量。\n",
    "\n",
    "示例："
   ]
  },
  {
   "cell_type": "code",
   "execution_count": 2,
   "metadata": {},
   "outputs": [
    {
     "name": "stdout",
     "output_type": "stream",
     "text": [
      "我的名字是张三，年龄是25岁。\n"
     ]
    }
   ],
   "source": [
    "name = \"张三\"\n",
    "age = 25\n",
    "print(\"我的名字是%s，年龄是%d岁。\" % (name, age))"
   ]
  },
  {
   "cell_type": "markdown",
   "metadata": {},
   "source": [
    "## 2.使用 str.format() 方法\n",
    "语法： \n",
    "```python\n",
    "print('字符串'.format(变量1, 变量2, ...))\n",
    "```\n",
    "\n",
    "说明：\n",
    "* str.format() 方法使用花括号 {} 作为占位符。\n",
    "* 花括号中可以指定索引，如 {0}、{1}，表示要插入的变量在参数中的位置。\n",
    "* 也可以使用关键字参数，如 name、age，在花括号中直接引用变量名。\n",
    "\n",
    "示例："
   ]
  },
  {
   "cell_type": "code",
   "execution_count": 1,
   "metadata": {},
   "outputs": [
    {
     "name": "stdout",
     "output_type": "stream",
     "text": [
      "姓名：李四，成绩：90\n",
      "姓名：李四，成绩：90\n"
     ]
    }
   ],
   "source": [
    "name = \"李四\"\n",
    "score = 90\n",
    "print(\"姓名：{0}，成绩：{1}\".format(name, score))\n",
    "print(\"姓名：{name}，成绩：{score}\".format(name=name, score=score))"
   ]
  },
  {
   "cell_type": "markdown",
   "metadata": {},
   "source": [
    "## 3.使用 f-string (Python 3.6+)\n",
    "语法： \n",
    "```python\n",
    "print(f'字符串')\n",
    "```\n",
    "\n",
    "说明：\n",
    "\n",
    "* f-string 是 Python 3.6 引入的一种更简洁的格式化字符串方式。\n",
    "* 在字符串前加上 f，然后在花括号 {} 中直接放入变量名或表达式。\n",
    "\n",
    "示例：\n"
   ]
  },
  {
   "cell_type": "code",
   "execution_count": 3,
   "metadata": {},
   "outputs": [
    {
     "name": "stdout",
     "output_type": "stream",
     "text": [
      "今天的气温是28度，地点是北京。\n"
     ]
    }
   ],
   "source": [
    "city = \"北京\"\n",
    "temperature = 28\n",
    "print(f\"今天的气温是{temperature}度，地点是{city}。\")"
   ]
  }
 ],
 "metadata": {
  "kernelspec": {
   "display_name": ".venv",
   "language": "python",
   "name": "python3"
  },
  "language_info": {
   "codemirror_mode": {
    "name": "ipython",
    "version": 3
   },
   "file_extension": ".py",
   "mimetype": "text/x-python",
   "name": "python",
   "nbconvert_exporter": "python",
   "pygments_lexer": "ipython3",
   "version": "3.13.1"
  }
 },
 "nbformat": 4,
 "nbformat_minor": 2
}
