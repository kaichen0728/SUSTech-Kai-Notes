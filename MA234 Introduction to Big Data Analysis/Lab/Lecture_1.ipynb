{
 "cells": [
  {
   "cell_type": "markdown",
   "metadata": {},
   "source": [
    "# Python Preliminaries"
   ]
  },
  {
   "cell_type": "markdown",
   "metadata": {},
   "source": [
    "Python is cross-platform, it runs on Windows, Mac, and various Linux/Unix systems. Writing Python programs on Windows and putting them on Linux is also capable of running.\n",
    "\n",
    "To start learning Python programming, you first have to install Python on your computer. Once installed, you get the Python interpreter (that's what's responsible for running Python programs), a command line interactive environment, and a simple integrated development environment.\n",
    "\n",
    "We use Anaconda, which is a highly integrated package for Python scientific computing.\n",
    "\n",
    "TsingHua mirror:\n",
    "\n",
    "https://mirrors.tuna.tsinghua.edu.cn/anaconda/archive/"
   ]
  },
  {
   "cell_type": "markdown",
   "metadata": {},
   "source": [
    "### Get input"
   ]
  },
  {
   "cell_type": "code",
   "execution_count": 1,
   "metadata": {
    "ExecuteTime": {
     "end_time": "2025-02-18T11:14:46.245182Z",
     "start_time": "2025-02-18T11:14:39.911845Z"
    }
   },
   "outputs": [
    {
     "name": "stdout",
     "output_type": "stream",
     "text": [
      "hello, kai\n"
     ]
    }
   ],
   "source": [
    "name = input('please enter your name: ')\n",
    "print('hello,', name)"
   ]
  },
  {
   "cell_type": "code",
   "execution_count": null,
   "metadata": {
    "ExecuteTime": {
     "end_time": "2025-02-18T11:35:30.130903Z",
     "start_time": "2025-02-18T11:35:30.128987Z"
    }
   },
   "outputs": [
    {
     "name": "stdout",
     "output_type": "stream",
     "text": [
      "The Zen of Python, by Tim Peters\n",
      "\n",
      "Beautiful is better than ugly.\n",
      "Explicit is better than implicit.\n",
      "Simple is better than complex.\n",
      "Complex is better than complicated.\n",
      "Flat is better than nested.\n",
      "Sparse is better than dense.\n",
      "Readability counts.\n",
      "Special cases aren't special enough to break the rules.\n",
      "Although practicality beats purity.\n",
      "Errors should never pass silently.\n",
      "Unless explicitly silenced.\n",
      "In the face of ambiguity, refuse the temptation to guess.\n",
      "There should be one-- and preferably only one --obvious way to do it.\n",
      "Although that way may not be obvious at first unless you're Dutch.\n",
      "Now is better than never.\n",
      "Although never is often better than *right* now.\n",
      "If the implementation is hard to explain, it's a bad idea.\n",
      "If the implementation is easy to explain, it may be a good idea.\n",
      "Namespaces are one honking great idea -- let's do more of those!\n"
     ]
    }
   ],
   "source": [
    "import this # python 格言"
   ]
  },
  {
   "cell_type": "markdown",
   "metadata": {},
   "source": [
    "## Basic"
   ]
  },
  {
   "cell_type": "code",
   "execution_count": 4,
   "metadata": {
    "ExecuteTime": {
     "end_time": "2025-02-18T11:36:09.017037Z",
     "start_time": "2025-02-18T11:36:09.015050Z"
    }
   },
   "outputs": [
    {
     "name": "stdout",
     "output_type": "stream",
     "text": [
      "a\n",
      "<class 'str'>\n",
      "3\n",
      "<class 'int'>\n"
     ]
    }
   ],
   "source": [
    "x = \"a\" # 变量命名\n",
    "print(x)# 打印变量的值\n",
    "print(type(x)) # 查看变量类型\n",
    "x = 3# 之所以成为动态语言的原因\n",
    "print(x)\n",
    "print(type(x))"
   ]
  },
  {
   "cell_type": "code",
   "execution_count": 5,
   "metadata": {
    "ExecuteTime": {
     "end_time": "2025-02-18T11:14:46.418593Z",
     "start_time": "2025-02-18T11:14:46.416754Z"
    }
   },
   "outputs": [
    {
     "name": "stdout",
     "output_type": "stream",
     "text": [
      "['False', 'None', 'True', 'and', 'as', 'assert', 'async', 'await', 'break', 'class', 'continue', 'def', 'del', 'elif', 'else', 'except', 'finally', 'for', 'from', 'global', 'if', 'import', 'in', 'is', 'lambda', 'nonlocal', 'not', 'or', 'pass', 'raise', 'return', 'try', 'while', 'with', 'yield']\n"
     ]
    }
   ],
   "source": [
    "#?ab,2ab,_ab # 变量命名规则，大小写敏感\n",
    "# 关键字\n",
    "import keyword\n",
    "print(keyword.kwlist)"
   ]
  },
  {
   "cell_type": "code",
   "execution_count": 6,
   "metadata": {
    "ExecuteTime": {
     "end_time": "2025-02-18T11:14:46.435606Z",
     "start_time": "2025-02-18T11:14:46.433873Z"
    }
   },
   "outputs": [
    {
     "name": "stdout",
     "output_type": "stream",
     "text": [
      "4 2 6 1.5 9\n",
      "1.5\n",
      "1\n"
     ]
    }
   ],
   "source": [
    "print(x + 1,x - 1, x * 2,x/2, x ** 2) # 数学运算，加减乘除幂运算    # x ** 2  --> x的平方\n",
    "print(3/2) # 除法\n",
    "print(3//2) # 取整\n",
    "# x+=1? x*=2?\n",
    "# x++ ++x?\n"
   ]
  },
  {
   "cell_type": "markdown",
   "metadata": {},
   "source": [
    "## Data Type and Variable"
   ]
  },
  {
   "cell_type": "markdown",
   "metadata": {},
   "source": [
    "* Immutable Data Types: **integers,Booleans, floats, strings, tuples**\n",
    "* Mutable Data Types:  lists, dictionaries, sets, and user-defined classes."
   ]
  },
  {
   "cell_type": "code",
   "execution_count": 7,
   "metadata": {
    "ExecuteTime": {
     "end_time": "2025-02-18T11:14:46.506727Z",
     "start_time": "2025-02-18T11:14:46.454932Z"
    }
   },
   "outputs": [
    {
     "ename": "TypeError",
     "evalue": "'str' object does not support item assignment",
     "output_type": "error",
     "traceback": [
      "\u001b[0;31m---------------------------------------------------------------------------\u001b[0m",
      "\u001b[0;31mTypeError\u001b[0m                                 Traceback (most recent call last)",
      "Cell \u001b[0;32mIn[7], line 2\u001b[0m\n\u001b[1;32m      1\u001b[0m name_1 \u001b[38;5;241m=\u001b[39m \u001b[38;5;124m\"\u001b[39m\u001b[38;5;124mVarun\u001b[39m\u001b[38;5;124m\"\u001b[39m\n\u001b[0;32m----> 2\u001b[0m name_1[\u001b[38;5;241m0\u001b[39m] \u001b[38;5;241m=\u001b[39m \u001b[38;5;124m'\u001b[39m\u001b[38;5;124mT\u001b[39m\u001b[38;5;124m'\u001b[39m\n",
      "\u001b[0;31mTypeError\u001b[0m: 'str' object does not support item assignment"
     ]
    }
   ],
   "source": [
    "name_1 = \"Varun\"\n",
    "name_1[0] = 'T'"
   ]
  },
  {
   "cell_type": "code",
   "execution_count": 12,
   "metadata": {},
   "outputs": [
    {
     "data": {
      "text/plain": [
       "'VaAun'"
      ]
     },
     "execution_count": 12,
     "metadata": {},
     "output_type": "execute_result"
    }
   ],
   "source": [
    "name_1.replace('r','A')# 更改字符\n",
    "# 返回了一个新字符，原字符不变"
   ]
  },
  {
   "cell_type": "code",
   "execution_count": 16,
   "metadata": {},
   "outputs": [
    {
     "data": {
      "text/plain": [
       "'Varun'"
      ]
     },
     "execution_count": 16,
     "metadata": {},
     "output_type": "execute_result"
    }
   ],
   "source": [
    "name_1\n",
    "# Jupyternotebook 里面的一个特性，如果最后一行是一个变量，那么会自动打印出来"
   ]
  },
  {
   "cell_type": "code",
   "execution_count": 17,
   "metadata": {},
   "outputs": [
    {
     "name": "stdout",
     "output_type": "stream",
     "text": [
      "Varun\n"
     ]
    }
   ],
   "source": [
    "print(name_1)"
   ]
  },
  {
   "cell_type": "code",
   "execution_count": 18,
   "metadata": {},
   "outputs": [
    {
     "name": "stdout",
     "output_type": "stream",
     "text": [
      "Varun\n"
     ]
    },
    {
     "data": {
      "text/plain": [
       "'Varun'"
      ]
     },
     "execution_count": 18,
     "metadata": {},
     "output_type": "execute_result"
    }
   ],
   "source": [
    "print(name_1)\n",
    "name_1"
   ]
  },
  {
   "cell_type": "markdown",
   "metadata": {},
   "source": [
    "Container: Strings, tuples, lists, sets, dicts"
   ]
  },
  {
   "cell_type": "markdown",
   "metadata": {},
   "source": [
    "### Strings"
   ]
  },
  {
   "cell_type": "code",
   "execution_count": null,
   "metadata": {},
   "outputs": [
    {
     "name": "stdout",
     "output_type": "stream",
     "text": [
      "11\n",
      "B\n",
      "t\n",
      "Boyabigdata\n",
      "oy\n",
      "Boyabigdataxyz\n",
      "BoyabigdataBoyabigdataBoyabigdata\n",
      "B\\nya\n",
      "\\nBya\n",
      "\n",
      "Bya\n",
      "4\n",
      "Boyasmalldata\n",
      "BOYABIGDATA\n",
      "True\n",
      "False\n",
      "True\n",
      "<built-in method startswith of str object at 0x105413af0>\n",
      "['Boy', 'bigd', 't', '']\n"
     ]
    }
   ],
   "source": [
    "S = 'Boyabigdata'\n",
    "print(len(S))# 长度\n",
    "print(S[0])# 索引，顺序和逆序\n",
    "print(S[-2])\n",
    "print(S[:])# 切片\n",
    "print(S[1:3])# 左闭右开\n",
    "print(S+'xyz')# 合并和重复\n",
    "print(S*3)\n",
    "raws = r'B\\nya'# 原始字符串\n",
    "print(raws)\n",
    "print(r'\\nBya')\n",
    "print('\\nBya')\n",
    "print(S.find('big'))# 搜索\n",
    "print(S.replace('big','small'))# 替换\n",
    "print(S.upper())# 大小写\n",
    "print(S.isalpha())# 判断是否只包含字母\n",
    "print(S.isdigit())# 判断是否只包含数字\n",
    "print(S.endswith('data'))\n",
    "print(S.startswith)\n",
    "print(S.split('a'))# 分割"
   ]
  },
  {
   "cell_type": "markdown",
   "metadata": {},
   "source": [
    "### Data type transfer \n",
    "\n",
    "int(),float(),bool(),str() "
   ]
  },
  {
   "cell_type": "markdown",
   "metadata": {},
   "source": [
    "### List\n",
    "\n"
   ]
  },
  {
   "cell_type": "code",
   "execution_count": 19,
   "metadata": {},
   "outputs": [
    {
     "name": "stdout",
     "output_type": "stream",
     "text": [
      "3\n",
      "1325\n",
      "['1325', 'City Hospital', 0.67, '01/01/2014']\n",
      "['1325', 'City Hospital', 0.67, '12/31/2014', '01/01/2014']\n"
     ]
    }
   ],
   "source": [
    "sample = ['1325','City Hospital',0.67]\n",
    "print(len(sample)) # 列表长度\n",
    "print(sample[0]) # 列表索引\n",
    "sample.append('01/01/2014') # 添加列表元素：末尾添加'01/01/2014'\n",
    "print(sample)\n",
    "sample.insert(-1,'12/31/2014') # 添加列表元素：指定位置-1添加'12/31/2014' \n",
    "#并且从这个位置开始的所有元素都向后移动一个位置！\n",
    "# -1表示倒数第一个元素!\n",
    "print(sample)"
   ]
  },
  {
   "cell_type": "code",
   "execution_count": 22,
   "metadata": {},
   "outputs": [
    {
     "name": "stdout",
     "output_type": "stream",
     "text": [
      "['MARSHALL MEDICAL CENTER SOUTH', 'Score']\n",
      "['Hospital Name', 'MARSHALL MEDICAL CENTER SOUTH', 'Score', 0.98]\n",
      "['Hospital Name', 'MARSHALL MEDICAL CENTER SOUTH']\n",
      "['Hospital Name', 'MARSHALL MEDICAL CENTER SOUTH', 'Score']\n",
      "['Score', 0.98]\n",
      "[0.98, 'Score', 'MARSHALL MEDICAL CENTER SOUTH', 'Hospital Name']\n",
      "[1, 2, 3, 4, 5, 6]\n"
     ]
    }
   ],
   "source": [
    "shortinfo = ['Hospital Name', 'MARSHALL MEDICAL CENTER SOUTH', 'Score', 0.98]\n",
    "print(shortinfo[1:3])# 列表切片 1-3 但不包括3 左闭右开\n",
    "print(shortinfo[:]) # 拷贝列表\n",
    "\n",
    "# list[start:stop:step] 从start开始到stop结束，每隔step取一个元素\n",
    "\n",
    "print(shortinfo[:2])# 从头开始切片到位置2\n",
    "print(shortinfo[:-1])# 从头开始切片到位置-1\n",
    "print(shortinfo[2:])# 从位置2开始到尾部切片\n",
    "print(shortinfo[::-1])# 切片产生逆序,等价于reverse()，区别？\n",
    "\n",
    "# shortinfo[::-1]实际上是创建了一个新的逆序列表，而原始列表shortinfo并没有改变。\n",
    "# shortinfo.reverse()是在原始列表上进行逆序操作，所以原始列表shortinfo会改变。\n",
    "\n",
    "# 其他也会改变列表的方法\n",
    "list1 = [1, 2, 3]\n",
    "list2 = [4, 5, 6]\n",
    "list1.extend(list2)\n",
    "print(list1)  # 输出: [1, 2, 3, 4, 5, 6]"
   ]
  },
  {
   "cell_type": "markdown",
   "metadata": {},
   "source": [
    "Rmk:\n",
    "\n",
    "**hortinfo[::-1]实际上是创建了一个新的逆序列表，而原始列表shortinfo并没有改变。**\n",
    "\n",
    "**shortinfo.reverse()是在原始列表上进行逆序操作，所以原始列表shortinfo会改变。**"
   ]
  },
  {
   "cell_type": "code",
   "execution_count": 23,
   "metadata": {},
   "outputs": [
    {
     "name": "stdout",
     "output_type": "stream",
     "text": [
      "[1, 2, 3, 4]\n",
      "[2, 3, 4, 5, 6, 7, 8, 9]\n",
      "[0, 1, 2, 3, 4, 5, 6]\n",
      "[0, 2, 4, 6, 8]\n",
      "[1, 3, 5, 7, 9]\n"
     ]
    }
   ],
   "source": [
    "my_list = [0, 1, 2, 3, 4, 5, 6, 7, 8, 9]\n",
    "\n",
    "# 获取索引为1到5的元素（不包含索引5）\n",
    "print(my_list[1:5])  # 输出：[1, 2, 3, 4]\n",
    "\n",
    "# 获取从索引2开始到列表末尾的元素\n",
    "print(my_list[2:])  # 输出：[2, 3, 4, 5, 6, 7, 8, 9]\n",
    "\n",
    "# 获取从列表开始到索引为7的元素（不包含索引7）\n",
    "print(my_list[:7])  # 输出：[0, 1, 2, 3, 4, 5, 6]\n",
    "\n",
    "# 每隔一个元素取值\n",
    "print(my_list[::2])  # 输出：[0, 2, 4, 6, 8]\n",
    "\n",
    "# 从索引1开始，每隔两个元素取值\n",
    "print(my_list[1::2])  # 输出：[1, 3, 5, 7, 9]"
   ]
  },
  {
   "cell_type": "code",
   "execution_count": 24,
   "metadata": {},
   "outputs": [
    {
     "data": {
      "text/plain": [
       "['Hospital Name', 'MARSHALL MEDICAL CENTER SOUTH', 'Score', 0.98]"
      ]
     },
     "execution_count": 24,
     "metadata": {},
     "output_type": "execute_result"
    }
   ],
   "source": [
    "shortinfo"
   ]
  },
  {
   "cell_type": "code",
   "execution_count": 25,
   "metadata": {},
   "outputs": [],
   "source": [
    "shortinfo.reverse()"
   ]
  },
  {
   "cell_type": "code",
   "execution_count": 26,
   "metadata": {},
   "outputs": [
    {
     "data": {
      "text/plain": [
       "[0.98, 'Score', 'MARSHALL MEDICAL CENTER SOUTH', 'Hospital Name']"
      ]
     },
     "execution_count": 26,
     "metadata": {},
     "output_type": "execute_result"
    }
   ],
   "source": [
    "shortinfo"
   ]
  },
  {
   "cell_type": "code",
   "execution_count": 27,
   "metadata": {},
   "outputs": [
    {
     "name": "stdout",
     "output_type": "stream",
     "text": [
      "['Hospital Name', 'Score', 0.98]\n"
     ]
    }
   ],
   "source": [
    "shortinfo = ['Hospital Name', 'MARSHALL MEDICAL CENTER SOUTH', 'Score', 0.98]\n",
    "shortinfo.remove('MARSHALL MEDICAL CENTER SOUTH') # 元素删除：remove方法\n",
    "print(shortinfo)"
   ]
  },
  {
   "cell_type": "code",
   "execution_count": 28,
   "metadata": {},
   "outputs": [
    {
     "name": "stdout",
     "output_type": "stream",
     "text": [
      "['Hospital Name', 'Score', 0.98]\n"
     ]
    }
   ],
   "source": [
    "shortinfo = ['Hospital Name', 'MARSHALL MEDICAL CENTER SOUTH', 'Score', 0.98]\n",
    "del shortinfo[1] # 元素删除：del方法\n",
    "print(shortinfo)"
   ]
  },
  {
   "cell_type": "code",
   "execution_count": 29,
   "metadata": {},
   "outputs": [
    {
     "name": "stdout",
     "output_type": "stream",
     "text": [
      "['Hospital Name', 'Score', 0.98]\n"
     ]
    }
   ],
   "source": [
    "shortinfo = ['Hospital Name', 'MARSHALL MEDICAL CENTER SOUTH', 'Score', 0.98]\n",
    "shortinfo.pop(1) # 元素删除：pop方法\n",
    "print(shortinfo)"
   ]
  },
  {
   "cell_type": "code",
   "execution_count": null,
   "metadata": {},
   "outputs": [
    {
     "data": {
      "text/plain": [
       "'hack'"
      ]
     },
     "execution_count": 30,
     "metadata": {},
     "output_type": "execute_result"
    }
   ],
   "source": [
    "\"\".join(['h','a','c','k'])# 列表元素连接为字符串,任何列表都可以吗？\n",
    "# 在 \"\".join(['h','a','c','k']) 这个例子中，\"\" 表示空字符串，即没有分隔符。\n",
    "# 因此，join() 方法将列表 ['h','a','c','k'] 中的每个元素连接起来，形成字符串 \"hack\"。"
   ]
  },
  {
   "cell_type": "code",
   "execution_count": 31,
   "metadata": {},
   "outputs": [
    {
     "ename": "TypeError",
     "evalue": "sequence item 0: expected str instance, int found",
     "output_type": "error",
     "traceback": [
      "\u001b[0;31m---------------------------------------------------------------------------\u001b[0m",
      "\u001b[0;31mTypeError\u001b[0m                                 Traceback (most recent call last)",
      "Cell \u001b[0;32mIn[31], line 1\u001b[0m\n\u001b[0;32m----> 1\u001b[0m \u001b[38;5;124m\"\u001b[39m\u001b[38;5;124m\"\u001b[39m\u001b[38;5;241m.\u001b[39mjoin([\u001b[38;5;241m1\u001b[39m, \u001b[38;5;241m2\u001b[39m, \u001b[38;5;241m3\u001b[39m])\n",
      "\u001b[0;31mTypeError\u001b[0m: sequence item 0: expected str instance, int found"
     ]
    }
   ],
   "source": [
    "\"\".join([1, 2, 3])  # 错误：TypeError: sequence item 0: expected str instance, int found\n",
    "\n",
    "# join() 方法要求可迭代对象中的每个元素都可以转换为字符串。如果列表中包含非字符串类型的元素（如整数、浮点数、布尔值等），则会引发 TypeError 错误。\n",
    "# 为了解决这个问题，可以使用列表推导式将列表中的每个元素转换为字符串，然后再调用 join() 方法："
   ]
  },
  {
   "cell_type": "code",
   "execution_count": 32,
   "metadata": {},
   "outputs": [
    {
     "data": {
      "text/plain": [
       "'123'"
      ]
     },
     "execution_count": 32,
     "metadata": {},
     "output_type": "execute_result"
    }
   ],
   "source": [
    "my_list = [1, 2, 3]\n",
    "\"\".join([str(x) for x in my_list])  # 输出：'123'\n",
    "# [str(x) for x in my_list]：这是一个列表推导式，它遍历 my_list 中的每个元素 x，并使用 str(x) 将其转换为字符串类型。\n",
    "# 结果是一个新的列表，包含字符串类型的元素 ['1', '2', '3']。"
   ]
  },
  {
   "cell_type": "code",
   "execution_count": 33,
   "metadata": {},
   "outputs": [
    {
     "data": {
      "text/plain": [
       "'123'"
      ]
     },
     "execution_count": 33,
     "metadata": {},
     "output_type": "execute_result"
    }
   ],
   "source": [
    "my_list = [1, 2, 3]\n",
    "\"\".join(map(str, my_list))  # 输出：'123'\n",
    "# map(str, my_list) 将 str 函数应用于 my_list 中的每个元素，返回一个迭代器，其中包含转换后的字符串元素。然后，join() 方法将这些字符串连接起来。"
   ]
  },
  {
   "cell_type": "code",
   "execution_count": 34,
   "metadata": {},
   "outputs": [
    {
     "data": {
      "text/plain": [
       "['h', 'a', 'c', 'k']"
      ]
     },
     "execution_count": 34,
     "metadata": {},
     "output_type": "execute_result"
    }
   ],
   "source": [
    "list('hack')# list() 是 Python 的一个内置函数，用于将可迭代对象（iterable）转换为列表。"
   ]
  },
  {
   "cell_type": "markdown",
   "metadata": {},
   "source": [
    "### Copy"
   ]
  },
  {
   "cell_type": "code",
   "execution_count": 35,
   "metadata": {},
   "outputs": [
    {
     "name": "stdout",
     "output_type": "stream",
     "text": [
      "['hack', 'data']\n",
      "['hack', 'data']\n"
     ]
    }
   ],
   "source": [
    "# 赋值操作\n",
    "name1 = ['hack']\n",
    "name2 = name1 # name1 和 name2 都指向同一个列表\n",
    "name1.append('data')\n",
    "print(name1)\n",
    "print(name2)\n",
    "\n",
    "# 为什么又无需过多考虑地址？\n",
    "# 不可变性：Python中的字符串是不可变的。这意味着一旦创建了一个字符串对象，就无法修改它的内容。\n",
    "# 自动内存管理：Python具有自动内存管理机制（垃圾回收）。当一个字符串对象不再被引用时，Python会自动释放它所占用的内存。"
   ]
  },
  {
   "cell_type": "code",
   "execution_count": 36,
   "metadata": {},
   "outputs": [
    {
     "name": "stdout",
     "output_type": "stream",
     "text": [
      "['a', ['do', ['da', 'b']]]\n",
      "['hook', ['do', ['da', 'b']]]\n"
     ]
    }
   ],
   "source": [
    "# 浅拷贝操作\n",
    "# 浅拷贝：创建一个新对象，然后将原始对象中的非嵌套对象的引用复制到新对象中。这意味着，新对象和原始对象共享相同的非嵌套对象。\n",
    "name1 = ['a',['hack',['da','ta']]]\n",
    "name2 = name1[:]\n",
    "#name2 = name1\n",
    "name2[0] = 'hook'\n",
    "name2[1][0] = 'do'\n",
    "name2[1][1][1]='b'\n",
    "print(name1)\n",
    "print(name2)"
   ]
  },
  {
   "cell_type": "code",
   "execution_count": 37,
   "metadata": {},
   "outputs": [
    {
     "name": "stdout",
     "output_type": "stream",
     "text": [
      "['hack', ['da', 'ta']]\n",
      "['hook', ['do', 'ta']]\n"
     ]
    }
   ],
   "source": [
    "# 深拷贝操作\n",
    "# 深拷贝：创建一个新对象，然后递归地复制原始对象中的所有对象，包括嵌套对象。这意味着，新对象和原始对象完全独立，互不影响。\n",
    "from copy import deepcopy\n",
    "name1 = ['hack',['da','ta']]\n",
    "name2 = deepcopy(name1) \n",
    "name2[0] = 'hook'\n",
    "name2[1][0] = 'do'\n",
    "print(name1)\n",
    "print(name2)"
   ]
  },
  {
   "cell_type": "markdown",
   "metadata": {},
   "source": [
    "### Control"
   ]
  },
  {
   "cell_type": "code",
   "execution_count": 38,
   "metadata": {},
   "outputs": [
    {
     "name": "stdout",
     "output_type": "stream",
     "text": [
      "Hospital Name\n",
      "Score\n",
      "0.98\n"
     ]
    }
   ],
   "source": [
    "for item in shortinfo:\n",
    "    print(item)"
   ]
  },
  {
   "cell_type": "code",
   "execution_count": 39,
   "metadata": {},
   "outputs": [
    {
     "name": "stdout",
     "output_type": "stream",
     "text": [
      "['Hospital Name', 'Score', 0.98, 1, 1, 1]\n"
     ]
    }
   ],
   "source": [
    "# 循环时改变迭代列表  危险\n",
    "for item in shortinfo[:]:\n",
    "    shortinfo.append(1)\n",
    "print(shortinfo)"
   ]
  },
  {
   "cell_type": "code",
   "execution_count": 40,
   "metadata": {},
   "outputs": [
    {
     "name": "stdout",
     "output_type": "stream",
     "text": [
      "0 hack\n"
     ]
    }
   ],
   "source": [
    "# range函数\n",
    "l = ['hack','data']\n",
    "for index in range(len(l)-1): # range() 函数返回一个整数序列，从 0 开始（默认值），递增步长为 1，直到达到指定的结束值。 但是也是左闭右开。\n",
    "    print(index, l[index])"
   ]
  },
  {
   "cell_type": "markdown",
   "metadata": {},
   "source": [
    "range() 函数的第三个参数是步长（step），用于指定每次递增（或递减）的值。默认步长为 1。\n",
    "\n",
    "list(range(0,-10,-2)) 会生成一个递减的整数序列，从 0 开始，每次递减 2，直到达到 -10（不包括 -10）。\n",
    "\n",
    "list() 函数将 range() 函数返回的整数序列转换为列表。\n",
    "\n",
    "**注意：list函数生成的是一个整数序列，也就是说，list（）本身就是一个可迭代对象，是一个实体。**"
   ]
  },
  {
   "cell_type": "code",
   "execution_count": null,
   "metadata": {},
   "outputs": [
    {
     "data": {
      "text/plain": [
       "[0, -2, -4, -6, -8]"
      ]
     },
     "execution_count": 68,
     "metadata": {},
     "output_type": "execute_result"
    }
   ],
   "source": [
    "list(range(0,-10,-2)) "
   ]
  },
  {
   "cell_type": "code",
   "execution_count": null,
   "metadata": {},
   "outputs": [
    {
     "name": "stdout",
     "output_type": "stream",
     "text": [
      "[1, 2, 3, 100, 4]\n"
     ]
    }
   ],
   "source": [
    "# 下面两个block讲解list函数的用法\n",
    "my_set = {1, 4, 2, 100, 3}\n",
    "my_list = list(my_set)\n",
    "print(my_list)  # 输出：[1, 2, 3]  (注意：集合是无序的，所以列表中的元素顺序可能与集合不同)"
   ]
  },
  {
   "cell_type": "code",
   "execution_count": null,
   "metadata": {},
   "outputs": [
    {
     "name": "stdout",
     "output_type": "stream",
     "text": [
      "['a', 'b', 'c']\n",
      "[1, 2, 3]\n",
      "[('a', 1), ('b', 2), ('c', 3)]\n"
     ]
    }
   ],
   "source": [
    "my_dict = {\"a\": 1, \"b\": 2, \"c\": 3}\n",
    "my_list = list(my_dict)  # 只转换字典的键\n",
    "print(my_list)  # 输出：['a', 'b', 'c']\n",
    "\n",
    "my_list = list(my_dict.values())  # 只转换字典的值\n",
    "print(my_list)  # 输出：[1, 2, 3]\n",
    "\n",
    "my_list = list(my_dict.items())  # 将字典的键值对转换为元组，然后放入列表\n",
    "print(my_list)  # 输出：[('a', 1), ('b', 2), ('c', 3)]"
   ]
  },
  {
   "cell_type": "markdown",
   "metadata": {},
   "source": [
    "**enumerate函数**\n",
    "\n",
    "enumerate() 函数是 Python 的一个内置函数，用于将一个可迭代对象（如列表、元组、字符串等）转换为一个枚举对象，该枚举对象包含元素的索引和值。\n",
    "\n",
    "enumerate() 函数在循环遍历时非常有用，可以同时获取元素的索引和值。\n",
    "\n",
    "当你调用 enumerate(my_list) 时，它本身返回的是一个 枚举对象 (enumerate object)。这个对象并不是一个列表，也不是一个元组，而是一种特殊的可迭代对象。\n",
    "\n",
    "你可以把它想象成一个“打包”好的东西，它把 my_list 中的每个元素和它们对应的索引“捆绑”在一起了。但这个“包裹”并不会一次性展开，而是当你需要的时候才一个一个地“解开”。\n",
    "\n",
    "让我们更详细地看看\n",
    "\n",
    "* 可迭代性： enumerate(my_list) 返回的枚举对象是可迭代的，这意味着你可以使用 for 循环来遍历它。\n",
    "* 元素是元组： 枚举对象中的每个元素都是一个元组，包含两个部分：\n",
    "* 索引 (从 0 开始)\n",
    "* my_list 中对应位置的元素值\n",
    "* 惰性求值： 枚举对象采用惰性求值的方式。也就是说，它不会一次性生成所有元素的元组，而是在你遍历到某个元素时才生成对应的元组。这在处理大型列表时非常有效，可以节省内存。"
   ]
  },
  {
   "cell_type": "code",
   "execution_count": 41,
   "metadata": {},
   "outputs": [
    {
     "name": "stdout",
     "output_type": "stream",
     "text": [
      "0 hack\n",
      "1 data\n"
     ]
    }
   ],
   "source": [
    "for index, item in enumerate(l):\n",
    "    print(index, item)"
   ]
  },
  {
   "cell_type": "code",
   "execution_count": 42,
   "metadata": {},
   "outputs": [
    {
     "name": "stdout",
     "output_type": "stream",
     "text": [
      "hack 0\n",
      "data 1\n",
      "0 hack\n",
      "1 data\n"
     ]
    }
   ],
   "source": [
    "# zip函数\n",
    "for inde, item in zip(range(len(l)),l):\n",
    "    print(item, inde)\n",
    "\n",
    "# 注意，我们这边发现了index不是一个预置的单词，并且for后面inde和item的顺序是按顺序的\n",
    "\n",
    "for item, inde in zip(range(len(l)),l):\n",
    "    print(item, inde)\n",
    "\n",
    "    # range()返回的是一个list！\n",
    "    # zip()返回的是一个元组！\n",
    "\n",
    "# for后面的先后分别是索引和实际的值"
   ]
  },
  {
   "cell_type": "markdown",
   "metadata": {},
   "source": [
    "zip(*iterables)  \n",
    "\n",
    "其中 *iterables 表示可变数量的参数，每个参数都是一个可迭代对象。\n",
    "\n",
    "zip 函数的工作方式类似于将多个**拉链**“拉”在一起。它将每个可迭代对象中第一个元素打包成一个元组，然后将每个可迭代对象中第二个元素打包成一个元组，以此类推，直到最短的可迭代对象耗尽。"
   ]
  },
  {
   "cell_type": "code",
   "execution_count": 1,
   "metadata": {},
   "outputs": [
    {
     "name": "stdout",
     "output_type": "stream",
     "text": [
      "[(1, 'a', 'x'), (2, 'b', 'y'), (3, 'c', 'z')]\n"
     ]
    }
   ],
   "source": [
    "list1 = [1, 2, 3]\n",
    "list2 = ['a', 'b', 'c']\n",
    "list3 = ['x', 'y', 'z', 'a']\n",
    "\n",
    "result = zip(list1, list2, list3)\n",
    "print(list(result))\n",
    "# list() 函数将一个可迭代对象（这里是 zip() 函数返回的迭代器）转换为一个列表。\n",
    "# 它会遍历迭代器中的每个元素（即上面生成的元组），并将它们作为列表的元素。"
   ]
  },
  {
   "cell_type": "markdown",
   "metadata": {},
   "source": [
    "zip 函数在“拉链”时可能会遇到“对不上”的情况。这种情况发生在输入的可迭代对象的长度不同时。\n",
    "* zip 函数会以最短的可迭代对象的长度为准进行“拉链”。\n",
    "* 也就是说，它只会将每个可迭代对象中对应位置且都存在的元素打包成元组。\n",
    "* 较长的可迭代对象中剩余的元素会被忽略。"
   ]
  },
  {
   "cell_type": "code",
   "execution_count": null,
   "metadata": {},
   "outputs": [
    {
     "name": "stdout",
     "output_type": "stream",
     "text": [
      "negative\n"
     ]
    }
   ],
   "source": [
    "# if 条件语句\n",
    "review_sentiment = -1\n",
    "if review_sentiment > 0 :   \n",
    "    print('positive')\n",
    "elif review_sentiment ==0:\n",
    "    print('neutral')\n",
    "else: \n",
    "    print('negative')"
   ]
  },
  {
   "cell_type": "code",
   "execution_count": null,
   "metadata": {},
   "outputs": [
    {
     "name": "stdout",
     "output_type": "stream",
     "text": [
      "review_sentiment equals 0\n",
      "review_sentiment equals 1\n",
      "review_sentiment equals 2\n",
      "review_sentiment equals 3\n",
      "review_sentiment equals 4\n",
      "review_sentiment equals 5\n"
     ]
    }
   ],
   "source": [
    "# while 循环结构\n",
    "review_sentiment = -1\n",
    "while review_sentiment < 5:  \n",
    "    review_sentiment += 1\n",
    "    print('review_sentiment equals %d' % review_sentiment)"
   ]
  },
  {
   "cell_type": "markdown",
   "metadata": {},
   "source": [
    "在 Python 中，while 循环可以带有一个可选的 else 子句。\n",
    "\n",
    "这个 **else 子句的代码块只有在 while 循环正常结束时（即循环条件变为 False，但不是因为执行了 break 语句而中断）才会被执行**。"
   ]
  },
  {
   "cell_type": "code",
   "execution_count": 2,
   "metadata": {},
   "outputs": [
    {
     "name": "stdout",
     "output_type": "stream",
     "text": [
      "找到元素 30，索引为 2\n",
      "未找到元素 60\n"
     ]
    }
   ],
   "source": [
    "def find_element(elements, target):\n",
    "    index = 0\n",
    "    while index < len(elements):\n",
    "        if elements[index] == target:\n",
    "            print(f\"找到元素 {target}，索引为 {index}\")\n",
    "            break  # 找到元素，中断循环\n",
    "        index += 1\n",
    "    else:\n",
    "        print(f\"未找到元素 {target}\")\n",
    "\n",
    "my_list = [10, 20, 30, 40, 50]\n",
    "\n",
    "find_element(my_list, 30)  # 输出：找到元素 30，索引为 2\n",
    "find_element(my_list, 60)  # 输出：未找到元素 60"
   ]
  },
  {
   "cell_type": "markdown",
   "metadata": {},
   "source": [
    "在 Python 中，当 while 循环的条件从满足变为不满足时，**会执行最后一次条件判断**。"
   ]
  },
  {
   "cell_type": "code",
   "execution_count": null,
   "metadata": {},
   "outputs": [
    {
     "name": "stdout",
     "output_type": "stream",
     "text": [
      "当前 count 值为：0\n",
      "当前 count 值为：1\n",
      "当前 count 值为：2\n",
      "当前 count 值为：3\n",
      "当前 count 值为：4\n"
     ]
    },
    {
     "data": {
      "text/plain": [
       "5"
      ]
     },
     "execution_count": 100,
     "metadata": {},
     "output_type": "execute_result"
    }
   ],
   "source": [
    "count = 0\n",
    "while count < 5:\n",
    "    print(f\"当前 count 值为：{count}\")\n",
    "    count += 1\n",
    "\n",
    "count\n",
    "# JupyterNotebook输出的是5，说明count在循环结束后的值是5"
   ]
  },
  {
   "cell_type": "code",
   "execution_count": null,
   "metadata": {},
   "outputs": [
    {
     "ename": "SyntaxError",
     "evalue": "invalid syntax (2834397652.py, line 2)",
     "output_type": "error",
     "traceback": [
      "\u001b[0;36m  Cell \u001b[0;32mIn[102], line 2\u001b[0;36m\u001b[0m\n\u001b[0;31m    while (count++) < 5:# 没有i++这种写法，在python中！\u001b[0m\n\u001b[0m                  ^\u001b[0m\n\u001b[0;31mSyntaxError\u001b[0m\u001b[0;31m:\u001b[0m invalid syntax\n"
     ]
    }
   ],
   "source": [
    "count = 0\n",
    "while (count++) < 5:# 没有i++这种写法，在python中！\n",
    "    print(f\"当前 count 值为：{count}\")\n",
    "    count += 1\n",
    "\n",
    "count"
   ]
  },
  {
   "cell_type": "markdown",
   "metadata": {},
   "source": [
    "在 Java 中，由于 i++ 是后自增运算符，它会先返回 i 的当前值，然后再将 i 的值增加 1。因此，循环条件判断使用的是 i 的原始值，而循环体中 i 的值已经被增加了 1。这可能会导致一些意想不到的结果。\n",
    "\n",
    "在 Python 中，由于**没有 i++ 这种写法**，因此从根本上避免了这个问题。通常的做法是将变量更新（例如 i += 1）放在循环体的末尾，这样可以保证条件判断使用的是更新后的变量值。"
   ]
  },
  {
   "cell_type": "code",
   "execution_count": null,
   "metadata": {},
   "outputs": [
    {
     "name": "stdout",
     "output_type": "stream",
     "text": [
      "review_sentiment equals 0\n",
      "review_sentiment equals 1\n",
      "review_sentiment equals 2\n"
     ]
    }
   ],
   "source": [
    "# break,continue,pass\n",
    "review_sentiment = -1\n",
    "while review_sentiment < 20:  \n",
    "    review_sentiment += 1\n",
    "    print('review_sentiment equals %d' % review_sentiment)\n",
    "    if review_sentiment > 1:\n",
    "        break"
   ]
  },
  {
   "cell_type": "markdown",
   "metadata": {},
   "source": [
    "**pass**\n",
    "\n",
    "作用： \n",
    "* pass 是一个空语句，它不做任何事情。它通常用作占位符，当语法上需要一条语句，但程序逻辑上不需要任何操作时使用。\n",
    "\n",
    "使用场景：\n",
    "\n",
    "* 在定义函数或类时，如果暂时没有实现具体代码，可以使用 pass 占位，避免语法错误。\n",
    "* 在循环或其他语句中，如果需要满足语法要求，但暂时不需要执行任何操作，可以使用 pass 占位。"
   ]
  },
  {
   "cell_type": "markdown",
   "metadata": {},
   "source": [
    "### Tuples 元组"
   ]
  },
  {
   "cell_type": "code",
   "execution_count": null,
   "metadata": {},
   "outputs": [
    {
     "name": "stdout",
     "output_type": "stream",
     "text": [
      "('Hospital Name', 'Score', 0.98, 1, 1, 1, 1, 1, 1, 1, 1, 1)\n"
     ]
    }
   ],
   "source": [
    "shortinfo_tuple = tuple(shortinfo) # 元素不可变 就两个方法,count,index\n",
    "print(shortinfo_tuple)"
   ]
  },
  {
   "cell_type": "code",
   "execution_count": null,
   "metadata": {},
   "outputs": [
    {
     "name": "stdout",
     "output_type": "stream",
     "text": [
      "1 2 hello\n"
     ]
    }
   ],
   "source": [
    "# 打包\n",
    "my_tuple = (1, 2, \"hello\")\n",
    "\n",
    "# 解包\n",
    "a, b, c = my_tuple\n",
    "print(a, b, c)  # 输出：1 2 hello"
   ]
  },
  {
   "cell_type": "code",
   "execution_count": null,
   "metadata": {},
   "outputs": [],
   "source": [
    "a=(1,2,3)"
   ]
  },
  {
   "cell_type": "code",
   "execution_count": null,
   "metadata": {},
   "outputs": [
    {
     "ename": "TypeError",
     "evalue": "'tuple' object does not support item assignment",
     "output_type": "error",
     "traceback": [
      "\u001b[0;31m---------------------------------------------------------------------------\u001b[0m",
      "\u001b[0;31mTypeError\u001b[0m                                 Traceback (most recent call last)",
      "Cell \u001b[0;32mIn[120], line 1\u001b[0m\n\u001b[0;32m----> 1\u001b[0m a[\u001b[38;5;241m0\u001b[39m]\u001b[38;5;241m=\u001b[39m\u001b[38;5;241m9\u001b[39m\n",
      "\u001b[0;31mTypeError\u001b[0m: 'tuple' object does not support item assignment"
     ]
    }
   ],
   "source": [
    "a[0]=9"
   ]
  },
  {
   "cell_type": "code",
   "execution_count": null,
   "metadata": {},
   "outputs": [
    {
     "data": {
      "text/plain": [
       "9"
      ]
     },
     "execution_count": 123,
     "metadata": {},
     "output_type": "execute_result"
    }
   ],
   "source": [
    "shortinfo_tuple.count(1)# 元素个数统计"
   ]
  },
  {
   "cell_type": "code",
   "execution_count": null,
   "metadata": {},
   "outputs": [
    {
     "data": {
      "text/plain": [
       "2"
      ]
     },
     "execution_count": 124,
     "metadata": {},
     "output_type": "execute_result"
    }
   ],
   "source": [
    "shortinfo_tuple.index(0.98)# 返回索引位置"
   ]
  },
  {
   "cell_type": "markdown",
   "metadata": {},
   "source": [
    "| 特性 | 元组（tuple） | 列表（list） |\n",
    "|---|---|---|\n",
    "|可变性|不可变，创建后无法修改元素。|可变，可以随时修改、添加或删除元素。|\n",
    "|语法|使用小括号 () 定义。|使用方括号 [] 定义。|\n",
    "|存储|存储在堆栈中，占用空间较小，访问速度更快。|存储在堆中，占用空间较大，访问速度相对较慢。|\n",
    "|用途|**适用于存储不希望被修改的数据，例如常量、配置信息等。**|**适用于存储需要频繁修改的数据，例如动态数据集合。**|\n",
    "|方法|**内置方法较少，主要用于访问和简单操作。**|**内置方法丰富，支持各种修改、添加、删除等操作。**|\n",
    "|是否可哈希|**是可哈希的，可以作为字典的键。**|**不是可哈希的，不能作为字典的键。**|"
   ]
  },
  {
   "cell_type": "markdown",
   "metadata": {},
   "source": [
    "### Dicts"
   ]
  },
  {
   "cell_type": "markdown",
   "metadata": {},
   "source": [
    "在 Python 中，字典（dict）是一种**无序**且可变的数据类型，用于存储**键值对**(key-value)数据。\n",
    "* 键（key）：字典中的键是唯一的，用于标识和访问与之关联的值。键必须是不可变的数据类型，如字符串、数字或元组。\n",
    "* 值（value）：值可以是任何数据类型，包括字符串、数字、列表、元组，甚至是其他字典。"
   ]
  },
  {
   "cell_type": "code",
   "execution_count": null,
   "metadata": {},
   "outputs": [],
   "source": [
    "# 创建字典的三种方式\n",
    "dict1 = {'Marshall Medical Center South':0.98,'Wedowee Hospital':0.84}\n",
    "# 注意：tuple在直接定义时使用()，dict在直接定义时使用{}，list在直接定义时使用[]。\n",
    "dict2 = dict(Marshall_Medical_Center_South=0.98,Wedowee_Hospital=0.84)\n",
    "dict3 = dict([('Marshall Medical Center South',0.98),('Wedowee Hospital',0.84)])\n",
    "dict4 = dict([('Wedowee Hospital',0.84),('Marshall Medical Center South',0.98)]) # 无序性\n",
    "# 这里使用的是dict()函数，传入一个包含键值对的元组列表，可以直接把列表中元素打入，也可以直接放入一个[]括着的列表。"
   ]
  },
  {
   "cell_type": "code",
   "execution_count": null,
   "metadata": {},
   "outputs": [
    {
     "name": "stdout",
     "output_type": "stream",
     "text": [
      "{'Marshall Medical Center South': 0.98, 'Wedowee Hospital': 0.84}\n",
      "{'Marshall_Medical_Center_South': 0.98, 'Wedowee_Hospital': 0.84}\n",
      "{'Marshall Medical Center South': 0.98, 'Wedowee Hospital': 0.84}\n",
      "{'Wedowee Hospital': 0.84, 'Marshall Medical Center South': 0.98}\n"
     ]
    }
   ],
   "source": [
    "print(dict1)\n",
    "print(dict2)\n",
    "print(dict3)\n",
    "print(dict4)"
   ]
  },
  {
   "cell_type": "code",
   "execution_count": null,
   "metadata": {},
   "outputs": [
    {
     "name": "stdout",
     "output_type": "stream",
     "text": [
      "OrderedDict({'Wedowee Hospital': 0.84, 'Marshall Medical Center South': 0.98})\n",
      "OrderedDict({'Marshall Medical Center South': 0.98, 'Wedowee Hospital': 0.84})\n"
     ]
    }
   ],
   "source": [
    "# 有序字典\n",
    "from collections import OrderedDict\n",
    "ordered_dict1 = OrderedDict([('Wedowee Hospital',0.84),('Marshall Medical Center South',0.98)])\n",
    "ordered_dict2 = OrderedDict([('Marshall Medical Center South',0.98),('Wedowee Hospital',0.84)])\n",
    "print(ordered_dict1)\n",
    "print(ordered_dict2)"
   ]
  },
  {
   "cell_type": "code",
   "execution_count": null,
   "metadata": {},
   "outputs": [
    {
     "name": "stdout",
     "output_type": "stream",
     "text": [
      "{'Marshall Medical Center South': 0.98, 'Wedowee Hospital': 0.84}\n"
     ]
    }
   ],
   "source": [
    "# 通过两个列表创建字典\n",
    "key_list = ['Marshall Medical Center South','Wedowee Hospital']\n",
    "value_list = [0.98,0.84]\n",
    "dict5 = {}\n",
    "for key, value in zip(key_list,value_list):\n",
    "    dict5[key] = value\n",
    "print(dict5)"
   ]
  },
  {
   "cell_type": "code",
   "execution_count": null,
   "metadata": {},
   "outputs": [
    {
     "name": "stdout",
     "output_type": "stream",
     "text": [
      "0.98\n",
      "0.98\n",
      "None\n",
      "键值不存在\n",
      "键值不存在\n",
      "True\n",
      "False\n"
     ]
    }
   ],
   "source": [
    "# 元素访问\n",
    "\n",
    "print(dict5['Marshall Medical Center South']) # 通过键直接访问\n",
    "print(dict5.get('Marshall Medical Center South')) # get方法获得键的值\n",
    "print(dict5.get('Marshall')) # 不存在键值，返回none\n",
    "print(dict5.get('Marshall',u'键值不存在')) # 可以指定键不存在时，返回的值\n",
    "# u'键值不存在' 表示一个 Unicode 字符串，而不是字节字符串。\n",
    "print(dict5.get('Marshall','键值不存在')) \n",
    "# 在 Python 3 中，字符串默认是 Unicode 字符串，所以 u 前缀不再需要。在 Python 2 中，u 前缀用于表示 Unicode 字符串。\n",
    "print('Marshall Medical Center South' in dict5) # in 查询\n",
    "print(dict5.__contains__('Marshall')) # has_key 查询"
   ]
  },
  {
   "cell_type": "code",
   "execution_count": null,
   "metadata": {},
   "outputs": [
    {
     "name": "stdout",
     "output_type": "stream",
     "text": [
      "<class 'dict_keys'>\n",
      "dict_keys(['Marshall Medical Center South', 'Wedowee Hospital'])\n",
      "dict_values([0.98, 0.84])\n",
      "dict_items([('Marshall Medical Center South', 0.98), ('Wedowee Hospital', 0.84)])\n"
     ]
    }
   ],
   "source": [
    "print(type(dict5.keys())) # 类型为<class 'dict_keys'>，可以通过for循环遍历\n",
    "print(dict5.keys()) # 返回所有的键\n",
    "print(dict5.values()) # 返回所有的值\n",
    "print(dict5.items())# 返回键值"
   ]
  },
  {
   "cell_type": "markdown",
   "metadata": {},
   "source": [
    "在 Python 中，<class 'dict_keys'> 表示字典（dict）对象中的键（key）的集合。它不是一种新的数据类型，而是一个**视图对象，动态地反映了字典中键的变化**。\n",
    "\n",
    "dict_keys 对象的特点：\n",
    "\n",
    "* 类集合 (set-like): dict_keys 对象类似于一个集合，支持一些集合操作，例如： \n",
    "1. 使用 in 运算符检查一个键是否在 dict_keys 中。\n",
    "2. 使用 len() 函数获取 dict_keys 中键的数量。\n",
    "3. 可以迭代 dict_keys 对象来访问每个键。\n",
    "4. 动态视图: dict_keys 对象是字典的动态视图。这意味着当字典中的键发生变化时，dict_keys 对象也会随之更新。"
   ]
  },
  {
   "cell_type": "code",
   "execution_count": null,
   "metadata": {},
   "outputs": [
    {
     "name": "stdout",
     "output_type": "stream",
     "text": [
      "Marshall Medical Center South : 0.98\n",
      "Wedowee Hospital : 0.84\n"
     ]
    }
   ],
   "source": [
    "for key,value in dict5.items(): # items遍历读取字典键值\n",
    "    print(key,\":\",value)"
   ]
  },
  {
   "cell_type": "code",
   "execution_count": null,
   "metadata": {},
   "outputs": [
    {
     "name": "stdout",
     "output_type": "stream",
     "text": [
      "{'Marshall Medical Center South': 0.98, 'Wedowee Hospital': 0.84, 'City Hospital': 1}\n",
      "{'Marshall Medical Center South': 0.98, 'City Hospital': 1}\n",
      "{'Marshall Medical Center South': 0.98}\n",
      "{}\n"
     ]
    }
   ],
   "source": [
    "dict5['City Hospital']= 1 # 字典元素的添加 \n",
    "print(dict5)\n",
    "del dict5['Wedowee Hospital'] # del方法删除字典元素\n",
    "print(dict5) \n",
    "dict5.pop('City Hospital') # pop方法删除元素\n",
    "print(dict5)\n",
    "dict5.clear() # 删除字典中所有元素\n",
    "print(dict5)"
   ]
  },
  {
   "cell_type": "markdown",
   "metadata": {},
   "source": [
    "### Set"
   ]
  },
  {
   "cell_type": "code",
   "execution_count": null,
   "metadata": {},
   "outputs": [
    {
     "name": "stdout",
     "output_type": "stream",
     "text": [
      "{1, 2, 3}\n",
      "['Hospital Name', 'Score', 0.98, 1, 1, 1, 1, 1, 1, 1, 1, 1]\n",
      "{0.98, 'Score', 1, 'Hospital Name'}\n"
     ]
    }
   ],
   "source": [
    "set1 = {1,2,2,3}# {}创建集合\n",
    "print(set1)\n",
    "print(shortinfo)\n",
    "shortinfo_set = set(shortinfo) # set函数创建集合\n",
    "print(shortinfo_set)"
   ]
  },
  {
   "cell_type": "code",
   "execution_count": null,
   "metadata": {},
   "outputs": [
    {
     "data": {
      "text/plain": [
       "set()"
      ]
     },
     "execution_count": 137,
     "metadata": {},
     "output_type": "execute_result"
    }
   ],
   "source": [
    "set()"
   ]
  },
  {
   "cell_type": "code",
   "execution_count": null,
   "metadata": {},
   "outputs": [
    {
     "name": "stdout",
     "output_type": "stream",
     "text": [
      "{0.98, 1, 'Hospital Name', 'Score', 'City Hospital'}\n",
      "{0.98, 1, 'Hospital Name', 'Score'}\n",
      "{0.98, 1, 'Hospital Name', 'Score'}\n"
     ]
    }
   ],
   "source": [
    "shortinfo_set.add('City Hospital') # 增加元素\n",
    "print(shortinfo_set)\n",
    "shortinfo_set.remove('City Hospital') # 删除元素\n",
    "print(shortinfo_set)\n",
    "shortinfo_set.discard('City Hospital') # 删除元素 如果元素不存在，discard 不会报错\n",
    "print(shortinfo_set)"
   ]
  },
  {
   "cell_type": "code",
   "execution_count": null,
   "metadata": {},
   "outputs": [
    {
     "ename": "NameError",
     "evalue": "name 'expr' is not defined",
     "output_type": "error",
     "traceback": [
      "\u001b[0;31m---------------------------------------------------------------------------\u001b[0m",
      "\u001b[0;31mNameError\u001b[0m                                 Traceback (most recent call last)",
      "Cell \u001b[0;32mIn[139], line 2\u001b[0m\n\u001b[1;32m      1\u001b[0m \u001b[38;5;66;03m# 列表推导式\u001b[39;00m\n\u001b[0;32m----> 2\u001b[0m [expr(item) \u001b[38;5;28;01mfor\u001b[39;00m item \u001b[38;5;129;01min\u001b[39;00m shortinfo]\n\u001b[1;32m      4\u001b[0m \u001b[38;5;66;03m# 字典推导式\u001b[39;00m\n\u001b[1;32m      5\u001b[0m {key:value \u001b[38;5;28;01mfor\u001b[39;00m key,value \u001b[38;5;129;01min\u001b[39;00m \u001b[38;5;28mzip\u001b[39m(key_list,value_list)}\n",
      "\u001b[0;31mNameError\u001b[0m: name 'expr' is not defined"
     ]
    }
   ],
   "source": [
    "# 列表推导式\n",
    "[expr(item) for item in shortinfo]\n",
    "\n",
    "# 字典推导式\n",
    "{key:value for key,value in zip(key_list,value_list)}"
   ]
  },
  {
   "cell_type": "markdown",
   "metadata": {},
   "source": [
    "### 列表推导式\n",
    "\n",
    "列表推导式（List Comprehension）是Python中一种简洁而强大的创建列表的方法。它允许你用一行代码代替传统的循环来生成列表。\n",
    "\n",
    "```python\n",
    "[expression for item in iterable if condition]\n",
    "```\n",
    "* expression：对item进行处理的表达式，它的结果将作为新列表的元素。\n",
    "* item：可迭代对象（如列表、元组、字符串等）中的每个元素。\n",
    "* iterable：可迭代对象。\n",
    "* condition：可选的过滤条件，只有满足条件的item才会被处理。\n",
    "\n",
    "假设我们有一个数字列表，想要创建一个新列表，其中包含原列表中所有偶数的平方。使用传统的循环，我们需要这样写：\n",
    "\n",
    "```python\n",
    "numbers = [1, 2, 3, 4, 5, 6]\n",
    "new_list = []\n",
    "for number in numbers:\n",
    "    if number % 2 == 0:\n",
    "        new_list.append(number ** 2)\n",
    "print(new_list)  # 输出: [4, 16, 36]\n",
    "```\n",
    "但是，使用列表推导式，我们可以一行代码搞定：\n",
    "\n",
    "```python\n",
    "numbers = [1, 2, 3, 4, 5, 6]\n",
    "new_list = [number ** 2 for number in numbers if number % 2 == 0]\n",
    "print(new_list)  # 输出: [4, 16, 36]\n",
    "```"
   ]
  },
  {
   "cell_type": "markdown",
   "metadata": {},
   "source": [
    "### 字典推导式\n",
    "\n",
    "字典推导式（Dictionary Comprehension）与列表推导式类似，用于快速创建字典。\n",
    "\n",
    "```python\n",
    "{key_expression: value_expression for item in iterable if condition}\n",
    "```\n",
    "* key_expression：生成键的表达式。\n",
    "* value_expression：生成值的表达式。\n",
    "* item：可迭代对象中的每个元素。\n",
    "* iterable：可迭代对象。\n",
    "* condition：可选的过滤条件。\n",
    "\n",
    "假设我们有一个包含学生姓名和成绩的列表，想要创建一个字典，其中键为学生姓名，值为对应的成绩。使用字典推导式可以这样写：\n",
    "\n",
    "```python\n",
    "students = [('Alice', 85), ('Bob', 92), ('Charlie', 78)]\n",
    "student_dict = {name: score for name, score in students}\n",
    "print(student_dict)  # 输出: {'Alice': 85, 'Bob': 92, 'Charlie': 78}\n",
    "```"
   ]
  },
  {
   "cell_type": "markdown",
   "metadata": {},
   "source": [
    "### Practice\n",
    "\n",
    "Q1:calculcate the BMI.\n",
    "\n",
    "para 1: h height (m)\n",
    "para2 : w weight (kg)\n",
    "\n",
    "BMI=w/(h^2)\n",
    "* <18.5：underweight\n",
    "* 18.5-25：normal\n",
    "* 25-28：overweight"
   ]
  },
  {
   "cell_type": "code",
   "execution_count": 1,
   "metadata": {},
   "outputs": [
    {
     "name": "stdout",
     "output_type": "stream",
     "text": [
      "20.0177299894192\n",
      "normal\n"
     ]
    }
   ],
   "source": [
    "h = float(input(\"please input your height:\"))\n",
    "w = float(input(\"please input your weight:\"))\n",
    "b = w / (h ** 2)\n",
    "print(b)\n",
    "\n",
    "if b < 18.5:\n",
    "    print(\"underweight\")\n",
    "elif b > 25:\n",
    "    print(\"overweight\")\n",
    "else:\n",
    "    print(\"normal\")"
   ]
  },
  {
   "cell_type": "markdown",
   "metadata": {},
   "source": [
    "### Error process"
   ]
  },
  {
   "cell_type": "code",
   "execution_count": 4,
   "metadata": {},
   "outputs": [],
   "source": [
    "def this_fails():\n",
    "    x = 1/0"
   ]
  },
  {
   "cell_type": "code",
   "execution_count": null,
   "metadata": {},
   "outputs": [
    {
     "ename": "ZeroDivisionError",
     "evalue": "division by zero",
     "output_type": "error",
     "traceback": [
      "\u001b[0;31m---------------------------------------------------------------------------\u001b[0m",
      "\u001b[0;31mZeroDivisionError\u001b[0m                         Traceback (most recent call last)",
      "Cell \u001b[0;32mIn[7], line 1\u001b[0m\n\u001b[0;32m----> 1\u001b[0m this_fails()\n",
      "Cell \u001b[0;32mIn[6], line 2\u001b[0m, in \u001b[0;36mthis_fails\u001b[0;34m()\u001b[0m\n\u001b[1;32m      1\u001b[0m \u001b[38;5;28;01mdef\u001b[39;00m \u001b[38;5;21mthis_fails\u001b[39m():\n\u001b[0;32m----> 2\u001b[0m     x \u001b[38;5;241m=\u001b[39m \u001b[38;5;241m1\u001b[39m\u001b[38;5;241m/\u001b[39m\u001b[38;5;241m0\u001b[39m\n",
      "\u001b[0;31mZeroDivisionError\u001b[0m: division by zero"
     ]
    }
   ],
   "source": [
    "this_fails()"
   ]
  },
  {
   "cell_type": "code",
   "execution_count": 5,
   "metadata": {},
   "outputs": [
    {
     "name": "stdout",
     "output_type": "stream",
     "text": [
      "Handling run-time error: division by zero\n"
     ]
    }
   ],
   "source": [
    "try:\n",
    "    this_fails()\n",
    "except ZeroDivisionError as err:\n",
    "    print('Handling run-time error:', err)"
   ]
  }
 ],
 "metadata": {
  "kernelspec": {
   "display_name": "base",
   "language": "python",
   "name": "python3"
  },
  "language_info": {
   "codemirror_mode": {
    "name": "ipython",
    "version": 3
   },
   "file_extension": ".py",
   "mimetype": "text/x-python",
   "name": "python",
   "nbconvert_exporter": "python",
   "pygments_lexer": "ipython3",
   "version": "3.12.7"
  }
 },
 "nbformat": 4,
 "nbformat_minor": 4
}
