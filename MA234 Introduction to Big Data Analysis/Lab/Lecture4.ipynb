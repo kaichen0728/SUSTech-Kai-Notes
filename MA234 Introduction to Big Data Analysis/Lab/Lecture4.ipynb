{
 "cells": [
  {
   "attachments": {},
   "cell_type": "markdown",
   "metadata": {},
   "source": [
    "# Lecture 4: Data Preprocessing\n",
    "\n",
    "In this section, we will introduce how to preprocess data with sklearn."
   ]
  },
  {
   "attachments": {},
   "cell_type": "markdown",
   "metadata": {},
   "source": [
    "## Handling Missing Values :\n",
    "\n",
    "Refer to lecture 3"
   ]
  },
  {
   "attachments": {},
   "cell_type": "markdown",
   "metadata": {},
   "source": [
    "## Feature Scaling: Standardization and normalization:\n",
    "规范化是标准化的一种形式。\n",
    "\n",
    "归一化将数据映射到区间[0,1]。\n",
    "\n",
    "规范化是缩放数据以适应特定间隔的过程。\n",
    "\n",
    "标准化数据的均值为0，标准差为1，因此标准化数据可以是正的，也可以是负的。\n",
    "\n",
    "如果原始数据不符合高斯分布，则归一化数据不能很好地工作。（归一化的原因是，如果某些特征的方差太大，它将主导目标函数，并阻止参数估计器正确学习其他特征。）\n",
    "\n"
   ]
  },
  {
   "attachments": {},
   "cell_type": "markdown",
   "metadata": {},
   "source": []
  },
  {
   "cell_type": "code",
   "execution_count": 1,
   "metadata": {
    "ExecuteTime": {
     "end_time": "2025-03-11T11:24:16.079095Z",
     "start_time": "2025-03-11T11:24:10.740731Z"
    }
   },
   "outputs": [],
   "source": [
    "from sklearn.preprocessing import StandardScaler\n",
    "from sklearn.preprocessing import MinMaxScaler\n",
    "from matplotlib import gridspec\n",
    "import numpy as np\n",
    "import matplotlib.pyplot as plt"
   ]
  },
  {
   "attachments": {},
   "cell_type": "markdown",
   "metadata": {},
   "source": [
    "### Standardize data and inverse transformation  using sklearn\n",
    "\n",
    "The process of Standard transformation is divided into two steps.\n",
    "\n",
    "* Decentering of the mean (mean becomes 0).\n",
    "* Scaling of the variance (variance becomes 1).\n",
    "\n",
    "\n",
    "Each column is standardized to the standard normal distribution, note that the standardization is done for each column."
   ]
  },
  {
   "cell_type": "code",
   "execution_count": 2,
   "metadata": {
    "ExecuteTime": {
     "end_time": "2025-03-11T11:24:17.786857Z",
     "start_time": "2025-03-11T11:24:17.784505Z"
    }
   },
   "outputs": [],
   "source": [
    "data=np.random.randn(30,4)*3+1"
   ]
  },
  {
   "cell_type": "code",
   "execution_count": 3,
   "metadata": {
    "ExecuteTime": {
     "end_time": "2025-03-11T11:24:19.761934Z",
     "start_time": "2025-03-11T11:24:19.757905Z"
    }
   },
   "outputs": [
    {
     "data": {
      "text/plain": [
       "array([[ 4.34034473, -2.56403275, -2.20595222, -1.55515231],\n",
       "       [ 4.98420483,  1.70783939, -5.22726858, -1.63016104],\n",
       "       [ 0.96727146,  3.74030075,  0.57285362,  3.96660459],\n",
       "       [ 1.18112706, -4.13461168, -0.4616024 ,  1.02744567],\n",
       "       [ 2.97466854,  1.17887045, -2.80902217, -0.81939369],\n",
       "       [-0.64699595,  7.70596802, -0.95125646, -0.45033805],\n",
       "       [-1.05571373,  3.27779076, -3.60747056, -2.96623251],\n",
       "       [ 0.42293312, -0.53531043, -1.53852872, -2.88049141],\n",
       "       [ 1.62527047,  1.26051451,  1.37368187, -2.63389262],\n",
       "       [-2.49477178,  5.58800905,  6.55953104,  3.61830439],\n",
       "       [-6.08614393,  0.22721286,  3.68028979,  3.61756336],\n",
       "       [ 3.82934169,  3.0683732 , -2.42532686, -1.07970914],\n",
       "       [ 1.37783804, -0.01314783,  5.42150868,  0.20474677],\n",
       "       [ 1.46553836,  1.34142618,  3.49302659,  3.3635342 ],\n",
       "       [-1.90298762,  1.27959538, -2.31134518,  0.42438278],\n",
       "       [ 3.49668813,  4.55299801,  2.02928547, -1.85959291],\n",
       "       [ 0.31382936,  5.17475381,  0.36735319, -0.86509492],\n",
       "       [ 4.05249667, -0.34796791,  1.63884585,  0.01914833],\n",
       "       [ 2.320866  , -5.05121174,  4.27392179,  3.66676615],\n",
       "       [ 2.78143681,  0.37041736, -0.2912421 , -0.16741372],\n",
       "       [-2.66573274,  1.36641383,  0.72345532,  2.16828265],\n",
       "       [-1.52981703,  1.92033514,  3.40266163, -0.51452882],\n",
       "       [-0.02153208,  1.38511502, -0.92583515, -5.29341802],\n",
       "       [-0.89337598,  1.25493038,  2.63147256,  4.94357178],\n",
       "       [-2.60511085, -0.77542482, -0.16126747,  2.97040075],\n",
       "       [ 0.47209223,  3.93378411,  0.14560467,  2.33103369],\n",
       "       [ 4.93199571, -0.3607019 , -4.69963245, -0.66199053],\n",
       "       [ 3.18980912,  4.60958128,  0.07922725,  2.47218143],\n",
       "       [-1.17660767, -1.84920815, -1.79553703, -2.90046055],\n",
       "       [-2.64125481,  4.89930741,  5.38604236,  0.01609603]])"
      ]
     },
     "execution_count": 3,
     "metadata": {},
     "output_type": "execute_result"
    }
   ],
   "source": [
    "data"
   ]
  },
  {
   "cell_type": "code",
   "execution_count": 4,
   "metadata": {
    "ExecuteTime": {
     "end_time": "2025-03-11T11:24:22.088832Z",
     "start_time": "2025-03-11T11:24:22.085947Z"
    }
   },
   "outputs": [
    {
     "data": {
      "text/plain": [
       "array([2.65885258, 2.82928677, 2.95879463, 2.50034381])"
      ]
     },
     "execution_count": 4,
     "metadata": {},
     "output_type": "execute_result"
    }
   ],
   "source": [
    "data.std(axis=0)"
   ]
  },
  {
   "cell_type": "code",
   "execution_count": 5,
   "metadata": {
    "ExecuteTime": {
     "end_time": "2025-03-11T11:24:23.561609Z",
     "start_time": "2025-03-11T11:24:23.560097Z"
    }
   },
   "outputs": [],
   "source": [
    "std = StandardScaler()"
   ]
  },
  {
   "cell_type": "code",
   "execution_count": 6,
   "metadata": {
    "ExecuteTime": {
     "end_time": "2025-03-11T11:24:25.024545Z",
     "start_time": "2025-03-11T11:24:25.022377Z"
    }
   },
   "outputs": [],
   "source": [
    "data_n=std.fit_transform(data)"
   ]
  },
  {
   "cell_type": "code",
   "execution_count": 7,
   "metadata": {
    "ExecuteTime": {
     "end_time": "2025-03-11T11:24:26.812194Z",
     "start_time": "2025-03-11T11:24:26.809055Z"
    }
   },
   "outputs": [
    {
     "data": {
      "text/plain": [
       "array([[ 1.36904461, -1.42713119, -0.88488783, -0.73572231],\n",
       "       [ 1.61120173,  0.08274479, -1.90601865, -0.76572168],\n",
       "       [ 0.10042472,  0.80111006,  0.05428037,  1.47267675],\n",
       "       [ 0.18085626, -1.98224598, -0.29534038,  0.29717484],\n",
       "       [ 0.85541094, -0.10421715, -1.08871068, -0.44145933],\n",
       "       [-0.50670462,  2.20275916, -0.46083145, -0.29385737],\n",
       "       [-0.66042423,  0.63763777, -1.35856665, -1.30007678],\n",
       "       [-0.10430207, -0.71008747, -0.65931506, -1.26578505],\n",
       "       [ 0.34789952, -0.07536039,  0.32494068, -1.1671591 ],\n",
       "       [-1.20165696,  1.45417511,  2.07763048,  1.33337582],\n",
       "       [-2.55237951, -0.44057669,  1.10451757,  1.33307945],\n",
       "       [ 1.1768553 ,  0.56361998, -0.95903108, -0.54557119],\n",
       "       [ 0.25483967, -0.52553121,  1.69300684, -0.03185948],\n",
       "       [ 0.28782394, -0.04676248,  1.0412272 ,  1.23148176],\n",
       "       [-0.9790857 , -0.06861633, -0.92050807,  0.05598285],\n",
       "       [ 1.0517436 ,  1.08835463,  0.54651861, -0.85748181],\n",
       "       [-0.14533622,  1.30811171, -0.01517373, -0.45973731],\n",
       "       [ 1.26078435, -0.64387201,  0.4145596 , -0.10608864],\n",
       "       [ 0.60951445, -2.30621458,  1.30515062,  1.35275786],\n",
       "       [ 0.78273609, -0.38996163, -0.23776278, -0.1807032 ],\n",
       "       [-1.26595573, -0.0379307 ,  0.10518005,  0.75344688],\n",
       "       [-0.83873547,  0.15785055,  1.01068606, -0.31953015],\n",
       "       [-0.27146635, -0.03132084, -0.45223967, -2.23082298],\n",
       "       [-0.59936866, -0.07733408,  0.75004307,  1.86340988],\n",
       "       [-1.24315572, -0.79495493, -0.19383455,  1.07425   ],\n",
       "       [-0.08581322,  0.86949597, -0.09011929,  0.81853834],\n",
       "       [ 1.59156577, -0.64837279, -1.72769058, -0.37850672],\n",
       "       [ 0.93632577,  1.10835376, -0.11255323,  0.87498968],\n",
       "       [-0.70589269, -1.17447932, -0.74617757, -1.27377161],\n",
       "       [-1.25674953,  1.21075629,  1.68102009, -0.10730939]])"
      ]
     },
     "execution_count": 7,
     "metadata": {},
     "output_type": "execute_result"
    }
   ],
   "source": [
    "data_n"
   ]
  },
  {
   "cell_type": "code",
   "execution_count": 8,
   "metadata": {
    "ExecuteTime": {
     "end_time": "2025-03-11T11:24:37.205600Z",
     "start_time": "2025-03-11T11:24:37.203301Z"
    }
   },
   "outputs": [
    {
     "data": {
      "text/plain": [
       "array([1., 1., 1., 1.])"
      ]
     },
     "execution_count": 8,
     "metadata": {},
     "output_type": "execute_result"
    }
   ],
   "source": [
    "data_n.std(axis=0)"
   ]
  },
  {
   "cell_type": "code",
   "execution_count": 9,
   "metadata": {
    "ExecuteTime": {
     "end_time": "2025-03-11T11:24:38.369013Z",
     "start_time": "2025-03-11T11:24:38.367112Z"
    }
   },
   "outputs": [],
   "source": [
    "oringin_data=std.inverse_transform(data_n)"
   ]
  },
  {
   "cell_type": "code",
   "execution_count": 10,
   "metadata": {
    "ExecuteTime": {
     "end_time": "2025-03-11T11:24:39.830875Z",
     "start_time": "2025-03-11T11:24:39.827752Z"
    }
   },
   "outputs": [
    {
     "data": {
      "text/plain": [
       "array([[ 4.34034473, -2.56403275, -2.20595222, -1.55515231],\n",
       "       [ 4.98420483,  1.70783939, -5.22726858, -1.63016104],\n",
       "       [ 0.96727146,  3.74030075,  0.57285362,  3.96660459],\n",
       "       [ 1.18112706, -4.13461168, -0.4616024 ,  1.02744567],\n",
       "       [ 2.97466854,  1.17887045, -2.80902217, -0.81939369],\n",
       "       [-0.64699595,  7.70596802, -0.95125646, -0.45033805],\n",
       "       [-1.05571373,  3.27779076, -3.60747056, -2.96623251],\n",
       "       [ 0.42293312, -0.53531043, -1.53852872, -2.88049141],\n",
       "       [ 1.62527047,  1.26051451,  1.37368187, -2.63389262],\n",
       "       [-2.49477178,  5.58800905,  6.55953104,  3.61830439],\n",
       "       [-6.08614393,  0.22721286,  3.68028979,  3.61756336],\n",
       "       [ 3.82934169,  3.0683732 , -2.42532686, -1.07970914],\n",
       "       [ 1.37783804, -0.01314783,  5.42150868,  0.20474677],\n",
       "       [ 1.46553836,  1.34142618,  3.49302659,  3.3635342 ],\n",
       "       [-1.90298762,  1.27959538, -2.31134518,  0.42438278],\n",
       "       [ 3.49668813,  4.55299801,  2.02928547, -1.85959291],\n",
       "       [ 0.31382936,  5.17475381,  0.36735319, -0.86509492],\n",
       "       [ 4.05249667, -0.34796791,  1.63884585,  0.01914833],\n",
       "       [ 2.320866  , -5.05121174,  4.27392179,  3.66676615],\n",
       "       [ 2.78143681,  0.37041736, -0.2912421 , -0.16741372],\n",
       "       [-2.66573274,  1.36641383,  0.72345532,  2.16828265],\n",
       "       [-1.52981703,  1.92033514,  3.40266163, -0.51452882],\n",
       "       [-0.02153208,  1.38511502, -0.92583515, -5.29341802],\n",
       "       [-0.89337598,  1.25493038,  2.63147256,  4.94357178],\n",
       "       [-2.60511085, -0.77542482, -0.16126747,  2.97040075],\n",
       "       [ 0.47209223,  3.93378411,  0.14560467,  2.33103369],\n",
       "       [ 4.93199571, -0.3607019 , -4.69963245, -0.66199053],\n",
       "       [ 3.18980912,  4.60958128,  0.07922725,  2.47218143],\n",
       "       [-1.17660767, -1.84920815, -1.79553703, -2.90046055],\n",
       "       [-2.64125481,  4.89930741,  5.38604236,  0.01609603]])"
      ]
     },
     "execution_count": 10,
     "metadata": {},
     "output_type": "execute_result"
    }
   ],
   "source": [
    "oringin_data"
   ]
  },
  {
   "cell_type": "markdown",
   "metadata": {},
   "source": [
    "消除量纲影响：\n",
    "当数据的特征具有不同的量纲（单位）时，标准化可以消除量纲的影响，使得不同特征之间具有可比性。\n",
    "\n",
    "加速模型收敛：\n",
    "对于基于梯度下降的优化算法（如线性回归、逻辑回归、神经网络等），标准化可以加速模型的收敛速度。\n",
    "\n",
    "适用于高斯分布：\n",
    "如果数据近似服从高斯分布，标准化可以使数据更符合标准正态分布，从而提高模型的性能。\n",
    "\n",
    "适用于线性模型：\n",
    "线性模型（如线性回归、支持向量机等）对特征的尺度敏感，标准化可以提高模型的稳定性和准确性"
   ]
  },
  {
   "attachments": {},
   "cell_type": "markdown",
   "metadata": {},
   "source": [
    "### Data normalization and inverse normalization  using sklearn. [0,1]"
   ]
  },
  {
   "cell_type": "code",
   "execution_count": 11,
   "metadata": {
    "ExecuteTime": {
     "end_time": "2025-03-11T11:24:42.576593Z",
     "start_time": "2025-03-11T11:24:42.573995Z"
    }
   },
   "outputs": [],
   "source": [
    "mm = MinMaxScaler()# 创建MinMaxScaler 对象\n",
    "mm_data = mm.fit_transform(data) # 归一化数据\n",
    "origin_data = mm.inverse_transform(mm_data)"
   ]
  },
  {
   "cell_type": "code",
   "execution_count": 12,
   "metadata": {
    "ExecuteTime": {
     "end_time": "2025-03-11T11:24:44.391414Z",
     "start_time": "2025-03-11T11:24:44.388420Z"
    }
   },
   "outputs": [
    {
     "data": {
      "text/plain": [
       "array([[0.94183922, 0.19496307, 0.25633051, 0.36517236],\n",
       "       [1.        , 0.5298233 , 0.        , 0.35784513],\n",
       "       [0.63714482, 0.68914232, 0.49208627, 0.90456499],\n",
       "       [0.6564627 , 0.07184974, 0.40432232, 0.61745335],\n",
       "       [0.81847579, 0.48835889, 0.20516565, 0.43704491],\n",
       "       [0.4913258 , 1.        , 0.36277974, 0.4730961 ],\n",
       "       [0.45440576, 0.65288744, 0.13742475, 0.22733104],\n",
       "       [0.58797398, 0.353989  , 0.31295517, 0.23570665],\n",
       "       [0.69658279, 0.49475875, 0.56002907, 0.25979565],\n",
       "       [0.32441364, 0.83397906, 1.        , 0.8705413 ],\n",
       "       [0.        , 0.41376109, 0.75572324, 0.87046891],\n",
       "       [0.89567961, 0.63647178, 0.23771862, 0.41161601],\n",
       "       [0.67423187, 0.39491988, 0.90344942, 0.53708804],\n",
       "       [0.68215396, 0.50110119, 0.7398357 , 0.84565408],\n",
       "       [0.37787033, 0.49625444, 0.2473889 , 0.55854318],\n",
       "       [0.86563055, 0.75284741, 0.61565092, 0.33543309],\n",
       "       [0.57811849, 0.80158513, 0.47465147, 0.43258059],\n",
       "       [0.91583751, 0.36867426, 0.58252576, 0.51895786],\n",
       "       [0.7594169 , 0.        , 0.80608738, 0.87527529],\n",
       "       [0.8010209 , 0.42498649, 0.4187758 , 0.50073356],\n",
       "       [0.3089705 , 0.5030599 , 0.50486341, 0.72889598],\n",
       "       [0.41157935, 0.54648026, 0.73216908, 0.46682563],\n",
       "       [0.54782482, 0.50452583, 0.3649365 , 0.        ],\n",
       "       [0.46906995, 0.49432102, 0.66674088, 1.        ],\n",
       "       [0.31444656, 0.3351671 , 0.42980294, 0.80725086],\n",
       "       [0.59241459, 0.70430895, 0.45583818, 0.74479431],\n",
       "       [0.99528388, 0.36767608, 0.044765  , 0.45242084],\n",
       "       [0.83790974, 0.75728282, 0.45020667, 0.75858232],\n",
       "       [0.44348524, 0.2509962 , 0.29115041, 0.23375597],\n",
       "       [0.31118163, 0.77999365, 0.90044043, 0.5186597 ]])"
      ]
     },
     "execution_count": 12,
     "metadata": {},
     "output_type": "execute_result"
    }
   ],
   "source": [
    "mm_data"
   ]
  },
  {
   "cell_type": "markdown",
   "metadata": {},
   "source": [
    "\n",
    "将数据缩放到固定范围：\n",
    "归一化可以将数据限制在一个固定的范围内（如 [0, 1]），避免某些特征因取值范围过大而主导模型。\n",
    "\n",
    "适用于非高斯分布：\n",
    "归一化不依赖于数据的分布，适用于非高斯分布的数据。\n",
    "\n",
    "提高计算效率：\n",
    "对于某些算法（如神经网络），归一化可以加快计算速度。\n",
    "\n",
    "适用于图像数据：\n",
    "图像像素值通常范围在 [0, 255]，归一化到 [0, 1] 可以简化模型处理。"
   ]
  },
  {
   "attachments": {},
   "cell_type": "markdown",
   "metadata": {},
   "source": [
    "## Encoding the Categorical variables"
   ]
  },
  {
   "cell_type": "markdown",
   "metadata": {},
   "source": [
    "机器学习模型通常只能处理数值数据，不能直接处理分类数据（如颜色、性别等）。下面将介绍one-hot encoding。独热编码将分类变量转换为二进制向量，使得模型能够理解和处理这些特征。\n",
    "\n",
    "避免模型误认为分类变量之间存在数值关系（例如，将“红色”编码为 1，“绿色”编码为 2，模型可能会误认为“绿色”比“红色”大）。\n"
   ]
  },
  {
   "cell_type": "code",
   "execution_count": 13,
   "metadata": {
    "ExecuteTime": {
     "end_time": "2025-03-11T11:24:47.859289Z",
     "start_time": "2025-03-11T11:24:47.857539Z"
    }
   },
   "outputs": [],
   "source": [
    "import pandas as pd"
   ]
  },
  {
   "cell_type": "code",
   "execution_count": 14,
   "metadata": {
    "ExecuteTime": {
     "end_time": "2025-03-11T11:24:48.776111Z",
     "start_time": "2025-03-11T11:24:48.772425Z"
    }
   },
   "outputs": [
    {
     "data": {
      "text/plain": [
       "0    a\n",
       "1    b\n",
       "2    c\n",
       "3    a\n",
       "dtype: object"
      ]
     },
     "execution_count": 14,
     "metadata": {},
     "output_type": "execute_result"
    }
   ],
   "source": [
    "s = pd.Series(list('abca'))\n",
    "s"
   ]
  },
  {
   "cell_type": "code",
   "execution_count": 15,
   "metadata": {
    "ExecuteTime": {
     "end_time": "2025-03-11T11:24:50.815082Z",
     "start_time": "2025-03-11T11:24:50.810423Z"
    }
   },
   "outputs": [
    {
     "name": "stdout",
     "output_type": "stream",
     "text": [
      "       a      b      c\n",
      "0   True  False  False\n",
      "1  False   True  False\n",
      "2  False  False   True\n",
      "3   True  False  False\n"
     ]
    }
   ],
   "source": [
    "print(pd.get_dummies(s))"
   ]
  },
  {
   "cell_type": "code",
   "execution_count": 16,
   "metadata": {
    "ExecuteTime": {
     "end_time": "2025-03-11T11:24:52.294756Z",
     "start_time": "2025-03-11T11:24:52.291093Z"
    }
   },
   "outputs": [
    {
     "name": "stdout",
     "output_type": "stream",
     "text": [
      "       a      b\n",
      "0   True  False\n",
      "1  False   True\n",
      "2  False  False\n"
     ]
    }
   ],
   "source": [
    "s1 = ['a', 'b', np.nan]\n",
    "print(pd.get_dummies(s1))"
   ]
  },
  {
   "cell_type": "code",
   "execution_count": 17,
   "metadata": {
    "ExecuteTime": {
     "end_time": "2025-03-11T11:24:53.773134Z",
     "start_time": "2025-03-11T11:24:53.769798Z"
    }
   },
   "outputs": [
    {
     "name": "stdout",
     "output_type": "stream",
     "text": [
      "       a      b    NaN\n",
      "0   True  False  False\n",
      "1  False   True  False\n",
      "2  False  False   True\n"
     ]
    }
   ],
   "source": [
    "print(pd.get_dummies(s1, dummy_na=True))"
   ]
  },
  {
   "cell_type": "code",
   "execution_count": 18,
   "metadata": {
    "ExecuteTime": {
     "end_time": "2025-03-11T11:24:56.921644Z",
     "start_time": "2025-03-11T11:24:56.918641Z"
    }
   },
   "outputs": [
    {
     "name": "stdout",
     "output_type": "stream",
     "text": [
      "   A  B  C\n",
      "0  a  b  1\n",
      "1  b  a  2\n",
      "2  a  c  3\n"
     ]
    }
   ],
   "source": [
    "df = pd.DataFrame({'A': ['a', 'b', 'a'], 'B': ['b', 'a', 'c'],\n",
    "                   'C': [1, 2, 3]})\n",
    "print(df)"
   ]
  },
  {
   "cell_type": "code",
   "execution_count": 19,
   "metadata": {
    "ExecuteTime": {
     "end_time": "2025-03-11T11:24:58.224007Z",
     "start_time": "2025-03-11T11:24:58.219323Z"
    }
   },
   "outputs": [
    {
     "name": "stdout",
     "output_type": "stream",
     "text": [
      "   C    A_a    A_b    B_a    B_b    B_c\n",
      "0  1   True  False  False   True  False\n",
      "1  2  False   True   True  False  False\n",
      "2  3   True  False  False  False   True\n"
     ]
    }
   ],
   "source": [
    "print(pd.get_dummies(df))"
   ]
  },
  {
   "cell_type": "code",
   "execution_count": 20,
   "metadata": {
    "ExecuteTime": {
     "end_time": "2025-03-11T11:25:10.861141Z",
     "start_time": "2025-03-11T11:25:10.856835Z"
    }
   },
   "outputs": [
    {
     "data": {
      "text/html": [
       "<div>\n",
       "<style scoped>\n",
       "    .dataframe tbody tr th:only-of-type {\n",
       "        vertical-align: middle;\n",
       "    }\n",
       "\n",
       "    .dataframe tbody tr th {\n",
       "        vertical-align: top;\n",
       "    }\n",
       "\n",
       "    .dataframe thead th {\n",
       "        text-align: right;\n",
       "    }\n",
       "</style>\n",
       "<table border=\"1\" class=\"dataframe\">\n",
       "  <thead>\n",
       "    <tr style=\"text-align: right;\">\n",
       "      <th></th>\n",
       "      <th>a</th>\n",
       "      <th>b</th>\n",
       "      <th>c</th>\n",
       "    </tr>\n",
       "  </thead>\n",
       "  <tbody>\n",
       "    <tr>\n",
       "      <th>0</th>\n",
       "      <td>True</td>\n",
       "      <td>False</td>\n",
       "      <td>False</td>\n",
       "    </tr>\n",
       "    <tr>\n",
       "      <th>1</th>\n",
       "      <td>False</td>\n",
       "      <td>True</td>\n",
       "      <td>False</td>\n",
       "    </tr>\n",
       "    <tr>\n",
       "      <th>2</th>\n",
       "      <td>False</td>\n",
       "      <td>False</td>\n",
       "      <td>True</td>\n",
       "    </tr>\n",
       "    <tr>\n",
       "      <th>3</th>\n",
       "      <td>True</td>\n",
       "      <td>False</td>\n",
       "      <td>False</td>\n",
       "    </tr>\n",
       "    <tr>\n",
       "      <th>4</th>\n",
       "      <td>True</td>\n",
       "      <td>False</td>\n",
       "      <td>False</td>\n",
       "    </tr>\n",
       "  </tbody>\n",
       "</table>\n",
       "</div>"
      ],
      "text/plain": [
       "       a      b      c\n",
       "0   True  False  False\n",
       "1  False   True  False\n",
       "2  False  False   True\n",
       "3   True  False  False\n",
       "4   True  False  False"
      ]
     },
     "execution_count": 20,
     "metadata": {},
     "output_type": "execute_result"
    }
   ],
   "source": [
    "pd.get_dummies(pd.Series(list('abcaa')))\n"
   ]
  },
  {
   "cell_type": "code",
   "execution_count": 21,
   "metadata": {
    "ExecuteTime": {
     "end_time": "2025-03-11T11:25:13.154429Z",
     "start_time": "2025-03-11T11:25:13.149880Z"
    }
   },
   "outputs": [
    {
     "data": {
      "text/html": [
       "<div>\n",
       "<style scoped>\n",
       "    .dataframe tbody tr th:only-of-type {\n",
       "        vertical-align: middle;\n",
       "    }\n",
       "\n",
       "    .dataframe tbody tr th {\n",
       "        vertical-align: top;\n",
       "    }\n",
       "\n",
       "    .dataframe thead th {\n",
       "        text-align: right;\n",
       "    }\n",
       "</style>\n",
       "<table border=\"1\" class=\"dataframe\">\n",
       "  <thead>\n",
       "    <tr style=\"text-align: right;\">\n",
       "      <th></th>\n",
       "      <th>b</th>\n",
       "      <th>c</th>\n",
       "    </tr>\n",
       "  </thead>\n",
       "  <tbody>\n",
       "    <tr>\n",
       "      <th>0</th>\n",
       "      <td>False</td>\n",
       "      <td>False</td>\n",
       "    </tr>\n",
       "    <tr>\n",
       "      <th>1</th>\n",
       "      <td>True</td>\n",
       "      <td>False</td>\n",
       "    </tr>\n",
       "    <tr>\n",
       "      <th>2</th>\n",
       "      <td>False</td>\n",
       "      <td>True</td>\n",
       "    </tr>\n",
       "    <tr>\n",
       "      <th>3</th>\n",
       "      <td>False</td>\n",
       "      <td>False</td>\n",
       "    </tr>\n",
       "    <tr>\n",
       "      <th>4</th>\n",
       "      <td>False</td>\n",
       "      <td>False</td>\n",
       "    </tr>\n",
       "  </tbody>\n",
       "</table>\n",
       "</div>"
      ],
      "text/plain": [
       "       b      c\n",
       "0  False  False\n",
       "1   True  False\n",
       "2  False   True\n",
       "3  False  False\n",
       "4  False  False"
      ]
     },
     "execution_count": 21,
     "metadata": {},
     "output_type": "execute_result"
    }
   ],
   "source": [
    "pd.get_dummies(pd.Series(list('abcaa')), drop_first=True)"
   ]
  },
  {
   "cell_type": "code",
   "execution_count": 22,
   "metadata": {
    "ExecuteTime": {
     "end_time": "2025-03-11T11:25:14.747785Z",
     "start_time": "2025-03-11T11:25:14.742895Z"
    }
   },
   "outputs": [
    {
     "data": {
      "text/html": [
       "<div>\n",
       "<style scoped>\n",
       "    .dataframe tbody tr th:only-of-type {\n",
       "        vertical-align: middle;\n",
       "    }\n",
       "\n",
       "    .dataframe tbody tr th {\n",
       "        vertical-align: top;\n",
       "    }\n",
       "\n",
       "    .dataframe thead th {\n",
       "        text-align: right;\n",
       "    }\n",
       "</style>\n",
       "<table border=\"1\" class=\"dataframe\">\n",
       "  <thead>\n",
       "    <tr style=\"text-align: right;\">\n",
       "      <th></th>\n",
       "      <th>a</th>\n",
       "      <th>b</th>\n",
       "      <th>c</th>\n",
       "    </tr>\n",
       "  </thead>\n",
       "  <tbody>\n",
       "    <tr>\n",
       "      <th>0</th>\n",
       "      <td>1.0</td>\n",
       "      <td>0.0</td>\n",
       "      <td>0.0</td>\n",
       "    </tr>\n",
       "    <tr>\n",
       "      <th>1</th>\n",
       "      <td>0.0</td>\n",
       "      <td>1.0</td>\n",
       "      <td>0.0</td>\n",
       "    </tr>\n",
       "    <tr>\n",
       "      <th>2</th>\n",
       "      <td>0.0</td>\n",
       "      <td>0.0</td>\n",
       "      <td>1.0</td>\n",
       "    </tr>\n",
       "  </tbody>\n",
       "</table>\n",
       "</div>"
      ],
      "text/plain": [
       "     a    b    c\n",
       "0  1.0  0.0  0.0\n",
       "1  0.0  1.0  0.0\n",
       "2  0.0  0.0  1.0"
      ]
     },
     "execution_count": 22,
     "metadata": {},
     "output_type": "execute_result"
    }
   ],
   "source": [
    "pd.get_dummies(pd.Series(list('abc')), dtype=float)"
   ]
  },
  {
   "cell_type": "markdown",
   "metadata": {},
   "source": [
    "高维稀疏性：\n",
    "独热编码会将每个类别转换为一个二进制向量，如果类别数量很多，会导致数据维度急剧增加，产生高维稀疏矩阵。\n",
    "解决方法：使用特征选择或降维技术（如 PCA）。\n",
    "\n",
    "多重共线性：\n",
    "独热编码后的特征之间存在线性关系（例如，Color_Red + Color_Green + Color_Blue = 1），这可能导致模型不稳定。\n",
    "解决方法：删除一个类别（设置 drop_first=True）。\n",
    "\n",
    "类别不平衡：\n",
    "如果某些类别出现频率极低，独热编码可能会导致模型过拟合。\n",
    "解决方法：合并低频类别或使用其他编码方法（如目标编码）"
   ]
  }
 ],
 "metadata": {
  "kernelspec": {
   "display_name": "tf2",
   "language": "python",
   "name": "python3"
  },
  "language_info": {
   "codemirror_mode": {
    "name": "ipython",
    "version": 3
   },
   "file_extension": ".py",
   "mimetype": "text/x-python",
   "name": "python",
   "nbconvert_exporter": "python",
   "pygments_lexer": "ipython3",
   "version": "3.1.0"
  },
  "orig_nbformat": 4
 },
 "nbformat": 4,
 "nbformat_minor": 2
}
