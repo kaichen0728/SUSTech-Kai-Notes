{
 "cells": [
  {
   "cell_type": "markdown",
   "metadata": {},
   "source": [
    "# Function"
   ]
  },
  {
   "cell_type": "code",
   "execution_count": 13,
   "metadata": {},
   "outputs": [],
   "source": [
    "def list_to_dict(list_name):\n",
    "    result={}\n",
    "    for index, name in enumerate(list_name):\n",
    "        result[index]=name\n",
    "    return result\n",
    "list_name1=['xiaoming','xiaohong','xiaoli']\n",
    "tuple_name1=('xiaoming','xiaohong','xiaoli')"
   ]
  },
  {
   "cell_type": "code",
   "execution_count": 14,
   "metadata": {},
   "outputs": [
    {
     "name": "stdout",
     "output_type": "stream",
     "text": [
      "{0: 'xiaoming', 1: 'xiaohong', 2: 'xiaoli'}\n",
      "{0: 'xiaoming', 1: 'xiaohong', 2: 'xiaoli'}\n"
     ]
    }
   ],
   "source": [
    "print(list_to_dict(list_name1))\n",
    "print(list_to_dict(tuple_name1))"
   ]
  },
  {
   "cell_type": "code",
   "execution_count": 3,
   "metadata": {},
   "outputs": [],
   "source": [
    "Tel_number=\"13821908711\"\n",
    "def hidden_number(number):\n",
    "    print(number[:3] + '*'*4 + number[-4:])"
   ]
  },
  {
   "cell_type": "code",
   "execution_count": 5,
   "metadata": {},
   "outputs": [
    {
     "name": "stdout",
     "output_type": "stream",
     "text": [
      "138****8711\n"
     ]
    }
   ],
   "source": [
    "hidden_number(Tel_number)"
   ]
  },
  {
   "cell_type": "code",
   "execution_count": 6,
   "metadata": {},
   "outputs": [],
   "source": [
    "number = 5.0"
   ]
  },
  {
   "cell_type": "code",
   "execution_count": 7,
   "metadata": {},
   "outputs": [
    {
     "data": {
      "text/plain": [
       "5.0"
      ]
     },
     "execution_count": 7,
     "metadata": {},
     "output_type": "execute_result"
    }
   ],
   "source": [
    "number"
   ]
  },
  {
   "cell_type": "code",
   "execution_count": null,
   "metadata": {},
   "outputs": [],
   "source": [
    "del number # 删除变量"
   ]
  },
  {
   "cell_type": "code",
   "execution_count": 9,
   "metadata": {},
   "outputs": [
    {
     "ename": "NameError",
     "evalue": "name 'number' is not defined",
     "output_type": "error",
     "traceback": [
      "\u001b[0;31m---------------------------------------------------------------------------\u001b[0m",
      "\u001b[0;31mNameError\u001b[0m                                 Traceback (most recent call last)",
      "Cell \u001b[0;32mIn[9], line 1\u001b[0m\n\u001b[0;32m----> 1\u001b[0m number\n",
      "\u001b[0;31mNameError\u001b[0m: name 'number' is not defined"
     ]
    }
   ],
   "source": [
    "number"
   ]
  },
  {
   "cell_type": "markdown",
   "metadata": {},
   "source": [
    "多个参数传入：\n",
    "1. 按位置顺序传入；\n",
    "2. 关键词传入；\n",
    "3. 可能有默认参数,但仍可以每个参数赋值；\n",
    "4. 不定长度参数；"
   ]
  },
  {
   "cell_type": "code",
   "execution_count": 1,
   "metadata": {},
   "outputs": [
    {
     "name": "stdout",
     "output_type": "stream",
     "text": [
      "5\n",
      "4\n"
     ]
    }
   ],
   "source": [
    "def poly(x,y):\n",
    "    return x + 2 * y\n",
    "print(poly(1,2))\n",
    "print(poly(y=1,x=2))"
   ]
  },
  {
   "cell_type": "code",
   "execution_count": 2,
   "metadata": {},
   "outputs": [
    {
     "name": "stdout",
     "output_type": "stream",
     "text": [
      "1\n",
      "5\n"
     ]
    }
   ],
   "source": [
    "def poly(x,y=0):\n",
    "    return x + 2 * y\n",
    "print(poly(x=1))\n",
    "print(poly(1,2))"
   ]
  },
  {
   "cell_type": "code",
   "execution_count": 4,
   "metadata": {},
   "outputs": [
    {
     "name": "stdout",
     "output_type": "stream",
     "text": [
      "8\n"
     ]
    }
   ],
   "source": [
    "def poly(x, *args):\n",
    "    for item in args:\n",
    "        x += item*2\n",
    "    return x\n",
    "print(poly(2,1,2))"
   ]
  },
  {
   "cell_type": "code",
   "execution_count": 7,
   "metadata": {},
   "outputs": [
    {
     "name": "stdout",
     "output_type": "stream",
     "text": [
      "Hi there, Bob!\n",
      "Good morning, Charlie!\n",
      "Hello, David!\n"
     ]
    }
   ],
   "source": [
    "def greet(name, message=\"Hello\"):\n",
    "    print(f\"{message}, {name}!\")\n",
    "\n",
    "greet(message=\"Hi there\", name=\"Bob\")  # 通过参数名指定参数，顺序可以颠倒\n",
    "greet(\"Charlie\", message=\"Good morning\")  # 混合使用位置参数和关键字参数\n",
    "greet(name=\"David\")  # 只传入 name，message 使用默认值 \"Hello\""
   ]
  },
  {
   "cell_type": "markdown",
   "metadata": {},
   "source": [
    "### Practice 1"
   ]
  },
  {
   "cell_type": "code",
   "execution_count": 4,
   "metadata": {},
   "outputs": [
    {
     "name": "stdout",
     "output_type": "stream",
     "text": [
      "underweight\n"
     ]
    }
   ],
   "source": [
    "def bmi(a,b):\n",
    "    return b/(a**2)\n",
    "\n",
    "h=float(input(\"please input your height(m):\"))\n",
    "w=float(input(\"please input your weight(kg):\"))\n",
    "\n",
    "if bmi(h,w) < 18.5:\n",
    "    print(\"underweight\")\n",
    "elif bmi(h,w) > 25:\n",
    "    print(\"overweight\")\n",
    "else:\n",
    "    print(\"normal\")\n"
   ]
  },
  {
   "cell_type": "code",
   "execution_count": 8,
   "metadata": {},
   "outputs": [
    {
     "name": "stdout",
     "output_type": "stream",
     "text": [
      "20.0177299894192\n",
      "20.0177299894192\n",
      "normal\n"
     ]
    }
   ],
   "source": [
    "def bmi(w,h=1.8):\n",
    "    print (w/(h**2))\n",
    "    return w/(h**2)\n",
    "\n",
    "h=float(input(\"please input your height(m):\"))\n",
    "w=float(input(\"please input your weight(kg):\"))\n",
    "\n",
    "if bmi(w,h) < 18.5:\n",
    "    print(\"underweight\")\n",
    "elif bmi(w,h) > 25:\n",
    "    print(\"overweight\")\n",
    "else:\n",
    "    print(\"normal\")\n"
   ]
  },
  {
   "cell_type": "markdown",
   "metadata": {},
   "source": [
    "## Lambda函数"
   ]
  },
  {
   "cell_type": "code",
   "execution_count": null,
   "metadata": {},
   "outputs": [
    {
     "name": "stdout",
     "output_type": "stream",
     "text": [
      "9\n"
     ]
    }
   ],
   "source": [
    "square = lambda x: x**2\n",
    "print(square(3))\n",
    "\n",
    "# 简化代码\n",
    "# 适合只使用一次的某函数的场景\n",
    "# 作为参数传递给其他函数"
   ]
  },
  {
   "cell_type": "code",
   "execution_count": 13,
   "metadata": {},
   "outputs": [
    {
     "name": "stdout",
     "output_type": "stream",
     "text": [
      "[1, 4, 9, 16, 25]\n",
      "[2, 4]\n",
      "['apple', 'banana', 'cherry']\n",
      "20\n"
     ]
    }
   ],
   "source": [
    "# 使用 lambda 函数作为 map() 函数的参数\n",
    "numbers = [1, 2, 3, 4, 5]\n",
    "squared_numbers = list(map(lambda x: x**2, numbers))\n",
    "print(squared_numbers)  # 输出：[1, 4, 9, 16, 25]\n",
    "\n",
    "# 使用 lambda 函数作为 filter() 函数的参数\n",
    "even_numbers = list(filter(lambda x: x % 2 == 0, numbers))\n",
    "print(even_numbers)  # 输出：[2, 4]\n",
    "\n",
    "# 使用 lambda 函数作为 sorted() 函数的参数\n",
    "words = [\"apple\", \"banana\", \"cherry\"]\n",
    "sorted_words = sorted(words, key=lambda x: len(x))\n",
    "print(sorted_words)  # 输出：['apple', 'banana', 'cherry']\n",
    "\n",
    "# 自定义函数，接受一个函数作为参数\n",
    "def apply_function(func, value):\n",
    "  return func(value)\n",
    "\n",
    "# 使用 lambda 函数作为自定义函数的参数\n",
    "result = apply_function(lambda x: x * 2, 10)\n",
    "print(result)  # 输出：20"
   ]
  },
  {
   "cell_type": "markdown",
   "metadata": {},
   "source": [
    "### Practice 2"
   ]
  },
  {
   "cell_type": "code",
   "execution_count": 15,
   "metadata": {},
   "outputs": [
    {
     "name": "stdout",
     "output_type": "stream",
     "text": [
      "[30.864197530864196, 21.604938271604937, 23.148148148148145, 24.691358024691358, 40.123456790123456, 27.160493827160494, 29.012345679012345, 25.0, 46.29629629629629, 33.95061728395061]\n"
     ]
    }
   ],
   "source": [
    "W_s = [100,70,75,80,130,88,94,81,150,110]\n",
    "BMI_s = list(map(lambda w:w/(1.8**2),W_s))\n",
    "print(BMI_s)"
   ]
  },
  {
   "cell_type": "markdown",
   "metadata": {},
   "source": [
    "map函数返回的是一个map object（迭代器），要使用list函数转为list数据类型才能输出list格式。"
   ]
  },
  {
   "cell_type": "markdown",
   "metadata": {},
   "source": [
    "# Numpy"
   ]
  },
  {
   "cell_type": "code",
   "execution_count": 10,
   "metadata": {},
   "outputs": [],
   "source": [
    "import numpy as np\n",
    "\n",
    "# 核心数据结构是 ND-Array -- 多维数组"
   ]
  },
  {
   "cell_type": "code",
   "execution_count": 11,
   "metadata": {},
   "outputs": [
    {
     "name": "stdout",
     "output_type": "stream",
     "text": [
      "[[0. 0.]\n",
      " [0. 0.]\n",
      " [0. 0.]]\n",
      "[[1. 1.]\n",
      " [1. 1.]\n",
      " [1. 1.]]\n"
     ]
    }
   ],
   "source": [
    "print(np.zeros((3,2)))\n",
    "print(np.ones((3,2)))"
   ]
  },
  {
   "cell_type": "code",
   "execution_count": 12,
   "metadata": {},
   "outputs": [
    {
     "name": "stdout",
     "output_type": "stream",
     "text": [
      "[0 1 2 3 4 5 6 7 8 9]\n"
     ]
    }
   ],
   "source": [
    "x=np.arange(0,10,1)\n",
    "print(x)"
   ]
  },
  {
   "cell_type": "code",
   "execution_count": 14,
   "metadata": {},
   "outputs": [
    {
     "name": "stdout",
     "output_type": "stream",
     "text": [
      "[[1. 1. 1. 1.]\n",
      " [1. 1. 1. 1.]\n",
      " [1. 1. 1. 1.]]\n",
      "2\n",
      "(3, 4)\n",
      "12\n"
     ]
    }
   ],
   "source": [
    "z=np.ones((3,4))\n",
    "print(z)\n",
    "\n",
    "print(z.ndim) # dimension\n",
    "print(z.shape) # shape\n",
    "print(z.size) # size"
   ]
  },
  {
   "cell_type": "code",
   "execution_count": 17,
   "metadata": {},
   "outputs": [
    {
     "name": "stdout",
     "output_type": "stream",
     "text": [
      "[[1 2 3]\n",
      " [4 5 6]]\n",
      "----\n",
      "[1 4]\n",
      "----\n",
      "[1 2 3]\n",
      "----\n",
      "1\n",
      "----\n",
      "[[1 2]\n",
      " [4 5]]\n"
     ]
    }
   ],
   "source": [
    "x=np.array([1,2,3,4,5,6]).reshape(2,3)\n",
    "print(x)\n",
    "print(\"----\")\n",
    "print(x[:,0]) # 第一列\n",
    "print(\"----\")\n",
    "print(x[0,:]) # 第一行\n",
    "print(\"----\")\n",
    "print(x[0,0]) # 第一个元素\n",
    "print(\"----\")\n",
    "print(x[0:2,0:2])"
   ]
  },
  {
   "cell_type": "code",
   "execution_count": 18,
   "metadata": {},
   "outputs": [
    {
     "name": "stdout",
     "output_type": "stream",
     "text": [
      "[[1 2 3]\n",
      " [1 2 3]]\n",
      "[1 2 3 1 2 3]\n"
     ]
    }
   ],
   "source": [
    "x=np.array([1,2,3])\n",
    "y=np.array([1,2,3])\n",
    "\n",
    "z=np.vstack((x,y))\n",
    "print(z)\n",
    "\n",
    "z_2=np.hstack((x,y))\n",
    "print(z_2)"
   ]
  },
  {
   "cell_type": "markdown",
   "metadata": {},
   "source": [
    "## Visualization"
   ]
  },
  {
   "cell_type": "code",
   "execution_count": 19,
   "metadata": {},
   "outputs": [],
   "source": [
    "import matplotlib.pyplot as plt\n",
    "import numpy as np"
   ]
  },
  {
   "cell_type": "code",
   "execution_count": 20,
   "metadata": {},
   "outputs": [
    {
     "data": {
      "text/plain": [
       "array([-6.        , -5.87878788, -5.75757576, -5.63636364, -5.51515152,\n",
       "       -5.39393939, -5.27272727, -5.15151515, -5.03030303, -4.90909091,\n",
       "       -4.78787879, -4.66666667, -4.54545455, -4.42424242, -4.3030303 ,\n",
       "       -4.18181818, -4.06060606, -3.93939394, -3.81818182, -3.6969697 ,\n",
       "       -3.57575758, -3.45454545, -3.33333333, -3.21212121, -3.09090909,\n",
       "       -2.96969697, -2.84848485, -2.72727273, -2.60606061, -2.48484848,\n",
       "       -2.36363636, -2.24242424, -2.12121212, -2.        , -1.87878788,\n",
       "       -1.75757576, -1.63636364, -1.51515152, -1.39393939, -1.27272727,\n",
       "       -1.15151515, -1.03030303, -0.90909091, -0.78787879, -0.66666667,\n",
       "       -0.54545455, -0.42424242, -0.3030303 , -0.18181818, -0.06060606,\n",
       "        0.06060606,  0.18181818,  0.3030303 ,  0.42424242,  0.54545455,\n",
       "        0.66666667,  0.78787879,  0.90909091,  1.03030303,  1.15151515,\n",
       "        1.27272727,  1.39393939,  1.51515152,  1.63636364,  1.75757576,\n",
       "        1.87878788,  2.        ,  2.12121212,  2.24242424,  2.36363636,\n",
       "        2.48484848,  2.60606061,  2.72727273,  2.84848485,  2.96969697,\n",
       "        3.09090909,  3.21212121,  3.33333333,  3.45454545,  3.57575758,\n",
       "        3.6969697 ,  3.81818182,  3.93939394,  4.06060606,  4.18181818,\n",
       "        4.3030303 ,  4.42424242,  4.54545455,  4.66666667,  4.78787879,\n",
       "        4.90909091,  5.03030303,  5.15151515,  5.27272727,  5.39393939,\n",
       "        5.51515152,  5.63636364,  5.75757576,  5.87878788,  6.        ])"
      ]
     },
     "execution_count": 20,
     "metadata": {},
     "output_type": "execute_result"
    }
   ],
   "source": [
    "x_values = np.linspace(-6, 6, 100)\n",
    "x_values"
   ]
  },
  {
   "cell_type": "code",
   "execution_count": 21,
   "metadata": {},
   "outputs": [],
   "source": [
    "def normal_density(mu, sigma, x):\n",
    "    return 1/(sigma * np.sqrt(2 * np.pi)) * np.exp(-0.5 * ((x - mu) / sigma) ** 2)"
   ]
  },
  {
   "cell_type": "code",
   "execution_count": 22,
   "metadata": {},
   "outputs": [],
   "source": [
    "y1=normal_density(0,1,x_values)\n",
    "y2=normal_density(0,0.4,x_values)\n",
    "y3=normal_density(-3,0.5,x_values)"
   ]
  },
  {
   "cell_type": "code",
   "execution_count": 27,
   "metadata": {},
   "outputs": [
    {
     "data": {
      "image/png": "[encoded data removed]",
      "text/plain": [
       "<Figure size 1000x600 with 1 Axes>"
      ]
     },
     "metadata": {},
     "output_type": "display_data"
    }
   ],
   "source": [
    "plt.figure(figsize = (10,6))\n",
    "\n",
    "plt.plot(x_values, y1, 'green', label = r'$\\mathcal{N}(0,1)$')\n",
    "plt.plot(x_values, y2, 'blue', label = r'$\\mathcal{N}(0,0.4)$')\n",
    "plt.plot(x_values, y3, 'orange', label = r'$\\mathcal{N}(-3,0.5)$')\n",
    "\n",
    "plt.yticks(np.arange(0,1.1,0.1))\n",
    "plt.xticks(np.arange(-6,7,1))\n",
    "\n",
    "plt.xlabel(r'$x$')\n",
    "plt.ylabel(r'$f(x)$', rotation=0, labelpad=20)\n",
    "\n",
    "plt.title('Normal Distribution')\n",
    "\n",
    "plt.legend()\n",
    "\n",
    "plt.show()"
   ]
  }
 ],
 "metadata": {
  "kernelspec": {
   "display_name": "base",
   "language": "python",
   "name": "python3"
  },
  "language_info": {
   "codemirror_mode": {
    "name": "ipython",
    "version": 3
   },
   "file_extension": ".py",
   "mimetype": "text/x-python",
   "name": "python",
   "nbconvert_exporter": "python",
   "pygments_lexer": "ipython3",
   "version": "3.12.7"
  }
 },
 "nbformat": 4,
 "nbformat_minor": 2
}
